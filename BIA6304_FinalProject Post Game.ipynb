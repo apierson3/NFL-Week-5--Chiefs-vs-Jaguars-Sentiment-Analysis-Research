{
 "cells": [
  {
   "cell_type": "markdown",
   "metadata": {
    "colab_type": "text",
    "id": "lb1CylJxx-A5"
   },
   "source": [
    "# BIA 6304 Final Project - Post game analysis\n",
    "\n",
    "## By Andrew Pierson and Kristopher Profit\n",
    "\n",
    "The Kansas City Chiefs football team is debateably one of the hottest teams in the NFL, with 4 wins and 0 losses during 1 home game and 3 away games. "
   ]
  },
  {
   "cell_type": "markdown",
   "metadata": {
    "colab_type": "text",
    "id": "ZVrXObqF3Auq"
   },
   "source": [
    "### Import Packages and Data"
   ]
  },
  {
   "cell_type": "code",
   "execution_count": 0,
   "metadata": {
    "colab": {},
    "colab_type": "code",
    "id": "2atC5Cdwx2fZ"
   },
   "outputs": [],
   "source": [
    "# import module(s) into namespace\n",
    "import pandas as pd   #we almost always need pandas because we like data frames\n",
    "from bs4 import BeautifulSoup\n",
    "import requests\n",
    "import csv\n",
    "from __future__ import division\n",
    "pd.set_option('display.max_colwidth', 150) "
   ]
  },
  {
   "cell_type": "code",
   "execution_count": 2,
   "metadata": {
    "colab": {
     "base_uri": "https://localhost:8080/",
     "height": 354
    },
    "colab_type": "code",
    "id": "3HEznOQh29mB",
    "outputId": "928a8d9d-7ac0-4313-95f9-c392cadcf2d1"
   },
   "outputs": [
    {
     "name": "stdout",
     "output_type": "stream",
     "text": [
      "Collecting tweepy\n",
      "  Downloading https://files.pythonhosted.org/packages/05/f1/2e8c7b202dd04117a378ac0c55cc7dafa80280ebd7f692f1fa8f27fd6288/tweepy-3.6.0-py2.py3-none-any.whl\n",
      "Requirement already satisfied: requests-oauthlib>=0.7.0 in /usr/local/lib/python3.6/dist-packages (from tweepy) (1.0.0)\n",
      "Requirement already satisfied: six>=1.10.0 in /usr/local/lib/python3.6/dist-packages (from tweepy) (1.11.0)\n",
      "Collecting PySocks>=1.5.7 (from tweepy)\n",
      "\u001b[?25l  Downloading https://files.pythonhosted.org/packages/53/12/6bf1d764f128636cef7408e8156b7235b150ea31650d0260969215bb8e7d/PySocks-1.6.8.tar.gz (283kB)\n",
      "\u001b[K    100% |████████████████████████████████| 286kB 6.9MB/s \n",
      "\u001b[?25hRequirement already satisfied: requests>=2.11.1 in /usr/local/lib/python3.6/dist-packages (from tweepy) (2.18.4)\n",
      "Requirement already satisfied: oauthlib>=0.6.2 in /usr/local/lib/python3.6/dist-packages (from requests-oauthlib>=0.7.0->tweepy) (2.1.0)\n",
      "Requirement already satisfied: certifi>=2017.4.17 in /usr/local/lib/python3.6/dist-packages (from requests>=2.11.1->tweepy) (2018.8.24)\n",
      "Requirement already satisfied: chardet<3.1.0,>=3.0.2 in /usr/local/lib/python3.6/dist-packages (from requests>=2.11.1->tweepy) (3.0.4)\n",
      "Requirement already satisfied: idna<2.7,>=2.5 in /usr/local/lib/python3.6/dist-packages (from requests>=2.11.1->tweepy) (2.6)\n",
      "Requirement already satisfied: urllib3<1.23,>=1.21.1 in /usr/local/lib/python3.6/dist-packages (from requests>=2.11.1->tweepy) (1.22)\n",
      "Building wheels for collected packages: PySocks\n",
      "  Running setup.py bdist_wheel for PySocks ... \u001b[?25l-\b \bdone\n",
      "\u001b[?25h  Stored in directory: /root/.cache/pip/wheels/22/5c/b5/12e0dfdfa85bea67b23628b6425fae715c687e947a45ee3df9\n",
      "Successfully built PySocks\n",
      "Installing collected packages: PySocks, tweepy\n",
      "Successfully installed PySocks-1.6.8 tweepy-3.6.0\n"
     ]
    }
   ],
   "source": [
    "!pip install tweepy\n",
    "import tweepy\n",
    "from tweepy import OAuthHandler\n",
    "\n",
    "\n",
    "consumer_key =  'YjZ77yjePvArLtnp4WOBJm6fP'\n",
    "consumer_secret = 'VIiA3zN1jntdab1QRDEYjCZ4gYAa8tU1mxi3LMqjqjmHMz7iVm'\n",
    "access_token= '1032395859898626050-WBTdOzBydYK4odmPXy9Ngx5JVLMYTz'\n",
    "access_secret= 'XnbpZvdNWxHShzdnlrDkyyuxcMJbPQraWFIIdt1IgfWxu'\n",
    "\n",
    "auth = OAuthHandler(consumer_key, consumer_secret)\n",
    "auth.set_access_token(access_token, access_secret)\n",
    " \n",
    "\n",
    "\n",
    "api = tweepy.API(auth)"
   ]
  },
  {
   "cell_type": "code",
   "execution_count": 3,
   "metadata": {
    "colab": {
     "base_uri": "https://localhost:8080/",
     "height": 52
    },
    "colab_type": "code",
    "id": "FvTMf77y4dS-",
    "outputId": "8582d1a2-e39f-46aa-aeeb-1eff31c422b4"
   },
   "outputs": [
    {
     "name": "stdout",
     "output_type": "stream",
     "text": [
      "API Call Output Type:  <class 'list'>\n",
      "Tweet Objects:  1500\n"
     ]
    }
   ],
   "source": [
    "#Define an empty dataframe to create a list of tweets that can be printed\n",
    "results = []\n",
    "\n",
    "#Define the variables to be used in the api search\n",
    "latitude = 39.0427\n",
    "longitude = -94.4837\n",
    "max_range = 50\n",
    "hashtag = '#Chiefs'\n",
    "\n",
    "#Get the first 5000 items based on the search query\n",
    "for tweet in tweepy.Cursor(api.search, q = hashtag, geocode = '%f,%f,%dkm' % (latitude, longitude, max_range) ).items(1500):\n",
    "    results.append(tweet)\n",
    "\n",
    "#Verify the number of list items is 1500\n",
    "print('API Call Output Type: ', type(results))\n",
    "print('Tweet Objects: ', len(results))"
   ]
  },
  {
   "cell_type": "markdown",
   "metadata": {
    "colab_type": "text",
    "id": "wKCM863CodUf"
   },
   "source": [
    "Calling Jacksonville by the county it rests in, Duval, was popularized by rappers in the 1990s, and it has slowly crept its way into game day at EverBank Field.\n",
    "\n",
    "\"Duuuval!\" became a rallying cry for Jags since beginning in the early '00s. We will use this commonly used hashtag in order to avoid confusion with tweets about the animal. "
   ]
  },
  {
   "cell_type": "code",
   "execution_count": 4,
   "metadata": {
    "colab": {
     "base_uri": "https://localhost:8080/",
     "height": 52
    },
    "colab_type": "code",
    "id": "sK3VmZzp43pn",
    "outputId": "5376f890-de7a-4683-b1e0-7dee455cad23"
   },
   "outputs": [
    {
     "name": "stdout",
     "output_type": "stream",
     "text": [
      "API Call Output Type:  <class 'list'>\n",
      "Tweet Objects:  1500\n"
     ]
    }
   ],
   "source": [
    "#Define an empty dataframe to create a list of tweets that can be printed\n",
    "results2 = []\n",
    "\n",
    "#Define the variables to be used in the api search\n",
    "latitude2 = 30.3322\n",
    "longitude2 = -81.6557\n",
    "max_range2 = 50\n",
    "hashtag2 = '#DUUUVAL'\n",
    "\n",
    "#Get the first 1500 items based on the search query\n",
    "for tweet in tweepy.Cursor(api.search, q = hashtag2, geocode = '%f,%f,%dkm' % (latitude2, longitude2, max_range2) ).items(1500):\n",
    "    results2.append(tweet)\n",
    "\n",
    "#Verify the number of list items is 1500\n",
    "print('API Call Output Type: ', type(results2))\n",
    "print('Tweet Objects: ', len(results2))"
   ]
  },
  {
   "cell_type": "markdown",
   "metadata": {
    "colab_type": "text",
    "id": "xezNnZD55fLF"
   },
   "source": [
    "## Choose Tweet Objects to mine"
   ]
  },
  {
   "cell_type": "markdown",
   "metadata": {
    "colab_type": "text",
    "id": "6d7sKDHwdjwA"
   },
   "source": [
    "* Hashtags included in tweet objects will be important in this project when identifying fanbase loyalty.\n",
    "* A total count of all of a user's tweets (including retweets and quote tweets) could be closely related to the number of a user's followers. In addition, users that have suspiciously small status counts might be omitted from the analysis due to misrepresentation of tweet population sample or because they are spam accounts.\n",
    "* The verified tweet object is a boolean value that distinguishes people of interest, such as celebrities or politicians, from normal twitter users.\n",
    "* Mentions on a tweet will help keep us informed of what people are sharing with others about The Kansas City Chiefs' Organization.\n",
    "* The language on a majority of these tweets will likely be English (en), other languages have a higher chance of misrepresenting our sample data by including irrelevant tweet objects.\n",
    "* I chose to include the text object from tweets that contain '#Chiefs' in order to find twitter users interested in the NFL team during the Kansas City Chiefs' preseason. This object was also chosen because it will likely provide insightful text that can be used to determine the underlying sentiment of a user towards the Chiefs. \n",
    "* The next two tweet objects that I chose to include in my data frame were the retweet and favorite counts for tweets including '#Chiefs' in their tags. Retweet and favorite counts can be useful when analyzing popularity of a tweet and will likely require different weights if a user is favoriting tweets more often than retweeting. \n",
    "* Including the created_at tweet object was done in order to allow the data frame to be sorted in chronological order upon anlysis. This might show trends in popularity or sentiment depending upon the Chiefs performance after a game. \n",
    "* A user's name and account description might also allow us to predict the tweet's sentiment, which is why I chose to mine user.name and user.description tweet objects. A case in which this may occur is if an opposing team's fans are including \"#Chiefs\" in a tweet that has a negative connotation. \n",
    "* The user.followers_count object was also  included and could provide interesting information, analyzing this using a forecasting method may indicate impressions on other users. \n"
   ]
  },
  {
   "cell_type": "code",
   "execution_count": 0,
   "metadata": {
    "colab": {},
    "colab_type": "code",
    "id": "lkdfpce444gC"
   },
   "outputs": [],
   "source": [
    "#Create a function to convert a given list of tweets into a Pandas DataFrame\n",
    "#The DataFrame will consist of only chosen values below\n",
    "\n",
    "def toDataFrame(tweets):\n",
    "\n",
    "    DataSet = pd.DataFrame()\n",
    "\n",
    "    DataSet['TweetHashtags'] = [tweet.entities.get('hashtags') for tweet in tweets]\n",
    "    DataSet['UserStatusCount'] = [tweet.user.statuses_count for tweet in tweets]\n",
    "    DataSet['UserVerified'] = [tweet.user.verified for tweet in tweets]\n",
    "    #DataSet['TweetMentions'] = [tweet.entities.get('user_mentions') for tweet in tweets]\n",
    "    DataSet['TweetLanguage'] = [tweet.lang for tweet in tweets]\n",
    "    DataSet['TweetText'] = [tweet.text for tweet in tweets]\n",
    "    DataSet['TweetRetweetCount'] = [tweet.retweet_count for tweet in tweets]\n",
    "    DataSet['TweetFavoriteCount'] = [tweet.favorite_count for tweet in tweets]\n",
    "    DataSet['TweetCreated'] = [tweet.created_at for tweet in tweets]\n",
    "    #DataSet['userName'] = [tweet.user.name for tweet in tweets]\n",
    "    DataSet['userDesc'] = [tweet.user.description for tweet in tweets]\n",
    "    #DataSet['UserFollowerCount'] = [tweet.user.followers_count for tweet in tweets]\n",
    "\n",
    "    return DataSet"
   ]
  },
  {
   "cell_type": "markdown",
   "metadata": {
    "colab_type": "text",
    "id": "yByGgPRk56QE"
   },
   "source": [
    "## Create and Populate Data Frames"
   ]
  },
  {
   "cell_type": "markdown",
   "metadata": {
    "colab_type": "text",
    "id": "wcFzsK9WkMgz"
   },
   "source": [
    "### Chiefs Data Frame"
   ]
  },
  {
   "cell_type": "code",
   "execution_count": 6,
   "metadata": {
    "colab": {
     "base_uri": "https://localhost:8080/",
     "height": 34
    },
    "colab_type": "code",
    "id": "J9ggz_QR54aQ",
    "outputId": "e832ed36-c59a-4b28-b274-c8f9155c0dc0"
   },
   "outputs": [
    {
     "name": "stdout",
     "output_type": "stream",
     "text": [
      "Dataframe Shape (Rows, Columns):  (1500, 9)\n"
     ]
    }
   ],
   "source": [
    "#Pass the tweets list to create a DataFrame\n",
    "chiefs_frame = toDataFrame(results)\n",
    "print('Dataframe Shape (Rows, Columns): ', chiefs_frame.shape)"
   ]
  },
  {
   "cell_type": "code",
   "execution_count": 7,
   "metadata": {
    "colab": {
     "base_uri": "https://localhost:8080/",
     "height": 212
    },
    "colab_type": "code",
    "id": "AGwq6dXn6C_t",
    "outputId": "1344e0c3-2f94-4565-8ce7-58b0fbfa4a10"
   },
   "outputs": [
    {
     "data": {
      "text/plain": [
       "0    Our Kansas City #Chiefs advance to 5-0!!! Love watching this team this year! Not sure if it's the luxury of youth o… https://t.co/02RxZtoTr9\n",
       "1                                                                     5-0 #ChiefsKingdom #Chiefs\\n\\nCoach, your thoughts? https://t.co/KuloY7ubHu\n",
       "2     A lot of fraterinizing between #chiefs and #jaguar players after the game. Kelce took off his jersey and signed it… https://t.co/d3nrSzxj0S\n",
       "3                                        RT @JoshVernier610: We’re halfway to finding out what Jags defender Telvon Smith found so funny. #Chiefs\n",
       "4    RT @jbbrisco: The #Chiefs now have the tiebreakers over the Broncos, Chargers, Steelers and Jaguars. Next week, they’ll have a chance to ta…\n",
       "5                                                                               Tyreek Hill, #Chiefs “Return Specialist”. https://t.co/FYp0KNyJgM\n",
       "6                                                                                 #CHIEFS WIN BABY!!!!!!!!!!!!!!!!! 5-0 ON THAT ASS!!!!!!!!!!!!!!\n",
       "7                           RT @TheChiefsWire: #Chiefs OLB Dee Ford disqualified following second unsportsmanlike penalty https://t.co/3BVL3i8Fmx\n",
       "8                                   #Chiefs Win! #KC is 5-0! 🔥\\n\\n🏈  Chiefs Tickets on Sale Now 👉 https://t.co/XojrKc3Wah https://t.co/AVixbVLYw9\n",
       "9    RT @jbbrisco: The #Chiefs now have the tiebreakers over the Broncos, Chargers, Steelers and Jaguars. Next week, they’ll have a chance to ta…\n",
       "Name: TweetText, dtype: object"
      ]
     },
     "execution_count": 7,
     "metadata": {
      "tags": []
     },
     "output_type": "execute_result"
    }
   ],
   "source": [
    "chiefs_frame['TweetText'][0:10]"
   ]
  },
  {
   "cell_type": "code",
   "execution_count": 8,
   "metadata": {
    "colab": {
     "base_uri": "https://localhost:8080/",
     "height": 497
    },
    "colab_type": "code",
    "id": "91wAFrsq6G77",
    "outputId": "bd807f9e-aa8a-42cc-f886-3d910c86d44b"
   },
   "outputs": [
    {
     "data": {
      "text/html": [
       "<div>\n",
       "<style scoped>\n",
       "    .dataframe tbody tr th:only-of-type {\n",
       "        vertical-align: middle;\n",
       "    }\n",
       "\n",
       "    .dataframe tbody tr th {\n",
       "        vertical-align: top;\n",
       "    }\n",
       "\n",
       "    .dataframe thead th {\n",
       "        text-align: right;\n",
       "    }\n",
       "</style>\n",
       "<table border=\"1\" class=\"dataframe\">\n",
       "  <thead>\n",
       "    <tr style=\"text-align: right;\">\n",
       "      <th></th>\n",
       "      <th>TweetHashtags</th>\n",
       "      <th>UserStatusCount</th>\n",
       "      <th>UserVerified</th>\n",
       "      <th>TweetLanguage</th>\n",
       "      <th>TweetText</th>\n",
       "      <th>TweetRetweetCount</th>\n",
       "      <th>TweetFavoriteCount</th>\n",
       "      <th>TweetCreated</th>\n",
       "      <th>userDesc</th>\n",
       "    </tr>\n",
       "  </thead>\n",
       "  <tbody>\n",
       "    <tr>\n",
       "      <th>0</th>\n",
       "      <td>[{'text': 'Chiefs', 'indices': [16, 23]}]</td>\n",
       "      <td>16260</td>\n",
       "      <td>False</td>\n",
       "      <td>en</td>\n",
       "      <td>Our Kansas City #Chiefs advance to 5-0!!! Love watching this team this year! Not sure if it's the luxury of youth o… https://t.co/02RxZtoTr9</td>\n",
       "      <td>0</td>\n",
       "      <td>0</td>\n",
       "      <td>2018-10-07 20:33:16</td>\n",
       "      <td>Lover of pizza, beer &amp; all things Kansas City. #Royals #Chiefs</td>\n",
       "    </tr>\n",
       "    <tr>\n",
       "      <th>1</th>\n",
       "      <td>[{'text': 'ChiefsKingdom', 'indices': [4, 18]}, {'text': 'Chiefs', 'indices': [19, 26]}]</td>\n",
       "      <td>8263</td>\n",
       "      <td>False</td>\n",
       "      <td>en</td>\n",
       "      <td>5-0 #ChiefsKingdom #Chiefs\\n\\nCoach, your thoughts? https://t.co/KuloY7ubHu</td>\n",
       "      <td>0</td>\n",
       "      <td>1</td>\n",
       "      <td>2018-10-07 20:32:47</td>\n",
       "      <td>Big K-State, Chiefs, Cubs, and Royals fan! Big sports fan in general!  I try to look at things objectively.</td>\n",
       "    </tr>\n",
       "    <tr>\n",
       "      <th>2</th>\n",
       "      <td>[{'text': 'chiefs', 'indices': [31, 38]}, {'text': 'jaguar', 'indices': [43, 50]}]</td>\n",
       "      <td>5146</td>\n",
       "      <td>False</td>\n",
       "      <td>en</td>\n",
       "      <td>A lot of fraterinizing between #chiefs and #jaguar players after the game. Kelce took off his jersey and signed it… https://t.co/d3nrSzxj0S</td>\n",
       "      <td>0</td>\n",
       "      <td>0</td>\n",
       "      <td>2018-10-07 20:32:43</td>\n",
       "      <td>Royals, Chiefs and Mizzou Tiger fan.</td>\n",
       "    </tr>\n",
       "    <tr>\n",
       "      <th>3</th>\n",
       "      <td>[{'text': 'Chiefs', 'indices': [97, 104]}]</td>\n",
       "      <td>3825</td>\n",
       "      <td>False</td>\n",
       "      <td>en</td>\n",
       "      <td>RT @JoshVernier610: We’re halfway to finding out what Jags defender Telvon Smith found so funny. #Chiefs</td>\n",
       "      <td>44</td>\n",
       "      <td>0</td>\n",
       "      <td>2018-10-07 20:32:33</td>\n",
       "      <td></td>\n",
       "    </tr>\n",
       "    <tr>\n",
       "      <th>4</th>\n",
       "      <td>[{'text': 'Chiefs', 'indices': [18, 25]}]</td>\n",
       "      <td>182839</td>\n",
       "      <td>False</td>\n",
       "      <td>en</td>\n",
       "      <td>RT @jbbrisco: The #Chiefs now have the tiebreakers over the Broncos, Chargers, Steelers and Jaguars. Next week, they’ll have a chance to ta…</td>\n",
       "      <td>11</td>\n",
       "      <td>0</td>\n",
       "      <td>2018-10-07 20:32:28</td>\n",
       "      <td>Chiefs STH PORN RT’er and gamer BF VETERAN #TEAMSAMMY</td>\n",
       "    </tr>\n",
       "  </tbody>\n",
       "</table>\n",
       "</div>"
      ],
      "text/plain": [
       "                                                                              TweetHashtags  \\\n",
       "0                                                 [{'text': 'Chiefs', 'indices': [16, 23]}]   \n",
       "1  [{'text': 'ChiefsKingdom', 'indices': [4, 18]}, {'text': 'Chiefs', 'indices': [19, 26]}]   \n",
       "2        [{'text': 'chiefs', 'indices': [31, 38]}, {'text': 'jaguar', 'indices': [43, 50]}]   \n",
       "3                                                [{'text': 'Chiefs', 'indices': [97, 104]}]   \n",
       "4                                                 [{'text': 'Chiefs', 'indices': [18, 25]}]   \n",
       "\n",
       "   UserStatusCount  UserVerified TweetLanguage  \\\n",
       "0            16260         False            en   \n",
       "1             8263         False            en   \n",
       "2             5146         False            en   \n",
       "3             3825         False            en   \n",
       "4           182839         False            en   \n",
       "\n",
       "                                                                                                                                      TweetText  \\\n",
       "0  Our Kansas City #Chiefs advance to 5-0!!! Love watching this team this year! Not sure if it's the luxury of youth o… https://t.co/02RxZtoTr9   \n",
       "1                                                                   5-0 #ChiefsKingdom #Chiefs\\n\\nCoach, your thoughts? https://t.co/KuloY7ubHu   \n",
       "2   A lot of fraterinizing between #chiefs and #jaguar players after the game. Kelce took off his jersey and signed it… https://t.co/d3nrSzxj0S   \n",
       "3                                      RT @JoshVernier610: We’re halfway to finding out what Jags defender Telvon Smith found so funny. #Chiefs   \n",
       "4  RT @jbbrisco: The #Chiefs now have the tiebreakers over the Broncos, Chargers, Steelers and Jaguars. Next week, they’ll have a chance to ta…   \n",
       "\n",
       "   TweetRetweetCount  TweetFavoriteCount        TweetCreated  \\\n",
       "0                  0                   0 2018-10-07 20:33:16   \n",
       "1                  0                   1 2018-10-07 20:32:47   \n",
       "2                  0                   0 2018-10-07 20:32:43   \n",
       "3                 44                   0 2018-10-07 20:32:33   \n",
       "4                 11                   0 2018-10-07 20:32:28   \n",
       "\n",
       "                                                                                                      userDesc  \n",
       "0                                               Lover of pizza, beer & all things Kansas City. #Royals #Chiefs  \n",
       "1  Big K-State, Chiefs, Cubs, and Royals fan! Big sports fan in general!  I try to look at things objectively.  \n",
       "2                                                                         Royals, Chiefs and Mizzou Tiger fan.  \n",
       "3                                                                                                               \n",
       "4                                                        Chiefs STH PORN RT’er and gamer BF VETERAN #TEAMSAMMY  "
      ]
     },
     "execution_count": 8,
     "metadata": {
      "tags": []
     },
     "output_type": "execute_result"
    }
   ],
   "source": [
    "chiefs_frame.head()"
   ]
  },
  {
   "cell_type": "markdown",
   "metadata": {
    "colab_type": "text",
    "id": "VI1WjbmykZgN"
   },
   "source": [
    "### Jaguars Data Frame"
   ]
  },
  {
   "cell_type": "code",
   "execution_count": 9,
   "metadata": {
    "colab": {
     "base_uri": "https://localhost:8080/",
     "height": 34
    },
    "colab_type": "code",
    "id": "MXjG5qiD5QJ9",
    "outputId": "468371b4-1c35-4137-dcc2-bd42bda00b45"
   },
   "outputs": [
    {
     "name": "stdout",
     "output_type": "stream",
     "text": [
      "Dataframe Shape (Rows, Columns):  (1500, 9)\n"
     ]
    }
   ],
   "source": [
    "#Pass the tweets list to create a DataFrame\n",
    "jaguars_frame = toDataFrame(results2)\n",
    "print('Dataframe Shape (Rows, Columns): ', jaguars_frame.shape)"
   ]
  },
  {
   "cell_type": "code",
   "execution_count": 10,
   "metadata": {
    "colab": {
     "base_uri": "https://localhost:8080/",
     "height": 212
    },
    "colab_type": "code",
    "id": "wLsq7ujw5Qhe",
    "outputId": "ee59e966-75e3-4746-bd39-2e1370b15bb4"
   },
   "outputs": [
    {
     "data": {
      "text/plain": [
       "0                                                                       RT @Jaguars: Gip with the first pick!\\n\\n#DUUUVAL https://t.co/vyzisGHiUi\n",
       "1                                                                       RT @Jaguars: Gip with the first pick!\\n\\n#DUUUVAL https://t.co/vyzisGHiUi\n",
       "2    @Crosby2Sprong Unlike many other fans, we stick with our team until the end of every game - win or lose. Sadly, tod… https://t.co/YoGRqJ4yOU\n",
       "3     @Jaguars wait till the last second to put a 💩💩💩💩topping on this crap performance! Need to take our @NFL chant from… https://t.co/C4oI0CS9Oc\n",
       "4                                                             I have no one to blame but me not wearing my lucky shirt. Sorry jags fans. #DUUUVAL\n",
       "5                                                          RT @Jaguars: First INT of the year for @AJBOUYE21!\\n\\n#DUUUVAL https://t.co/JSGuQo13tB\n",
       "6                                                          RT @Jaguars: First INT of the year for @AJBOUYE21!\\n\\n#DUUUVAL https://t.co/JSGuQo13tB\n",
       "7    @ArrowheadPride @BigCatCountry First off @APMarkLong can suck a dick. The real #meth4money chiefs played a good gam… https://t.co/tpfVMr4qgM\n",
       "8                                                                                        It's not like we will see KC in the playoffs. 👀 #duuuval\n",
       "9                                                          RT @Jaguars: First INT of the year for @AJBOUYE21!\\n\\n#DUUUVAL https://t.co/JSGuQo13tB\n",
       "Name: TweetText, dtype: object"
      ]
     },
     "execution_count": 10,
     "metadata": {
      "tags": []
     },
     "output_type": "execute_result"
    }
   ],
   "source": [
    "jaguars_frame['TweetText'][0:10]"
   ]
  },
  {
   "cell_type": "code",
   "execution_count": 11,
   "metadata": {
    "colab": {
     "base_uri": "https://localhost:8080/",
     "height": 464
    },
    "colab_type": "code",
    "id": "5dT0zN8c5Q4m",
    "outputId": "f5f89741-6d37-4756-d06c-99f627d4e7f6"
   },
   "outputs": [
    {
     "data": {
      "text/html": [
       "<div>\n",
       "<style scoped>\n",
       "    .dataframe tbody tr th:only-of-type {\n",
       "        vertical-align: middle;\n",
       "    }\n",
       "\n",
       "    .dataframe tbody tr th {\n",
       "        vertical-align: top;\n",
       "    }\n",
       "\n",
       "    .dataframe thead th {\n",
       "        text-align: right;\n",
       "    }\n",
       "</style>\n",
       "<table border=\"1\" class=\"dataframe\">\n",
       "  <thead>\n",
       "    <tr style=\"text-align: right;\">\n",
       "      <th></th>\n",
       "      <th>TweetHashtags</th>\n",
       "      <th>UserStatusCount</th>\n",
       "      <th>UserVerified</th>\n",
       "      <th>TweetLanguage</th>\n",
       "      <th>TweetText</th>\n",
       "      <th>TweetRetweetCount</th>\n",
       "      <th>TweetFavoriteCount</th>\n",
       "      <th>TweetCreated</th>\n",
       "      <th>userDesc</th>\n",
       "    </tr>\n",
       "  </thead>\n",
       "  <tbody>\n",
       "    <tr>\n",
       "      <th>0</th>\n",
       "      <td>[{'text': 'DUUUVAL', 'indices': [39, 47]}]</td>\n",
       "      <td>113657</td>\n",
       "      <td>False</td>\n",
       "      <td>en</td>\n",
       "      <td>RT @Jaguars: Gip with the first pick!\\n\\n#DUUUVAL https://t.co/vyzisGHiUi</td>\n",
       "      <td>117</td>\n",
       "      <td>0</td>\n",
       "      <td>2018-10-07 20:38:55</td>\n",
       "      <td>October Skies🌈😳🙏🏼</td>\n",
       "    </tr>\n",
       "    <tr>\n",
       "      <th>1</th>\n",
       "      <td>[{'text': 'DUUUVAL', 'indices': [39, 47]}]</td>\n",
       "      <td>16680</td>\n",
       "      <td>False</td>\n",
       "      <td>en</td>\n",
       "      <td>RT @Jaguars: Gip with the first pick!\\n\\n#DUUUVAL https://t.co/vyzisGHiUi</td>\n",
       "      <td>117</td>\n",
       "      <td>0</td>\n",
       "      <td>2018-10-07 20:38:51</td>\n",
       "      <td>#HumbleBeast  #JucoProduct #DBU #Ritty🌎 DB @ contra costa #16</td>\n",
       "    </tr>\n",
       "    <tr>\n",
       "      <th>2</th>\n",
       "      <td>[]</td>\n",
       "      <td>86092</td>\n",
       "      <td>False</td>\n",
       "      <td>en</td>\n",
       "      <td>@Crosby2Sprong Unlike many other fans, we stick with our team until the end of every game - win or lose. Sadly, tod… https://t.co/YoGRqJ4yOU</td>\n",
       "      <td>0</td>\n",
       "      <td>2</td>\n",
       "      <td>2018-10-07 20:34:52</td>\n",
       "      <td>Mom, Grandma, loyal Jaguars fan! #Duval</td>\n",
       "    </tr>\n",
       "    <tr>\n",
       "      <th>3</th>\n",
       "      <td>[]</td>\n",
       "      <td>1133</td>\n",
       "      <td>False</td>\n",
       "      <td>en</td>\n",
       "      <td>@Jaguars wait till the last second to put a 💩💩💩💩topping on this crap performance! Need to take our @NFL chant from… https://t.co/C4oI0CS9Oc</td>\n",
       "      <td>0</td>\n",
       "      <td>0</td>\n",
       "      <td>2018-10-07 20:31:42</td>\n",
       "      <td>Jaguars Fan! DUVAL is a way of life!</td>\n",
       "    </tr>\n",
       "    <tr>\n",
       "      <th>4</th>\n",
       "      <td>[{'text': 'DUUUVAL', 'indices': [75, 83]}]</td>\n",
       "      <td>975</td>\n",
       "      <td>False</td>\n",
       "      <td>en</td>\n",
       "      <td>I have no one to blame but me not wearing my lucky shirt. Sorry jags fans. #DUUUVAL</td>\n",
       "      <td>0</td>\n",
       "      <td>0</td>\n",
       "      <td>2018-10-07 20:30:58</td>\n",
       "      <td>NFL Technology &amp; Science Music Gaming Sports Government &amp; Politics. If someone calls you ‘ugly’, have a good comeback and say “Excuse me, I’m not ...</td>\n",
       "    </tr>\n",
       "  </tbody>\n",
       "</table>\n",
       "</div>"
      ],
      "text/plain": [
       "                                TweetHashtags  UserStatusCount  UserVerified  \\\n",
       "0  [{'text': 'DUUUVAL', 'indices': [39, 47]}]           113657         False   \n",
       "1  [{'text': 'DUUUVAL', 'indices': [39, 47]}]            16680         False   \n",
       "2                                          []            86092         False   \n",
       "3                                          []             1133         False   \n",
       "4  [{'text': 'DUUUVAL', 'indices': [75, 83]}]              975         False   \n",
       "\n",
       "  TweetLanguage  \\\n",
       "0            en   \n",
       "1            en   \n",
       "2            en   \n",
       "3            en   \n",
       "4            en   \n",
       "\n",
       "                                                                                                                                      TweetText  \\\n",
       "0                                                                     RT @Jaguars: Gip with the first pick!\\n\\n#DUUUVAL https://t.co/vyzisGHiUi   \n",
       "1                                                                     RT @Jaguars: Gip with the first pick!\\n\\n#DUUUVAL https://t.co/vyzisGHiUi   \n",
       "2  @Crosby2Sprong Unlike many other fans, we stick with our team until the end of every game - win or lose. Sadly, tod… https://t.co/YoGRqJ4yOU   \n",
       "3   @Jaguars wait till the last second to put a 💩💩💩💩topping on this crap performance! Need to take our @NFL chant from… https://t.co/C4oI0CS9Oc   \n",
       "4                                                           I have no one to blame but me not wearing my lucky shirt. Sorry jags fans. #DUUUVAL   \n",
       "\n",
       "   TweetRetweetCount  TweetFavoriteCount        TweetCreated  \\\n",
       "0                117                   0 2018-10-07 20:38:55   \n",
       "1                117                   0 2018-10-07 20:38:51   \n",
       "2                  0                   2 2018-10-07 20:34:52   \n",
       "3                  0                   0 2018-10-07 20:31:42   \n",
       "4                  0                   0 2018-10-07 20:30:58   \n",
       "\n",
       "                                                                                                                                                userDesc  \n",
       "0                                                                                                                                      October Skies🌈😳🙏🏼  \n",
       "1                                                                                          #HumbleBeast  #JucoProduct #DBU #Ritty🌎 DB @ contra costa #16  \n",
       "2                                                                                                                Mom, Grandma, loyal Jaguars fan! #Duval  \n",
       "3                                                                                                                   Jaguars Fan! DUVAL is a way of life!  \n",
       "4  NFL Technology & Science Music Gaming Sports Government & Politics. If someone calls you ‘ugly’, have a good comeback and say “Excuse me, I’m not ...  "
      ]
     },
     "execution_count": 11,
     "metadata": {
      "tags": []
     },
     "output_type": "execute_result"
    }
   ],
   "source": [
    "jaguars_frame.head()"
   ]
  },
  {
   "cell_type": "markdown",
   "metadata": {
    "colab_type": "text",
    "id": "fjn68suB6YsT"
   },
   "source": [
    "---"
   ]
  },
  {
   "cell_type": "markdown",
   "metadata": {
    "colab_type": "text",
    "id": "nbMfhrAi6Jv6"
   },
   "source": [
    "## Count Vectorizer"
   ]
  },
  {
   "cell_type": "code",
   "execution_count": 0,
   "metadata": {
    "colab": {},
    "colab_type": "code",
    "id": "dCOsO5dW6LWP"
   },
   "outputs": [],
   "source": [
    "#Import pandas into the workspace\n",
    "import pandas as pd\n",
    "#Import numpy into the workspace\n",
    "import numpy as np\n",
    "#Import the CountVectorizer module\n",
    "from sklearn.feature_extraction.text import CountVectorizer\n",
    "#Import the math function to do math\n",
    "import math\n",
    "#Specify the max width of pixels per column for text that will be analyzed\n",
    "pd.set_option('display.max_colwidth', 800)"
   ]
  },
  {
   "cell_type": "markdown",
   "metadata": {
    "colab_type": "text",
    "id": "cem4P1qK6Rkg"
   },
   "source": [
    "### Count Vectorizer Summary\n",
    "\n",
    "cv1\n",
    "*   Parameters: stop_words='english'\n",
    "*   Feature Space: 1113\n",
    "\n",
    "cv2\n",
    "*   Parameters: stop_words='stopwords'\n",
    "*   Feature Space: 1106"
   ]
  },
  {
   "cell_type": "markdown",
   "metadata": {
    "colab_type": "text",
    "id": "e1kqoac66hGN"
   },
   "source": [
    "### CV1"
   ]
  },
  {
   "cell_type": "code",
   "execution_count": 0,
   "metadata": {
    "colab": {},
    "colab_type": "code",
    "id": "HAdj5-AqXVuM"
   },
   "outputs": [],
   "source": [
    "#Define the count vectorizer using default parameters\n",
    "cv1 = CountVectorizer(stop_words='english')"
   ]
  },
  {
   "cell_type": "markdown",
   "metadata": {
    "colab_type": "text",
    "id": "Ht9pr288W74d"
   },
   "source": [
    "#### Chiefs Feature Space"
   ]
  },
  {
   "cell_type": "code",
   "execution_count": 14,
   "metadata": {
    "colab": {
     "base_uri": "https://localhost:8080/",
     "height": 52
    },
    "colab_type": "code",
    "id": "Tcgw2O6_6Vlf",
    "outputId": "fd299d89-e57f-4d8b-a5c8-12b9ae3113e5"
   },
   "outputs": [
    {
     "name": "stdout",
     "output_type": "stream",
     "text": [
      "Shape: (1500, 2508)\n",
      "Type: <class 'scipy.sparse.csr.csr_matrix'>\n"
     ]
    }
   ],
   "source": [
    "#Apply the count vectorizer for the bag of words to the dataframe feature\n",
    "cv1_chiefs_text = cv1.fit_transform(chiefs_frame['TweetText'])\n",
    "#This is the feature space for TweetText\n",
    "print('Shape:', cv1_chiefs_text.shape)\n",
    "#This is the type of matrix that is returned for TweetText\n",
    "print('Type:', type(cv1_chiefs_text))"
   ]
  },
  {
   "cell_type": "code",
   "execution_count": 15,
   "metadata": {
    "colab": {
     "base_uri": "https://localhost:8080/",
     "height": 396
    },
    "colab_type": "code",
    "id": "uV4N4nGL6oHC",
    "outputId": "c5e4e775-21c7-42f2-f788-df098f724381"
   },
   "outputs": [
    {
     "data": {
      "text/html": [
       "<div>\n",
       "<style scoped>\n",
       "    .dataframe tbody tr th:only-of-type {\n",
       "        vertical-align: middle;\n",
       "    }\n",
       "\n",
       "    .dataframe tbody tr th {\n",
       "        vertical-align: top;\n",
       "    }\n",
       "\n",
       "    .dataframe thead th {\n",
       "        text-align: right;\n",
       "    }\n",
       "</style>\n",
       "<table border=\"1\" class=\"dataframe\">\n",
       "  <thead>\n",
       "    <tr style=\"text-align: right;\">\n",
       "      <th></th>\n",
       "      <th>02rxztotr9</th>\n",
       "      <th>06</th>\n",
       "      <th>0cblu8dsfk</th>\n",
       "      <th>0cfw4j1z44</th>\n",
       "      <th>0jx4cm7nzp</th>\n",
       "      <th>0kqumlmwmb</th>\n",
       "      <th>0lwvsad0up</th>\n",
       "      <th>0o3rwavemz</th>\n",
       "      <th>0r7q3ilqqe</th>\n",
       "      <th>0sk6dl9iui</th>\n",
       "      <th>...</th>\n",
       "      <th>zodfysit</th>\n",
       "      <th>zodfysitzk</th>\n",
       "      <th>zoinks</th>\n",
       "      <th>zone</th>\n",
       "      <th>zoyx1cvkyt</th>\n",
       "      <th>zs97alxdep</th>\n",
       "      <th>zuzfkivu55</th>\n",
       "      <th>zzwdtl8k5y</th>\n",
       "      <th>øº</th>\n",
       "      <th>øºgo</th>\n",
       "    </tr>\n",
       "  </thead>\n",
       "  <tbody>\n",
       "    <tr>\n",
       "      <th>0</th>\n",
       "      <td>1</td>\n",
       "      <td>0</td>\n",
       "      <td>0</td>\n",
       "      <td>0</td>\n",
       "      <td>0</td>\n",
       "      <td>0</td>\n",
       "      <td>0</td>\n",
       "      <td>0</td>\n",
       "      <td>0</td>\n",
       "      <td>0</td>\n",
       "      <td>...</td>\n",
       "      <td>0</td>\n",
       "      <td>0</td>\n",
       "      <td>0</td>\n",
       "      <td>0</td>\n",
       "      <td>0</td>\n",
       "      <td>0</td>\n",
       "      <td>0</td>\n",
       "      <td>0</td>\n",
       "      <td>0</td>\n",
       "      <td>0</td>\n",
       "    </tr>\n",
       "    <tr>\n",
       "      <th>1</th>\n",
       "      <td>0</td>\n",
       "      <td>0</td>\n",
       "      <td>0</td>\n",
       "      <td>0</td>\n",
       "      <td>0</td>\n",
       "      <td>0</td>\n",
       "      <td>0</td>\n",
       "      <td>0</td>\n",
       "      <td>0</td>\n",
       "      <td>0</td>\n",
       "      <td>...</td>\n",
       "      <td>0</td>\n",
       "      <td>0</td>\n",
       "      <td>0</td>\n",
       "      <td>0</td>\n",
       "      <td>0</td>\n",
       "      <td>0</td>\n",
       "      <td>0</td>\n",
       "      <td>0</td>\n",
       "      <td>0</td>\n",
       "      <td>0</td>\n",
       "    </tr>\n",
       "    <tr>\n",
       "      <th>2</th>\n",
       "      <td>0</td>\n",
       "      <td>0</td>\n",
       "      <td>0</td>\n",
       "      <td>0</td>\n",
       "      <td>0</td>\n",
       "      <td>0</td>\n",
       "      <td>0</td>\n",
       "      <td>0</td>\n",
       "      <td>0</td>\n",
       "      <td>0</td>\n",
       "      <td>...</td>\n",
       "      <td>0</td>\n",
       "      <td>0</td>\n",
       "      <td>0</td>\n",
       "      <td>0</td>\n",
       "      <td>0</td>\n",
       "      <td>0</td>\n",
       "      <td>0</td>\n",
       "      <td>0</td>\n",
       "      <td>0</td>\n",
       "      <td>0</td>\n",
       "    </tr>\n",
       "    <tr>\n",
       "      <th>3</th>\n",
       "      <td>0</td>\n",
       "      <td>0</td>\n",
       "      <td>0</td>\n",
       "      <td>0</td>\n",
       "      <td>0</td>\n",
       "      <td>0</td>\n",
       "      <td>0</td>\n",
       "      <td>0</td>\n",
       "      <td>0</td>\n",
       "      <td>0</td>\n",
       "      <td>...</td>\n",
       "      <td>0</td>\n",
       "      <td>0</td>\n",
       "      <td>0</td>\n",
       "      <td>0</td>\n",
       "      <td>0</td>\n",
       "      <td>0</td>\n",
       "      <td>0</td>\n",
       "      <td>0</td>\n",
       "      <td>0</td>\n",
       "      <td>0</td>\n",
       "    </tr>\n",
       "    <tr>\n",
       "      <th>4</th>\n",
       "      <td>0</td>\n",
       "      <td>0</td>\n",
       "      <td>0</td>\n",
       "      <td>0</td>\n",
       "      <td>0</td>\n",
       "      <td>0</td>\n",
       "      <td>0</td>\n",
       "      <td>0</td>\n",
       "      <td>0</td>\n",
       "      <td>0</td>\n",
       "      <td>...</td>\n",
       "      <td>0</td>\n",
       "      <td>0</td>\n",
       "      <td>0</td>\n",
       "      <td>0</td>\n",
       "      <td>0</td>\n",
       "      <td>0</td>\n",
       "      <td>0</td>\n",
       "      <td>0</td>\n",
       "      <td>0</td>\n",
       "      <td>0</td>\n",
       "    </tr>\n",
       "    <tr>\n",
       "      <th>5</th>\n",
       "      <td>0</td>\n",
       "      <td>0</td>\n",
       "      <td>0</td>\n",
       "      <td>0</td>\n",
       "      <td>0</td>\n",
       "      <td>0</td>\n",
       "      <td>0</td>\n",
       "      <td>0</td>\n",
       "      <td>0</td>\n",
       "      <td>0</td>\n",
       "      <td>...</td>\n",
       "      <td>0</td>\n",
       "      <td>0</td>\n",
       "      <td>0</td>\n",
       "      <td>0</td>\n",
       "      <td>0</td>\n",
       "      <td>0</td>\n",
       "      <td>0</td>\n",
       "      <td>0</td>\n",
       "      <td>0</td>\n",
       "      <td>0</td>\n",
       "    </tr>\n",
       "    <tr>\n",
       "      <th>6</th>\n",
       "      <td>0</td>\n",
       "      <td>0</td>\n",
       "      <td>0</td>\n",
       "      <td>0</td>\n",
       "      <td>0</td>\n",
       "      <td>0</td>\n",
       "      <td>0</td>\n",
       "      <td>0</td>\n",
       "      <td>0</td>\n",
       "      <td>0</td>\n",
       "      <td>...</td>\n",
       "      <td>0</td>\n",
       "      <td>0</td>\n",
       "      <td>0</td>\n",
       "      <td>0</td>\n",
       "      <td>0</td>\n",
       "      <td>0</td>\n",
       "      <td>0</td>\n",
       "      <td>0</td>\n",
       "      <td>0</td>\n",
       "      <td>0</td>\n",
       "    </tr>\n",
       "    <tr>\n",
       "      <th>7</th>\n",
       "      <td>0</td>\n",
       "      <td>0</td>\n",
       "      <td>0</td>\n",
       "      <td>0</td>\n",
       "      <td>0</td>\n",
       "      <td>0</td>\n",
       "      <td>0</td>\n",
       "      <td>0</td>\n",
       "      <td>0</td>\n",
       "      <td>0</td>\n",
       "      <td>...</td>\n",
       "      <td>0</td>\n",
       "      <td>0</td>\n",
       "      <td>0</td>\n",
       "      <td>0</td>\n",
       "      <td>0</td>\n",
       "      <td>0</td>\n",
       "      <td>0</td>\n",
       "      <td>0</td>\n",
       "      <td>0</td>\n",
       "      <td>0</td>\n",
       "    </tr>\n",
       "    <tr>\n",
       "      <th>8</th>\n",
       "      <td>0</td>\n",
       "      <td>0</td>\n",
       "      <td>0</td>\n",
       "      <td>0</td>\n",
       "      <td>0</td>\n",
       "      <td>0</td>\n",
       "      <td>0</td>\n",
       "      <td>0</td>\n",
       "      <td>0</td>\n",
       "      <td>0</td>\n",
       "      <td>...</td>\n",
       "      <td>0</td>\n",
       "      <td>0</td>\n",
       "      <td>0</td>\n",
       "      <td>0</td>\n",
       "      <td>0</td>\n",
       "      <td>0</td>\n",
       "      <td>0</td>\n",
       "      <td>0</td>\n",
       "      <td>0</td>\n",
       "      <td>0</td>\n",
       "    </tr>\n",
       "    <tr>\n",
       "      <th>9</th>\n",
       "      <td>0</td>\n",
       "      <td>0</td>\n",
       "      <td>0</td>\n",
       "      <td>0</td>\n",
       "      <td>0</td>\n",
       "      <td>0</td>\n",
       "      <td>0</td>\n",
       "      <td>0</td>\n",
       "      <td>0</td>\n",
       "      <td>0</td>\n",
       "      <td>...</td>\n",
       "      <td>0</td>\n",
       "      <td>0</td>\n",
       "      <td>0</td>\n",
       "      <td>0</td>\n",
       "      <td>0</td>\n",
       "      <td>0</td>\n",
       "      <td>0</td>\n",
       "      <td>0</td>\n",
       "      <td>0</td>\n",
       "      <td>0</td>\n",
       "    </tr>\n",
       "  </tbody>\n",
       "</table>\n",
       "<p>10 rows × 2508 columns</p>\n",
       "</div>"
      ],
      "text/plain": [
       "   02rxztotr9  06  0cblu8dsfk  0cfw4j1z44  0jx4cm7nzp  0kqumlmwmb  0lwvsad0up  \\\n",
       "0           1   0           0           0           0           0           0   \n",
       "1           0   0           0           0           0           0           0   \n",
       "2           0   0           0           0           0           0           0   \n",
       "3           0   0           0           0           0           0           0   \n",
       "4           0   0           0           0           0           0           0   \n",
       "5           0   0           0           0           0           0           0   \n",
       "6           0   0           0           0           0           0           0   \n",
       "7           0   0           0           0           0           0           0   \n",
       "8           0   0           0           0           0           0           0   \n",
       "9           0   0           0           0           0           0           0   \n",
       "\n",
       "   0o3rwavemz  0r7q3ilqqe  0sk6dl9iui  ...   zodfysit  zodfysitzk  zoinks  \\\n",
       "0           0           0           0  ...          0           0       0   \n",
       "1           0           0           0  ...          0           0       0   \n",
       "2           0           0           0  ...          0           0       0   \n",
       "3           0           0           0  ...          0           0       0   \n",
       "4           0           0           0  ...          0           0       0   \n",
       "5           0           0           0  ...          0           0       0   \n",
       "6           0           0           0  ...          0           0       0   \n",
       "7           0           0           0  ...          0           0       0   \n",
       "8           0           0           0  ...          0           0       0   \n",
       "9           0           0           0  ...          0           0       0   \n",
       "\n",
       "   zone  zoyx1cvkyt  zs97alxdep  zuzfkivu55  zzwdtl8k5y  øº  øºgo  \n",
       "0     0           0           0           0           0   0     0  \n",
       "1     0           0           0           0           0   0     0  \n",
       "2     0           0           0           0           0   0     0  \n",
       "3     0           0           0           0           0   0     0  \n",
       "4     0           0           0           0           0   0     0  \n",
       "5     0           0           0           0           0   0     0  \n",
       "6     0           0           0           0           0   0     0  \n",
       "7     0           0           0           0           0   0     0  \n",
       "8     0           0           0           0           0   0     0  \n",
       "9     0           0           0           0           0   0     0  \n",
       "\n",
       "[10 rows x 2508 columns]"
      ]
     },
     "execution_count": 15,
     "metadata": {
      "tags": []
     },
     "output_type": "execute_result"
    }
   ],
   "source": [
    "#Print the sparse matrix as a data frame for an aestheticallly pleasing view of the feature space head#Print t \n",
    "pd.DataFrame(cv1_chiefs_text.toarray(), columns = cv1.get_feature_names()).head(10)"
   ]
  },
  {
   "cell_type": "markdown",
   "metadata": {
    "colab_type": "text",
    "id": "NSlVq66d6qLB"
   },
   "source": [
    "Most frequently occurring terms:"
   ]
  },
  {
   "cell_type": "code",
   "execution_count": 16,
   "metadata": {
    "colab": {
     "base_uri": "https://localhost:8080/",
     "height": 797
    },
    "colab_type": "code",
    "id": "dDp_aQsu6szo",
    "outputId": "c819a892-83bf-4f30-f4d2-05f423e5dff9"
   },
   "outputs": [
    {
     "data": {
      "text/html": [
       "<div>\n",
       "<style scoped>\n",
       "    .dataframe tbody tr th:only-of-type {\n",
       "        vertical-align: middle;\n",
       "    }\n",
       "\n",
       "    .dataframe tbody tr th {\n",
       "        vertical-align: top;\n",
       "    }\n",
       "\n",
       "    .dataframe thead th {\n",
       "        text-align: right;\n",
       "    }\n",
       "</style>\n",
       "<table border=\"1\" class=\"dataframe\">\n",
       "  <thead>\n",
       "    <tr style=\"text-align: right;\">\n",
       "      <th></th>\n",
       "      <th>count</th>\n",
       "    </tr>\n",
       "  </thead>\n",
       "  <tbody>\n",
       "    <tr>\n",
       "      <th>chiefs</th>\n",
       "      <td>1488</td>\n",
       "    </tr>\n",
       "    <tr>\n",
       "      <th>https</th>\n",
       "      <td>618</td>\n",
       "    </tr>\n",
       "    <tr>\n",
       "      <th>rt</th>\n",
       "      <td>608</td>\n",
       "    </tr>\n",
       "    <tr>\n",
       "      <th>jaguars</th>\n",
       "      <td>224</td>\n",
       "    </tr>\n",
       "    <tr>\n",
       "      <th>defense</th>\n",
       "      <td>202</td>\n",
       "    </tr>\n",
       "    <tr>\n",
       "      <th>mahomes</th>\n",
       "      <td>174</td>\n",
       "    </tr>\n",
       "    <tr>\n",
       "      <th>chiefskingdom</th>\n",
       "      <td>161</td>\n",
       "    </tr>\n",
       "    <tr>\n",
       "      <th>game</th>\n",
       "      <td>137</td>\n",
       "    </tr>\n",
       "    <tr>\n",
       "      <th>jags</th>\n",
       "      <td>98</td>\n",
       "    </tr>\n",
       "    <tr>\n",
       "      <th>patrick</th>\n",
       "      <td>91</td>\n",
       "    </tr>\n",
       "    <tr>\n",
       "      <th>good</th>\n",
       "      <td>82</td>\n",
       "    </tr>\n",
       "    <tr>\n",
       "      <th>tomkctv5</th>\n",
       "      <td>78</td>\n",
       "    </tr>\n",
       "    <tr>\n",
       "      <th>jones</th>\n",
       "      <td>74</td>\n",
       "    </tr>\n",
       "    <tr>\n",
       "      <th>today</th>\n",
       "      <td>71</td>\n",
       "    </tr>\n",
       "    <tr>\n",
       "      <th>chris</th>\n",
       "      <td>71</td>\n",
       "    </tr>\n",
       "    <tr>\n",
       "      <th>offense</th>\n",
       "      <td>69</td>\n",
       "    </tr>\n",
       "    <tr>\n",
       "      <th>jeff_rosen88</th>\n",
       "      <td>65</td>\n",
       "    </tr>\n",
       "    <tr>\n",
       "      <th>don</th>\n",
       "      <td>65</td>\n",
       "    </tr>\n",
       "    <tr>\n",
       "      <th>vs</th>\n",
       "      <td>63</td>\n",
       "    </tr>\n",
       "    <tr>\n",
       "      <th>arrowhead</th>\n",
       "      <td>62</td>\n",
       "    </tr>\n",
       "    <tr>\n",
       "      <th>em</th>\n",
       "      <td>62</td>\n",
       "    </tr>\n",
       "    <tr>\n",
       "      <th>just</th>\n",
       "      <td>61</td>\n",
       "    </tr>\n",
       "    <tr>\n",
       "      <th>andrew__carter</th>\n",
       "      <td>60</td>\n",
       "    </tr>\n",
       "    <tr>\n",
       "      <th>dunk</th>\n",
       "      <td>59</td>\n",
       "    </tr>\n",
       "    <tr>\n",
       "      <th>nfl</th>\n",
       "      <td>59</td>\n",
       "    </tr>\n",
       "  </tbody>\n",
       "</table>\n",
       "</div>"
      ],
      "text/plain": [
       "                count\n",
       "chiefs           1488\n",
       "https             618\n",
       "rt                608\n",
       "jaguars           224\n",
       "defense           202\n",
       "mahomes           174\n",
       "chiefskingdom     161\n",
       "game              137\n",
       "jags               98\n",
       "patrick            91\n",
       "good               82\n",
       "tomkctv5           78\n",
       "jones              74\n",
       "today              71\n",
       "chris              71\n",
       "offense            69\n",
       "jeff_rosen88       65\n",
       "don                65\n",
       "vs                 63\n",
       "arrowhead          62\n",
       "em                 62\n",
       "just               61\n",
       "andrew__carter     60\n",
       "dunk               59\n",
       "nfl                59"
      ]
     },
     "execution_count": 16,
     "metadata": {
      "tags": []
     },
     "output_type": "execute_result"
    }
   ],
   "source": [
    "names = cv1.get_feature_names()   #create list of feature names\n",
    "\n",
    "count = np.sum(cv1_chiefs_text.toarray(), axis = 0) # convert list to array to add up feature counts \n",
    "count2 = count.tolist()  # convert numpy array to list\n",
    "\n",
    "count_df = pd.DataFrame(count2, index = names, columns = ['count']) # create a dataframe from the list\n",
    "\n",
    "sorted_count = count_df.sort_values(['count'], ascending = False)\n",
    "sorted_count.head(25)"
   ]
  },
  {
   "cell_type": "markdown",
   "metadata": {
    "colab_type": "text",
    "id": "Cjy0DZILYMR6"
   },
   "source": [
    "#### Jaguars Feature Space"
   ]
  },
  {
   "cell_type": "code",
   "execution_count": 17,
   "metadata": {
    "colab": {
     "base_uri": "https://localhost:8080/",
     "height": 52
    },
    "colab_type": "code",
    "id": "T8n6njevYT_s",
    "outputId": "5f76da4e-0819-42b9-d177-c729dc26e657"
   },
   "outputs": [
    {
     "name": "stdout",
     "output_type": "stream",
     "text": [
      "Shape: (1500, 1545)\n",
      "Type: <class 'scipy.sparse.csr.csr_matrix'>\n"
     ]
    }
   ],
   "source": [
    "#Apply the count vectorizer for the bag of words to the dataframe feature\n",
    "cv1_jaguars_text = cv1.fit_transform(jaguars_frame['TweetText'])\n",
    "#This is the feature space for TweetText\n",
    "print('Shape:', cv1_jaguars_text.shape)\n",
    "#This is the type of matrix that is returned for TweetText\n",
    "print('Type:', type(cv1_jaguars_text))"
   ]
  },
  {
   "cell_type": "code",
   "execution_count": 18,
   "metadata": {
    "colab": {
     "base_uri": "https://localhost:8080/",
     "height": 396
    },
    "colab_type": "code",
    "id": "l0gF0LQuYW9h",
    "outputId": "f4de4920-3249-4b4e-9b65-fcc882b7235e"
   },
   "outputs": [
    {
     "data": {
      "text/html": [
       "<div>\n",
       "<style scoped>\n",
       "    .dataframe tbody tr th:only-of-type {\n",
       "        vertical-align: middle;\n",
       "    }\n",
       "\n",
       "    .dataframe tbody tr th {\n",
       "        vertical-align: top;\n",
       "    }\n",
       "\n",
       "    .dataframe thead th {\n",
       "        text-align: right;\n",
       "    }\n",
       "</style>\n",
       "<table border=\"1\" class=\"dataframe\">\n",
       "  <thead>\n",
       "    <tr style=\"text-align: right;\">\n",
       "      <th></th>\n",
       "      <th>00</th>\n",
       "      <th>04</th>\n",
       "      <th>0axqcymj92</th>\n",
       "      <th>0d1ulua2ri</th>\n",
       "      <th>0dx6a0nb</th>\n",
       "      <th>0hdg2nlvnf</th>\n",
       "      <th>0o3bef0vwa</th>\n",
       "      <th>10</th>\n",
       "      <th>1010x</th>\n",
       "      <th>1010xl</th>\n",
       "      <th>...</th>\n",
       "      <th>z0m3ea5z7n</th>\n",
       "      <th>z1eozwm87v</th>\n",
       "      <th>z6alyoqfu2</th>\n",
       "      <th>zak58oc6fr</th>\n",
       "      <th>zct7</th>\n",
       "      <th>zct7zguez6</th>\n",
       "      <th>zdi9snksuj</th>\n",
       "      <th>zr6skkxxd7</th>\n",
       "      <th>zvfbjlixzv</th>\n",
       "      <th>zyguc2ptr7</th>\n",
       "    </tr>\n",
       "  </thead>\n",
       "  <tbody>\n",
       "    <tr>\n",
       "      <th>0</th>\n",
       "      <td>0</td>\n",
       "      <td>0</td>\n",
       "      <td>0</td>\n",
       "      <td>0</td>\n",
       "      <td>0</td>\n",
       "      <td>0</td>\n",
       "      <td>0</td>\n",
       "      <td>0</td>\n",
       "      <td>0</td>\n",
       "      <td>0</td>\n",
       "      <td>...</td>\n",
       "      <td>0</td>\n",
       "      <td>0</td>\n",
       "      <td>0</td>\n",
       "      <td>0</td>\n",
       "      <td>0</td>\n",
       "      <td>0</td>\n",
       "      <td>0</td>\n",
       "      <td>0</td>\n",
       "      <td>0</td>\n",
       "      <td>0</td>\n",
       "    </tr>\n",
       "    <tr>\n",
       "      <th>1</th>\n",
       "      <td>0</td>\n",
       "      <td>0</td>\n",
       "      <td>0</td>\n",
       "      <td>0</td>\n",
       "      <td>0</td>\n",
       "      <td>0</td>\n",
       "      <td>0</td>\n",
       "      <td>0</td>\n",
       "      <td>0</td>\n",
       "      <td>0</td>\n",
       "      <td>...</td>\n",
       "      <td>0</td>\n",
       "      <td>0</td>\n",
       "      <td>0</td>\n",
       "      <td>0</td>\n",
       "      <td>0</td>\n",
       "      <td>0</td>\n",
       "      <td>0</td>\n",
       "      <td>0</td>\n",
       "      <td>0</td>\n",
       "      <td>0</td>\n",
       "    </tr>\n",
       "    <tr>\n",
       "      <th>2</th>\n",
       "      <td>0</td>\n",
       "      <td>0</td>\n",
       "      <td>0</td>\n",
       "      <td>0</td>\n",
       "      <td>0</td>\n",
       "      <td>0</td>\n",
       "      <td>0</td>\n",
       "      <td>0</td>\n",
       "      <td>0</td>\n",
       "      <td>0</td>\n",
       "      <td>...</td>\n",
       "      <td>0</td>\n",
       "      <td>0</td>\n",
       "      <td>0</td>\n",
       "      <td>0</td>\n",
       "      <td>0</td>\n",
       "      <td>0</td>\n",
       "      <td>0</td>\n",
       "      <td>0</td>\n",
       "      <td>0</td>\n",
       "      <td>0</td>\n",
       "    </tr>\n",
       "    <tr>\n",
       "      <th>3</th>\n",
       "      <td>0</td>\n",
       "      <td>0</td>\n",
       "      <td>0</td>\n",
       "      <td>0</td>\n",
       "      <td>0</td>\n",
       "      <td>0</td>\n",
       "      <td>0</td>\n",
       "      <td>0</td>\n",
       "      <td>0</td>\n",
       "      <td>0</td>\n",
       "      <td>...</td>\n",
       "      <td>0</td>\n",
       "      <td>0</td>\n",
       "      <td>0</td>\n",
       "      <td>0</td>\n",
       "      <td>0</td>\n",
       "      <td>0</td>\n",
       "      <td>0</td>\n",
       "      <td>0</td>\n",
       "      <td>0</td>\n",
       "      <td>0</td>\n",
       "    </tr>\n",
       "    <tr>\n",
       "      <th>4</th>\n",
       "      <td>0</td>\n",
       "      <td>0</td>\n",
       "      <td>0</td>\n",
       "      <td>0</td>\n",
       "      <td>0</td>\n",
       "      <td>0</td>\n",
       "      <td>0</td>\n",
       "      <td>0</td>\n",
       "      <td>0</td>\n",
       "      <td>0</td>\n",
       "      <td>...</td>\n",
       "      <td>0</td>\n",
       "      <td>0</td>\n",
       "      <td>0</td>\n",
       "      <td>0</td>\n",
       "      <td>0</td>\n",
       "      <td>0</td>\n",
       "      <td>0</td>\n",
       "      <td>0</td>\n",
       "      <td>0</td>\n",
       "      <td>0</td>\n",
       "    </tr>\n",
       "    <tr>\n",
       "      <th>5</th>\n",
       "      <td>0</td>\n",
       "      <td>0</td>\n",
       "      <td>0</td>\n",
       "      <td>0</td>\n",
       "      <td>0</td>\n",
       "      <td>0</td>\n",
       "      <td>0</td>\n",
       "      <td>0</td>\n",
       "      <td>0</td>\n",
       "      <td>0</td>\n",
       "      <td>...</td>\n",
       "      <td>0</td>\n",
       "      <td>0</td>\n",
       "      <td>0</td>\n",
       "      <td>0</td>\n",
       "      <td>0</td>\n",
       "      <td>0</td>\n",
       "      <td>0</td>\n",
       "      <td>0</td>\n",
       "      <td>0</td>\n",
       "      <td>0</td>\n",
       "    </tr>\n",
       "    <tr>\n",
       "      <th>6</th>\n",
       "      <td>0</td>\n",
       "      <td>0</td>\n",
       "      <td>0</td>\n",
       "      <td>0</td>\n",
       "      <td>0</td>\n",
       "      <td>0</td>\n",
       "      <td>0</td>\n",
       "      <td>0</td>\n",
       "      <td>0</td>\n",
       "      <td>0</td>\n",
       "      <td>...</td>\n",
       "      <td>0</td>\n",
       "      <td>0</td>\n",
       "      <td>0</td>\n",
       "      <td>0</td>\n",
       "      <td>0</td>\n",
       "      <td>0</td>\n",
       "      <td>0</td>\n",
       "      <td>0</td>\n",
       "      <td>0</td>\n",
       "      <td>0</td>\n",
       "    </tr>\n",
       "    <tr>\n",
       "      <th>7</th>\n",
       "      <td>0</td>\n",
       "      <td>0</td>\n",
       "      <td>0</td>\n",
       "      <td>0</td>\n",
       "      <td>0</td>\n",
       "      <td>0</td>\n",
       "      <td>0</td>\n",
       "      <td>0</td>\n",
       "      <td>0</td>\n",
       "      <td>0</td>\n",
       "      <td>...</td>\n",
       "      <td>0</td>\n",
       "      <td>0</td>\n",
       "      <td>0</td>\n",
       "      <td>0</td>\n",
       "      <td>0</td>\n",
       "      <td>0</td>\n",
       "      <td>0</td>\n",
       "      <td>0</td>\n",
       "      <td>0</td>\n",
       "      <td>0</td>\n",
       "    </tr>\n",
       "    <tr>\n",
       "      <th>8</th>\n",
       "      <td>0</td>\n",
       "      <td>0</td>\n",
       "      <td>0</td>\n",
       "      <td>0</td>\n",
       "      <td>0</td>\n",
       "      <td>0</td>\n",
       "      <td>0</td>\n",
       "      <td>0</td>\n",
       "      <td>0</td>\n",
       "      <td>0</td>\n",
       "      <td>...</td>\n",
       "      <td>0</td>\n",
       "      <td>0</td>\n",
       "      <td>0</td>\n",
       "      <td>0</td>\n",
       "      <td>0</td>\n",
       "      <td>0</td>\n",
       "      <td>0</td>\n",
       "      <td>0</td>\n",
       "      <td>0</td>\n",
       "      <td>0</td>\n",
       "    </tr>\n",
       "    <tr>\n",
       "      <th>9</th>\n",
       "      <td>0</td>\n",
       "      <td>0</td>\n",
       "      <td>0</td>\n",
       "      <td>0</td>\n",
       "      <td>0</td>\n",
       "      <td>0</td>\n",
       "      <td>0</td>\n",
       "      <td>0</td>\n",
       "      <td>0</td>\n",
       "      <td>0</td>\n",
       "      <td>...</td>\n",
       "      <td>0</td>\n",
       "      <td>0</td>\n",
       "      <td>0</td>\n",
       "      <td>0</td>\n",
       "      <td>0</td>\n",
       "      <td>0</td>\n",
       "      <td>0</td>\n",
       "      <td>0</td>\n",
       "      <td>0</td>\n",
       "      <td>0</td>\n",
       "    </tr>\n",
       "  </tbody>\n",
       "</table>\n",
       "<p>10 rows × 1545 columns</p>\n",
       "</div>"
      ],
      "text/plain": [
       "   00  04  0axqcymj92  0d1ulua2ri  0dx6a0nb  0hdg2nlvnf  0o3bef0vwa  10  \\\n",
       "0   0   0           0           0         0           0           0   0   \n",
       "1   0   0           0           0         0           0           0   0   \n",
       "2   0   0           0           0         0           0           0   0   \n",
       "3   0   0           0           0         0           0           0   0   \n",
       "4   0   0           0           0         0           0           0   0   \n",
       "5   0   0           0           0         0           0           0   0   \n",
       "6   0   0           0           0         0           0           0   0   \n",
       "7   0   0           0           0         0           0           0   0   \n",
       "8   0   0           0           0         0           0           0   0   \n",
       "9   0   0           0           0         0           0           0   0   \n",
       "\n",
       "   1010x  1010xl     ...      z0m3ea5z7n  z1eozwm87v  z6alyoqfu2  zak58oc6fr  \\\n",
       "0      0       0     ...               0           0           0           0   \n",
       "1      0       0     ...               0           0           0           0   \n",
       "2      0       0     ...               0           0           0           0   \n",
       "3      0       0     ...               0           0           0           0   \n",
       "4      0       0     ...               0           0           0           0   \n",
       "5      0       0     ...               0           0           0           0   \n",
       "6      0       0     ...               0           0           0           0   \n",
       "7      0       0     ...               0           0           0           0   \n",
       "8      0       0     ...               0           0           0           0   \n",
       "9      0       0     ...               0           0           0           0   \n",
       "\n",
       "   zct7  zct7zguez6  zdi9snksuj  zr6skkxxd7  zvfbjlixzv  zyguc2ptr7  \n",
       "0     0           0           0           0           0           0  \n",
       "1     0           0           0           0           0           0  \n",
       "2     0           0           0           0           0           0  \n",
       "3     0           0           0           0           0           0  \n",
       "4     0           0           0           0           0           0  \n",
       "5     0           0           0           0           0           0  \n",
       "6     0           0           0           0           0           0  \n",
       "7     0           0           0           0           0           0  \n",
       "8     0           0           0           0           0           0  \n",
       "9     0           0           0           0           0           0  \n",
       "\n",
       "[10 rows x 1545 columns]"
      ]
     },
     "execution_count": 18,
     "metadata": {
      "tags": []
     },
     "output_type": "execute_result"
    }
   ],
   "source": [
    "#Print the sparse matrix as a data frame for an aestheticallly pleasing view of the feature space head#Print t \n",
    "pd.DataFrame(cv1_jaguars_text.toarray(), columns = cv1.get_feature_names()).head(10)"
   ]
  },
  {
   "cell_type": "markdown",
   "metadata": {
    "colab_type": "text",
    "id": "RTt23NBWYhNN"
   },
   "source": [
    "Most frequently occurring terms"
   ]
  },
  {
   "cell_type": "code",
   "execution_count": 19,
   "metadata": {
    "colab": {
     "base_uri": "https://localhost:8080/",
     "height": 797
    },
    "colab_type": "code",
    "id": "uknFJ54bYdyt",
    "outputId": "3bdaa63f-6eaa-46af-900c-4120e587e9bc"
   },
   "outputs": [
    {
     "data": {
      "text/html": [
       "<div>\n",
       "<style scoped>\n",
       "    .dataframe tbody tr th:only-of-type {\n",
       "        vertical-align: middle;\n",
       "    }\n",
       "\n",
       "    .dataframe tbody tr th {\n",
       "        vertical-align: top;\n",
       "    }\n",
       "\n",
       "    .dataframe thead th {\n",
       "        text-align: right;\n",
       "    }\n",
       "</style>\n",
       "<table border=\"1\" class=\"dataframe\">\n",
       "  <thead>\n",
       "    <tr style=\"text-align: right;\">\n",
       "      <th></th>\n",
       "      <th>count</th>\n",
       "    </tr>\n",
       "  </thead>\n",
       "  <tbody>\n",
       "    <tr>\n",
       "      <th>duuuval</th>\n",
       "      <td>1381</td>\n",
       "    </tr>\n",
       "    <tr>\n",
       "      <th>https</th>\n",
       "      <td>1314</td>\n",
       "    </tr>\n",
       "    <tr>\n",
       "      <th>jaguars</th>\n",
       "      <td>1240</td>\n",
       "    </tr>\n",
       "    <tr>\n",
       "      <th>rt</th>\n",
       "      <td>1150</td>\n",
       "    </tr>\n",
       "    <tr>\n",
       "      <th>game</th>\n",
       "      <td>348</td>\n",
       "    </tr>\n",
       "    <tr>\n",
       "      <th>day</th>\n",
       "      <td>309</td>\n",
       "    </tr>\n",
       "    <tr>\n",
       "      <th>arrowhead</th>\n",
       "      <td>139</td>\n",
       "    </tr>\n",
       "    <tr>\n",
       "      <th>headed</th>\n",
       "      <td>130</td>\n",
       "    </tr>\n",
       "    <tr>\n",
       "      <th>db2tjcd1ih</th>\n",
       "      <td>129</td>\n",
       "    </tr>\n",
       "    <tr>\n",
       "      <th>black</th>\n",
       "      <td>129</td>\n",
       "    </tr>\n",
       "    <tr>\n",
       "      <th>pants</th>\n",
       "      <td>129</td>\n",
       "    </tr>\n",
       "    <tr>\n",
       "      <th>tops</th>\n",
       "      <td>129</td>\n",
       "    </tr>\n",
       "    <tr>\n",
       "      <th>white</th>\n",
       "      <td>129</td>\n",
       "    </tr>\n",
       "    <tr>\n",
       "      <th>let</th>\n",
       "      <td>127</td>\n",
       "    </tr>\n",
       "    <tr>\n",
       "      <th>kn2fwx2kay</th>\n",
       "      <td>117</td>\n",
       "    </tr>\n",
       "    <tr>\n",
       "      <th>x03f1ueikn</th>\n",
       "      <td>116</td>\n",
       "    </tr>\n",
       "    <tr>\n",
       "      <th>ready</th>\n",
       "      <td>114</td>\n",
       "    </tr>\n",
       "    <tr>\n",
       "      <th>work</th>\n",
       "      <td>113</td>\n",
       "    </tr>\n",
       "    <tr>\n",
       "      <th>pick</th>\n",
       "      <td>109</td>\n",
       "    </tr>\n",
       "    <tr>\n",
       "      <th>ilmaq0vlim</th>\n",
       "      <td>107</td>\n",
       "    </tr>\n",
       "    <tr>\n",
       "      <th>vyzisghiui</th>\n",
       "      <td>104</td>\n",
       "    </tr>\n",
       "    <tr>\n",
       "      <th>gip</th>\n",
       "      <td>104</td>\n",
       "    </tr>\n",
       "    <tr>\n",
       "      <th>officially</th>\n",
       "      <td>94</td>\n",
       "    </tr>\n",
       "    <tr>\n",
       "      <th>klbqhaioso</th>\n",
       "      <td>93</td>\n",
       "    </tr>\n",
       "    <tr>\n",
       "      <th>showtime</th>\n",
       "      <td>87</td>\n",
       "    </tr>\n",
       "  </tbody>\n",
       "</table>\n",
       "</div>"
      ],
      "text/plain": [
       "            count\n",
       "duuuval      1381\n",
       "https        1314\n",
       "jaguars      1240\n",
       "rt           1150\n",
       "game          348\n",
       "day           309\n",
       "arrowhead     139\n",
       "headed        130\n",
       "db2tjcd1ih    129\n",
       "black         129\n",
       "pants         129\n",
       "tops          129\n",
       "white         129\n",
       "let           127\n",
       "kn2fwx2kay    117\n",
       "x03f1ueikn    116\n",
       "ready         114\n",
       "work          113\n",
       "pick          109\n",
       "ilmaq0vlim    107\n",
       "vyzisghiui    104\n",
       "gip           104\n",
       "officially     94\n",
       "klbqhaioso     93\n",
       "showtime       87"
      ]
     },
     "execution_count": 19,
     "metadata": {
      "tags": []
     },
     "output_type": "execute_result"
    }
   ],
   "source": [
    "names = cv1.get_feature_names()   #create list of feature names\n",
    "\n",
    "count = np.sum(cv1_jaguars_text.toarray(), axis = 0) # convert list to array to add up feature counts \n",
    "count2 = count.tolist()  # convert numpy array to list\n",
    "\n",
    "count_df = pd.DataFrame(count2, index = names, columns = ['count']) # create a dataframe from the list\n",
    "\n",
    "sorted_count = count_df.sort_values(['count'], ascending = False)\n",
    "sorted_count.head(25)"
   ]
  },
  {
   "cell_type": "markdown",
   "metadata": {
    "colab_type": "text",
    "id": "ltqNqidN7DI_"
   },
   "source": [
    "### CV2"
   ]
  },
  {
   "cell_type": "markdown",
   "metadata": {
    "colab_type": "text",
    "id": "Aeya1A7h6zqw"
   },
   "source": [
    "Create custom stopwords list to remove unhelpful words for next count vectorizer"
   ]
  },
  {
   "cell_type": "code",
   "execution_count": 0,
   "metadata": {
    "colab": {},
    "colab_type": "code",
    "id": "bk-NLh6l7BDK"
   },
   "outputs": [],
   "source": [
    "from sklearn.feature_extraction import text\n",
    "# Add more stopwords to standard english \n",
    "mylist = ['rt', '&', 'amp','pff','http','website','retweet','fi','fbs','https','years','uh2bpyg3gu','just','calling','intervi','traffic','shut']\n",
    "stopwords = text.ENGLISH_STOP_WORDS.union(mylist)"
   ]
  },
  {
   "cell_type": "code",
   "execution_count": 0,
   "metadata": {
    "colab": {},
    "colab_type": "code",
    "id": "AAIScwHt7EJg"
   },
   "outputs": [],
   "source": [
    "#Define the count vectorizer using stopwords custom parameter\n",
    "cv2 = CountVectorizer(stop_words=stopwords, min_df = .02)"
   ]
  },
  {
   "cell_type": "markdown",
   "metadata": {
    "colab_type": "text",
    "id": "LGdGDM2xZ3f2"
   },
   "source": [
    "#### Chiefs Feature Space"
   ]
  },
  {
   "cell_type": "code",
   "execution_count": 22,
   "metadata": {
    "colab": {
     "base_uri": "https://localhost:8080/",
     "height": 52
    },
    "colab_type": "code",
    "id": "2kePzhZcZ8Sk",
    "outputId": "700af7a2-8918-4eaa-d125-359de094069a"
   },
   "outputs": [
    {
     "name": "stdout",
     "output_type": "stream",
     "text": [
      "Shape: (1500, 63)\n",
      "Type: <class 'scipy.sparse.csr.csr_matrix'>\n"
     ]
    }
   ],
   "source": [
    "#Apply the count vectorizer for the bag of words to the dataframe feature\n",
    "cv2_chiefs_text = cv2.fit_transform(chiefs_frame['TweetText'])\n",
    "#This is the feature space for TweetText\n",
    "print('Shape:', cv2_chiefs_text.shape)\n",
    "#This is the type of matrix that is returned for TweetText\n",
    "print('Type:', type(cv2_chiefs_text))"
   ]
  },
  {
   "cell_type": "code",
   "execution_count": 23,
   "metadata": {
    "colab": {
     "base_uri": "https://localhost:8080/",
     "height": 376
    },
    "colab_type": "code",
    "id": "OaxTnwT4bCqL",
    "outputId": "38075205-9ef3-4591-f7be-bfe75e875cf2"
   },
   "outputs": [
    {
     "data": {
      "text/html": [
       "<div>\n",
       "<style scoped>\n",
       "    .dataframe tbody tr th:only-of-type {\n",
       "        vertical-align: middle;\n",
       "    }\n",
       "\n",
       "    .dataframe tbody tr th {\n",
       "        vertical-align: top;\n",
       "    }\n",
       "\n",
       "    .dataframe thead th {\n",
       "        text-align: right;\n",
       "    }\n",
       "</style>\n",
       "<table border=\"1\" class=\"dataframe\">\n",
       "  <thead>\n",
       "    <tr style=\"text-align: right;\">\n",
       "      <th></th>\n",
       "      <th>20</th>\n",
       "      <th>30</th>\n",
       "      <th>andrew__carter</th>\n",
       "      <th>arrowhead</th>\n",
       "      <th>arrowheadpride</th>\n",
       "      <th>b7a35zkasg</th>\n",
       "      <th>bortles</th>\n",
       "      <th>care</th>\n",
       "      <th>chiefs</th>\n",
       "      <th>chiefskingdom</th>\n",
       "      <th>...</th>\n",
       "      <th>td</th>\n",
       "      <th>telvon</th>\n",
       "      <th>thinks</th>\n",
       "      <th>today</th>\n",
       "      <th>tomkctv5</th>\n",
       "      <th>ve</th>\n",
       "      <th>vs</th>\n",
       "      <th>week</th>\n",
       "      <th>won</th>\n",
       "      <th>year</th>\n",
       "    </tr>\n",
       "  </thead>\n",
       "  <tbody>\n",
       "    <tr>\n",
       "      <th>0</th>\n",
       "      <td>0</td>\n",
       "      <td>0</td>\n",
       "      <td>0</td>\n",
       "      <td>0</td>\n",
       "      <td>0</td>\n",
       "      <td>0</td>\n",
       "      <td>0</td>\n",
       "      <td>0</td>\n",
       "      <td>1</td>\n",
       "      <td>0</td>\n",
       "      <td>...</td>\n",
       "      <td>0</td>\n",
       "      <td>0</td>\n",
       "      <td>0</td>\n",
       "      <td>0</td>\n",
       "      <td>0</td>\n",
       "      <td>0</td>\n",
       "      <td>0</td>\n",
       "      <td>0</td>\n",
       "      <td>0</td>\n",
       "      <td>1</td>\n",
       "    </tr>\n",
       "    <tr>\n",
       "      <th>1</th>\n",
       "      <td>0</td>\n",
       "      <td>0</td>\n",
       "      <td>0</td>\n",
       "      <td>0</td>\n",
       "      <td>0</td>\n",
       "      <td>0</td>\n",
       "      <td>0</td>\n",
       "      <td>0</td>\n",
       "      <td>1</td>\n",
       "      <td>1</td>\n",
       "      <td>...</td>\n",
       "      <td>0</td>\n",
       "      <td>0</td>\n",
       "      <td>0</td>\n",
       "      <td>0</td>\n",
       "      <td>0</td>\n",
       "      <td>0</td>\n",
       "      <td>0</td>\n",
       "      <td>0</td>\n",
       "      <td>0</td>\n",
       "      <td>0</td>\n",
       "    </tr>\n",
       "    <tr>\n",
       "      <th>2</th>\n",
       "      <td>0</td>\n",
       "      <td>0</td>\n",
       "      <td>0</td>\n",
       "      <td>0</td>\n",
       "      <td>0</td>\n",
       "      <td>0</td>\n",
       "      <td>0</td>\n",
       "      <td>0</td>\n",
       "      <td>1</td>\n",
       "      <td>0</td>\n",
       "      <td>...</td>\n",
       "      <td>0</td>\n",
       "      <td>0</td>\n",
       "      <td>0</td>\n",
       "      <td>0</td>\n",
       "      <td>0</td>\n",
       "      <td>0</td>\n",
       "      <td>0</td>\n",
       "      <td>0</td>\n",
       "      <td>0</td>\n",
       "      <td>0</td>\n",
       "    </tr>\n",
       "    <tr>\n",
       "      <th>3</th>\n",
       "      <td>0</td>\n",
       "      <td>0</td>\n",
       "      <td>0</td>\n",
       "      <td>0</td>\n",
       "      <td>0</td>\n",
       "      <td>0</td>\n",
       "      <td>0</td>\n",
       "      <td>0</td>\n",
       "      <td>1</td>\n",
       "      <td>0</td>\n",
       "      <td>...</td>\n",
       "      <td>0</td>\n",
       "      <td>1</td>\n",
       "      <td>0</td>\n",
       "      <td>0</td>\n",
       "      <td>0</td>\n",
       "      <td>0</td>\n",
       "      <td>0</td>\n",
       "      <td>0</td>\n",
       "      <td>0</td>\n",
       "      <td>0</td>\n",
       "    </tr>\n",
       "    <tr>\n",
       "      <th>4</th>\n",
       "      <td>0</td>\n",
       "      <td>0</td>\n",
       "      <td>0</td>\n",
       "      <td>0</td>\n",
       "      <td>0</td>\n",
       "      <td>0</td>\n",
       "      <td>0</td>\n",
       "      <td>0</td>\n",
       "      <td>1</td>\n",
       "      <td>0</td>\n",
       "      <td>...</td>\n",
       "      <td>0</td>\n",
       "      <td>0</td>\n",
       "      <td>0</td>\n",
       "      <td>0</td>\n",
       "      <td>0</td>\n",
       "      <td>0</td>\n",
       "      <td>0</td>\n",
       "      <td>1</td>\n",
       "      <td>0</td>\n",
       "      <td>0</td>\n",
       "    </tr>\n",
       "    <tr>\n",
       "      <th>5</th>\n",
       "      <td>0</td>\n",
       "      <td>0</td>\n",
       "      <td>0</td>\n",
       "      <td>0</td>\n",
       "      <td>0</td>\n",
       "      <td>0</td>\n",
       "      <td>0</td>\n",
       "      <td>0</td>\n",
       "      <td>1</td>\n",
       "      <td>0</td>\n",
       "      <td>...</td>\n",
       "      <td>0</td>\n",
       "      <td>0</td>\n",
       "      <td>0</td>\n",
       "      <td>0</td>\n",
       "      <td>0</td>\n",
       "      <td>0</td>\n",
       "      <td>0</td>\n",
       "      <td>0</td>\n",
       "      <td>0</td>\n",
       "      <td>0</td>\n",
       "    </tr>\n",
       "    <tr>\n",
       "      <th>6</th>\n",
       "      <td>0</td>\n",
       "      <td>0</td>\n",
       "      <td>0</td>\n",
       "      <td>0</td>\n",
       "      <td>0</td>\n",
       "      <td>0</td>\n",
       "      <td>0</td>\n",
       "      <td>0</td>\n",
       "      <td>1</td>\n",
       "      <td>0</td>\n",
       "      <td>...</td>\n",
       "      <td>0</td>\n",
       "      <td>0</td>\n",
       "      <td>0</td>\n",
       "      <td>0</td>\n",
       "      <td>0</td>\n",
       "      <td>0</td>\n",
       "      <td>0</td>\n",
       "      <td>0</td>\n",
       "      <td>0</td>\n",
       "      <td>0</td>\n",
       "    </tr>\n",
       "    <tr>\n",
       "      <th>7</th>\n",
       "      <td>0</td>\n",
       "      <td>0</td>\n",
       "      <td>0</td>\n",
       "      <td>0</td>\n",
       "      <td>0</td>\n",
       "      <td>0</td>\n",
       "      <td>0</td>\n",
       "      <td>0</td>\n",
       "      <td>1</td>\n",
       "      <td>0</td>\n",
       "      <td>...</td>\n",
       "      <td>0</td>\n",
       "      <td>0</td>\n",
       "      <td>0</td>\n",
       "      <td>0</td>\n",
       "      <td>0</td>\n",
       "      <td>0</td>\n",
       "      <td>0</td>\n",
       "      <td>0</td>\n",
       "      <td>0</td>\n",
       "      <td>0</td>\n",
       "    </tr>\n",
       "    <tr>\n",
       "      <th>8</th>\n",
       "      <td>0</td>\n",
       "      <td>0</td>\n",
       "      <td>0</td>\n",
       "      <td>0</td>\n",
       "      <td>0</td>\n",
       "      <td>0</td>\n",
       "      <td>0</td>\n",
       "      <td>0</td>\n",
       "      <td>2</td>\n",
       "      <td>0</td>\n",
       "      <td>...</td>\n",
       "      <td>0</td>\n",
       "      <td>0</td>\n",
       "      <td>0</td>\n",
       "      <td>0</td>\n",
       "      <td>0</td>\n",
       "      <td>0</td>\n",
       "      <td>0</td>\n",
       "      <td>0</td>\n",
       "      <td>0</td>\n",
       "      <td>0</td>\n",
       "    </tr>\n",
       "    <tr>\n",
       "      <th>9</th>\n",
       "      <td>0</td>\n",
       "      <td>0</td>\n",
       "      <td>0</td>\n",
       "      <td>0</td>\n",
       "      <td>0</td>\n",
       "      <td>0</td>\n",
       "      <td>0</td>\n",
       "      <td>0</td>\n",
       "      <td>1</td>\n",
       "      <td>0</td>\n",
       "      <td>...</td>\n",
       "      <td>0</td>\n",
       "      <td>0</td>\n",
       "      <td>0</td>\n",
       "      <td>0</td>\n",
       "      <td>0</td>\n",
       "      <td>0</td>\n",
       "      <td>0</td>\n",
       "      <td>1</td>\n",
       "      <td>0</td>\n",
       "      <td>0</td>\n",
       "    </tr>\n",
       "  </tbody>\n",
       "</table>\n",
       "<p>10 rows × 63 columns</p>\n",
       "</div>"
      ],
      "text/plain": [
       "   20  30  andrew__carter  arrowhead  arrowheadpride  b7a35zkasg  bortles  \\\n",
       "0   0   0               0          0               0           0        0   \n",
       "1   0   0               0          0               0           0        0   \n",
       "2   0   0               0          0               0           0        0   \n",
       "3   0   0               0          0               0           0        0   \n",
       "4   0   0               0          0               0           0        0   \n",
       "5   0   0               0          0               0           0        0   \n",
       "6   0   0               0          0               0           0        0   \n",
       "7   0   0               0          0               0           0        0   \n",
       "8   0   0               0          0               0           0        0   \n",
       "9   0   0               0          0               0           0        0   \n",
       "\n",
       "   care  chiefs  chiefskingdom  ...   td  telvon  thinks  today  tomkctv5  ve  \\\n",
       "0     0       1              0  ...    0       0       0      0         0   0   \n",
       "1     0       1              1  ...    0       0       0      0         0   0   \n",
       "2     0       1              0  ...    0       0       0      0         0   0   \n",
       "3     0       1              0  ...    0       1       0      0         0   0   \n",
       "4     0       1              0  ...    0       0       0      0         0   0   \n",
       "5     0       1              0  ...    0       0       0      0         0   0   \n",
       "6     0       1              0  ...    0       0       0      0         0   0   \n",
       "7     0       1              0  ...    0       0       0      0         0   0   \n",
       "8     0       2              0  ...    0       0       0      0         0   0   \n",
       "9     0       1              0  ...    0       0       0      0         0   0   \n",
       "\n",
       "   vs  week  won  year  \n",
       "0   0     0    0     1  \n",
       "1   0     0    0     0  \n",
       "2   0     0    0     0  \n",
       "3   0     0    0     0  \n",
       "4   0     1    0     0  \n",
       "5   0     0    0     0  \n",
       "6   0     0    0     0  \n",
       "7   0     0    0     0  \n",
       "8   0     0    0     0  \n",
       "9   0     1    0     0  \n",
       "\n",
       "[10 rows x 63 columns]"
      ]
     },
     "execution_count": 23,
     "metadata": {
      "tags": []
     },
     "output_type": "execute_result"
    }
   ],
   "source": [
    "#Print the sparse matrix as a data frame for an aestheticallly pleasing view of the feature space head#Print t \n",
    "pd.DataFrame(cv2_chiefs_text.toarray(), columns = cv2.get_feature_names()).head(10)"
   ]
  },
  {
   "cell_type": "markdown",
   "metadata": {
    "colab_type": "text",
    "id": "YcqNm3LLag_V"
   },
   "source": [
    "Most frequently occurring terms:"
   ]
  },
  {
   "cell_type": "code",
   "execution_count": 24,
   "metadata": {
    "colab": {
     "base_uri": "https://localhost:8080/",
     "height": 497
    },
    "colab_type": "code",
    "id": "nC5HsgFi7I3Z",
    "outputId": "94531565-40e5-4b4f-afb0-62703f4f87c2"
   },
   "outputs": [
    {
     "data": {
      "text/html": [
       "<div>\n",
       "<style scoped>\n",
       "    .dataframe tbody tr th:only-of-type {\n",
       "        vertical-align: middle;\n",
       "    }\n",
       "\n",
       "    .dataframe tbody tr th {\n",
       "        vertical-align: top;\n",
       "    }\n",
       "\n",
       "    .dataframe thead th {\n",
       "        text-align: right;\n",
       "    }\n",
       "</style>\n",
       "<table border=\"1\" class=\"dataframe\">\n",
       "  <thead>\n",
       "    <tr style=\"text-align: right;\">\n",
       "      <th></th>\n",
       "      <th>count</th>\n",
       "    </tr>\n",
       "  </thead>\n",
       "  <tbody>\n",
       "    <tr>\n",
       "      <th>chiefs</th>\n",
       "      <td>1488</td>\n",
       "    </tr>\n",
       "    <tr>\n",
       "      <th>jaguars</th>\n",
       "      <td>224</td>\n",
       "    </tr>\n",
       "    <tr>\n",
       "      <th>defense</th>\n",
       "      <td>202</td>\n",
       "    </tr>\n",
       "    <tr>\n",
       "      <th>mahomes</th>\n",
       "      <td>174</td>\n",
       "    </tr>\n",
       "    <tr>\n",
       "      <th>chiefskingdom</th>\n",
       "      <td>161</td>\n",
       "    </tr>\n",
       "    <tr>\n",
       "      <th>game</th>\n",
       "      <td>137</td>\n",
       "    </tr>\n",
       "    <tr>\n",
       "      <th>jags</th>\n",
       "      <td>98</td>\n",
       "    </tr>\n",
       "    <tr>\n",
       "      <th>patrick</th>\n",
       "      <td>91</td>\n",
       "    </tr>\n",
       "    <tr>\n",
       "      <th>good</th>\n",
       "      <td>82</td>\n",
       "    </tr>\n",
       "    <tr>\n",
       "      <th>tomkctv5</th>\n",
       "      <td>78</td>\n",
       "    </tr>\n",
       "    <tr>\n",
       "      <th>jones</th>\n",
       "      <td>74</td>\n",
       "    </tr>\n",
       "    <tr>\n",
       "      <th>today</th>\n",
       "      <td>71</td>\n",
       "    </tr>\n",
       "    <tr>\n",
       "      <th>chris</th>\n",
       "      <td>71</td>\n",
       "    </tr>\n",
       "    <tr>\n",
       "      <th>offense</th>\n",
       "      <td>69</td>\n",
       "    </tr>\n",
       "    <tr>\n",
       "      <th>jeff_rosen88</th>\n",
       "      <td>65</td>\n",
       "    </tr>\n",
       "  </tbody>\n",
       "</table>\n",
       "</div>"
      ],
      "text/plain": [
       "               count\n",
       "chiefs          1488\n",
       "jaguars          224\n",
       "defense          202\n",
       "mahomes          174\n",
       "chiefskingdom    161\n",
       "game             137\n",
       "jags              98\n",
       "patrick           91\n",
       "good              82\n",
       "tomkctv5          78\n",
       "jones             74\n",
       "today             71\n",
       "chris             71\n",
       "offense           69\n",
       "jeff_rosen88      65"
      ]
     },
     "execution_count": 24,
     "metadata": {
      "tags": []
     },
     "output_type": "execute_result"
    }
   ],
   "source": [
    "names = cv2.get_feature_names()   #create list of feature names\n",
    "\n",
    "count = np.sum(cv2_chiefs_text.toarray(), axis = 0) # convert list to array to add up feature counts \n",
    "count2 = count.tolist()  # convert numpy array to list\n",
    "\n",
    "count_df = pd.DataFrame(count2, index = names, columns = ['count']) # create a dataframe from the list\n",
    "\n",
    "sorted_count = count_df.sort_values(['count'], ascending = False)\n",
    "sorted_count.head(15)"
   ]
  },
  {
   "cell_type": "markdown",
   "metadata": {
    "colab_type": "text",
    "id": "ZUTK2qBObHaG"
   },
   "source": [
    "#### Jaguars Feature Space"
   ]
  },
  {
   "cell_type": "code",
   "execution_count": 25,
   "metadata": {
    "colab": {
     "base_uri": "https://localhost:8080/",
     "height": 52
    },
    "colab_type": "code",
    "id": "thfCqLG7aj8N",
    "outputId": "6693b243-c94d-4e45-d34c-4e22ca4edf4c"
   },
   "outputs": [
    {
     "name": "stdout",
     "output_type": "stream",
     "text": [
      "Shape: (1500, 49)\n",
      "Type: <class 'scipy.sparse.csr.csr_matrix'>\n"
     ]
    }
   ],
   "source": [
    "#Apply the count vectorizer for the bag of words to the dataframe feature\n",
    "cv2_jaguars_text = cv2.fit_transform(jaguars_frame['TweetText'])\n",
    "#This is the feature space for TweetText\n",
    "print('Shape:', cv2_jaguars_text.shape)\n",
    "#This is the type of matrix that is returned for TweetText\n",
    "print('Type:', type(cv2_jaguars_text))"
   ]
  },
  {
   "cell_type": "code",
   "execution_count": 26,
   "metadata": {
    "colab": {
     "base_uri": "https://localhost:8080/",
     "height": 376
    },
    "colab_type": "code",
    "id": "HksvefEAbQzM",
    "outputId": "07d28c9d-e0da-4248-9fe3-b024bdb371c1"
   },
   "outputs": [
    {
     "data": {
      "text/html": [
       "<div>\n",
       "<style scoped>\n",
       "    .dataframe tbody tr th:only-of-type {\n",
       "        vertical-align: middle;\n",
       "    }\n",
       "\n",
       "    .dataframe tbody tr th {\n",
       "        vertical-align: top;\n",
       "    }\n",
       "\n",
       "    .dataframe thead th {\n",
       "        text-align: right;\n",
       "    }\n",
       "</style>\n",
       "<table border=\"1\" class=\"dataframe\">\n",
       "  <thead>\n",
       "    <tr style=\"text-align: right;\">\n",
       "      <th></th>\n",
       "      <th>04</th>\n",
       "      <th>24</th>\n",
       "      <th>ajbouye21</th>\n",
       "      <th>arrowhead</th>\n",
       "      <th>big</th>\n",
       "      <th>black</th>\n",
       "      <th>bortles</th>\n",
       "      <th>chiefs</th>\n",
       "      <th>day</th>\n",
       "      <th>db2tjcd1ih</th>\n",
       "      <th>...</th>\n",
       "      <th>vs</th>\n",
       "      <th>vyzisghiui</th>\n",
       "      <th>wanna</th>\n",
       "      <th>week</th>\n",
       "      <th>white</th>\n",
       "      <th>work</th>\n",
       "      <th>x03f1ueikn</th>\n",
       "      <th>yanngetsacks91</th>\n",
       "      <th>year</th>\n",
       "      <th>yp2g7bj79n</th>\n",
       "    </tr>\n",
       "  </thead>\n",
       "  <tbody>\n",
       "    <tr>\n",
       "      <th>0</th>\n",
       "      <td>0</td>\n",
       "      <td>0</td>\n",
       "      <td>0</td>\n",
       "      <td>0</td>\n",
       "      <td>0</td>\n",
       "      <td>0</td>\n",
       "      <td>0</td>\n",
       "      <td>0</td>\n",
       "      <td>0</td>\n",
       "      <td>0</td>\n",
       "      <td>...</td>\n",
       "      <td>0</td>\n",
       "      <td>1</td>\n",
       "      <td>0</td>\n",
       "      <td>0</td>\n",
       "      <td>0</td>\n",
       "      <td>0</td>\n",
       "      <td>0</td>\n",
       "      <td>0</td>\n",
       "      <td>0</td>\n",
       "      <td>0</td>\n",
       "    </tr>\n",
       "    <tr>\n",
       "      <th>1</th>\n",
       "      <td>0</td>\n",
       "      <td>0</td>\n",
       "      <td>0</td>\n",
       "      <td>0</td>\n",
       "      <td>0</td>\n",
       "      <td>0</td>\n",
       "      <td>0</td>\n",
       "      <td>0</td>\n",
       "      <td>0</td>\n",
       "      <td>0</td>\n",
       "      <td>...</td>\n",
       "      <td>0</td>\n",
       "      <td>1</td>\n",
       "      <td>0</td>\n",
       "      <td>0</td>\n",
       "      <td>0</td>\n",
       "      <td>0</td>\n",
       "      <td>0</td>\n",
       "      <td>0</td>\n",
       "      <td>0</td>\n",
       "      <td>0</td>\n",
       "    </tr>\n",
       "    <tr>\n",
       "      <th>2</th>\n",
       "      <td>0</td>\n",
       "      <td>0</td>\n",
       "      <td>0</td>\n",
       "      <td>0</td>\n",
       "      <td>0</td>\n",
       "      <td>0</td>\n",
       "      <td>0</td>\n",
       "      <td>0</td>\n",
       "      <td>0</td>\n",
       "      <td>0</td>\n",
       "      <td>...</td>\n",
       "      <td>0</td>\n",
       "      <td>0</td>\n",
       "      <td>0</td>\n",
       "      <td>0</td>\n",
       "      <td>0</td>\n",
       "      <td>0</td>\n",
       "      <td>0</td>\n",
       "      <td>0</td>\n",
       "      <td>0</td>\n",
       "      <td>0</td>\n",
       "    </tr>\n",
       "    <tr>\n",
       "      <th>3</th>\n",
       "      <td>0</td>\n",
       "      <td>0</td>\n",
       "      <td>0</td>\n",
       "      <td>0</td>\n",
       "      <td>0</td>\n",
       "      <td>0</td>\n",
       "      <td>0</td>\n",
       "      <td>0</td>\n",
       "      <td>0</td>\n",
       "      <td>0</td>\n",
       "      <td>...</td>\n",
       "      <td>0</td>\n",
       "      <td>0</td>\n",
       "      <td>0</td>\n",
       "      <td>0</td>\n",
       "      <td>0</td>\n",
       "      <td>0</td>\n",
       "      <td>0</td>\n",
       "      <td>0</td>\n",
       "      <td>0</td>\n",
       "      <td>0</td>\n",
       "    </tr>\n",
       "    <tr>\n",
       "      <th>4</th>\n",
       "      <td>0</td>\n",
       "      <td>0</td>\n",
       "      <td>0</td>\n",
       "      <td>0</td>\n",
       "      <td>0</td>\n",
       "      <td>0</td>\n",
       "      <td>0</td>\n",
       "      <td>0</td>\n",
       "      <td>0</td>\n",
       "      <td>0</td>\n",
       "      <td>...</td>\n",
       "      <td>0</td>\n",
       "      <td>0</td>\n",
       "      <td>0</td>\n",
       "      <td>0</td>\n",
       "      <td>0</td>\n",
       "      <td>0</td>\n",
       "      <td>0</td>\n",
       "      <td>0</td>\n",
       "      <td>0</td>\n",
       "      <td>0</td>\n",
       "    </tr>\n",
       "    <tr>\n",
       "      <th>5</th>\n",
       "      <td>0</td>\n",
       "      <td>0</td>\n",
       "      <td>1</td>\n",
       "      <td>0</td>\n",
       "      <td>0</td>\n",
       "      <td>0</td>\n",
       "      <td>0</td>\n",
       "      <td>0</td>\n",
       "      <td>0</td>\n",
       "      <td>0</td>\n",
       "      <td>...</td>\n",
       "      <td>0</td>\n",
       "      <td>0</td>\n",
       "      <td>0</td>\n",
       "      <td>0</td>\n",
       "      <td>0</td>\n",
       "      <td>0</td>\n",
       "      <td>0</td>\n",
       "      <td>0</td>\n",
       "      <td>1</td>\n",
       "      <td>0</td>\n",
       "    </tr>\n",
       "    <tr>\n",
       "      <th>6</th>\n",
       "      <td>0</td>\n",
       "      <td>0</td>\n",
       "      <td>1</td>\n",
       "      <td>0</td>\n",
       "      <td>0</td>\n",
       "      <td>0</td>\n",
       "      <td>0</td>\n",
       "      <td>0</td>\n",
       "      <td>0</td>\n",
       "      <td>0</td>\n",
       "      <td>...</td>\n",
       "      <td>0</td>\n",
       "      <td>0</td>\n",
       "      <td>0</td>\n",
       "      <td>0</td>\n",
       "      <td>0</td>\n",
       "      <td>0</td>\n",
       "      <td>0</td>\n",
       "      <td>0</td>\n",
       "      <td>1</td>\n",
       "      <td>0</td>\n",
       "    </tr>\n",
       "    <tr>\n",
       "      <th>7</th>\n",
       "      <td>0</td>\n",
       "      <td>0</td>\n",
       "      <td>0</td>\n",
       "      <td>0</td>\n",
       "      <td>0</td>\n",
       "      <td>0</td>\n",
       "      <td>0</td>\n",
       "      <td>1</td>\n",
       "      <td>0</td>\n",
       "      <td>0</td>\n",
       "      <td>...</td>\n",
       "      <td>0</td>\n",
       "      <td>0</td>\n",
       "      <td>0</td>\n",
       "      <td>0</td>\n",
       "      <td>0</td>\n",
       "      <td>0</td>\n",
       "      <td>0</td>\n",
       "      <td>0</td>\n",
       "      <td>0</td>\n",
       "      <td>0</td>\n",
       "    </tr>\n",
       "    <tr>\n",
       "      <th>8</th>\n",
       "      <td>0</td>\n",
       "      <td>0</td>\n",
       "      <td>0</td>\n",
       "      <td>0</td>\n",
       "      <td>0</td>\n",
       "      <td>0</td>\n",
       "      <td>0</td>\n",
       "      <td>0</td>\n",
       "      <td>0</td>\n",
       "      <td>0</td>\n",
       "      <td>...</td>\n",
       "      <td>0</td>\n",
       "      <td>0</td>\n",
       "      <td>0</td>\n",
       "      <td>0</td>\n",
       "      <td>0</td>\n",
       "      <td>0</td>\n",
       "      <td>0</td>\n",
       "      <td>0</td>\n",
       "      <td>0</td>\n",
       "      <td>0</td>\n",
       "    </tr>\n",
       "    <tr>\n",
       "      <th>9</th>\n",
       "      <td>0</td>\n",
       "      <td>0</td>\n",
       "      <td>1</td>\n",
       "      <td>0</td>\n",
       "      <td>0</td>\n",
       "      <td>0</td>\n",
       "      <td>0</td>\n",
       "      <td>0</td>\n",
       "      <td>0</td>\n",
       "      <td>0</td>\n",
       "      <td>...</td>\n",
       "      <td>0</td>\n",
       "      <td>0</td>\n",
       "      <td>0</td>\n",
       "      <td>0</td>\n",
       "      <td>0</td>\n",
       "      <td>0</td>\n",
       "      <td>0</td>\n",
       "      <td>0</td>\n",
       "      <td>1</td>\n",
       "      <td>0</td>\n",
       "    </tr>\n",
       "  </tbody>\n",
       "</table>\n",
       "<p>10 rows × 49 columns</p>\n",
       "</div>"
      ],
      "text/plain": [
       "   04  24  ajbouye21  arrowhead  big  black  bortles  chiefs  day  db2tjcd1ih  \\\n",
       "0   0   0          0          0    0      0        0       0    0           0   \n",
       "1   0   0          0          0    0      0        0       0    0           0   \n",
       "2   0   0          0          0    0      0        0       0    0           0   \n",
       "3   0   0          0          0    0      0        0       0    0           0   \n",
       "4   0   0          0          0    0      0        0       0    0           0   \n",
       "5   0   0          1          0    0      0        0       0    0           0   \n",
       "6   0   0          1          0    0      0        0       0    0           0   \n",
       "7   0   0          0          0    0      0        0       1    0           0   \n",
       "8   0   0          0          0    0      0        0       0    0           0   \n",
       "9   0   0          1          0    0      0        0       0    0           0   \n",
       "\n",
       "      ...      vs  vyzisghiui  wanna  week  white  work  x03f1ueikn  \\\n",
       "0     ...       0           1      0     0      0     0           0   \n",
       "1     ...       0           1      0     0      0     0           0   \n",
       "2     ...       0           0      0     0      0     0           0   \n",
       "3     ...       0           0      0     0      0     0           0   \n",
       "4     ...       0           0      0     0      0     0           0   \n",
       "5     ...       0           0      0     0      0     0           0   \n",
       "6     ...       0           0      0     0      0     0           0   \n",
       "7     ...       0           0      0     0      0     0           0   \n",
       "8     ...       0           0      0     0      0     0           0   \n",
       "9     ...       0           0      0     0      0     0           0   \n",
       "\n",
       "   yanngetsacks91  year  yp2g7bj79n  \n",
       "0               0     0           0  \n",
       "1               0     0           0  \n",
       "2               0     0           0  \n",
       "3               0     0           0  \n",
       "4               0     0           0  \n",
       "5               0     1           0  \n",
       "6               0     1           0  \n",
       "7               0     0           0  \n",
       "8               0     0           0  \n",
       "9               0     1           0  \n",
       "\n",
       "[10 rows x 49 columns]"
      ]
     },
     "execution_count": 26,
     "metadata": {
      "tags": []
     },
     "output_type": "execute_result"
    }
   ],
   "source": [
    "#Print the sparse matrix as a data frame for an aestheticallly pleasing view of the feature space head#Print t \n",
    "pd.DataFrame(cv2_jaguars_text.toarray(), columns = cv2.get_feature_names()).head(10)"
   ]
  },
  {
   "cell_type": "markdown",
   "metadata": {
    "colab_type": "text",
    "id": "jHYFiCJgbXHl"
   },
   "source": [
    "Most frequently occurring terms:"
   ]
  },
  {
   "cell_type": "code",
   "execution_count": 27,
   "metadata": {
    "colab": {
     "base_uri": "https://localhost:8080/",
     "height": 497
    },
    "colab_type": "code",
    "id": "WppFGEDkbZra",
    "outputId": "4ab9339b-cf17-489d-cf7e-581aa608ebc0"
   },
   "outputs": [
    {
     "data": {
      "text/html": [
       "<div>\n",
       "<style scoped>\n",
       "    .dataframe tbody tr th:only-of-type {\n",
       "        vertical-align: middle;\n",
       "    }\n",
       "\n",
       "    .dataframe tbody tr th {\n",
       "        vertical-align: top;\n",
       "    }\n",
       "\n",
       "    .dataframe thead th {\n",
       "        text-align: right;\n",
       "    }\n",
       "</style>\n",
       "<table border=\"1\" class=\"dataframe\">\n",
       "  <thead>\n",
       "    <tr style=\"text-align: right;\">\n",
       "      <th></th>\n",
       "      <th>count</th>\n",
       "    </tr>\n",
       "  </thead>\n",
       "  <tbody>\n",
       "    <tr>\n",
       "      <th>duuuval</th>\n",
       "      <td>1381</td>\n",
       "    </tr>\n",
       "    <tr>\n",
       "      <th>jaguars</th>\n",
       "      <td>1240</td>\n",
       "    </tr>\n",
       "    <tr>\n",
       "      <th>game</th>\n",
       "      <td>348</td>\n",
       "    </tr>\n",
       "    <tr>\n",
       "      <th>day</th>\n",
       "      <td>309</td>\n",
       "    </tr>\n",
       "    <tr>\n",
       "      <th>arrowhead</th>\n",
       "      <td>139</td>\n",
       "    </tr>\n",
       "    <tr>\n",
       "      <th>headed</th>\n",
       "      <td>130</td>\n",
       "    </tr>\n",
       "    <tr>\n",
       "      <th>pants</th>\n",
       "      <td>129</td>\n",
       "    </tr>\n",
       "    <tr>\n",
       "      <th>black</th>\n",
       "      <td>129</td>\n",
       "    </tr>\n",
       "    <tr>\n",
       "      <th>tops</th>\n",
       "      <td>129</td>\n",
       "    </tr>\n",
       "    <tr>\n",
       "      <th>db2tjcd1ih</th>\n",
       "      <td>129</td>\n",
       "    </tr>\n",
       "    <tr>\n",
       "      <th>white</th>\n",
       "      <td>129</td>\n",
       "    </tr>\n",
       "    <tr>\n",
       "      <th>let</th>\n",
       "      <td>127</td>\n",
       "    </tr>\n",
       "    <tr>\n",
       "      <th>kn2fwx2kay</th>\n",
       "      <td>117</td>\n",
       "    </tr>\n",
       "    <tr>\n",
       "      <th>x03f1ueikn</th>\n",
       "      <td>116</td>\n",
       "    </tr>\n",
       "    <tr>\n",
       "      <th>ready</th>\n",
       "      <td>114</td>\n",
       "    </tr>\n",
       "  </tbody>\n",
       "</table>\n",
       "</div>"
      ],
      "text/plain": [
       "            count\n",
       "duuuval      1381\n",
       "jaguars      1240\n",
       "game          348\n",
       "day           309\n",
       "arrowhead     139\n",
       "headed        130\n",
       "pants         129\n",
       "black         129\n",
       "tops          129\n",
       "db2tjcd1ih    129\n",
       "white         129\n",
       "let           127\n",
       "kn2fwx2kay    117\n",
       "x03f1ueikn    116\n",
       "ready         114"
      ]
     },
     "execution_count": 27,
     "metadata": {
      "tags": []
     },
     "output_type": "execute_result"
    }
   ],
   "source": [
    "names = cv2.get_feature_names()   #create list of feature names\n",
    "\n",
    "count = np.sum(cv2_jaguars_text.toarray(), axis = 0) # convert list to array to add up feature counts \n",
    "count2 = count.tolist()  # convert numpy array to list\n",
    "\n",
    "count_df = pd.DataFrame(count2, index = names, columns = ['count']) # create a dataframe from the list\n",
    "\n",
    "sorted_count = count_df.sort_values(['count'], ascending = False)\n",
    "sorted_count.head(15)"
   ]
  },
  {
   "cell_type": "markdown",
   "metadata": {
    "colab_type": "text",
    "id": "K9lhG8zU7PIR"
   },
   "source": [
    "---"
   ]
  },
  {
   "cell_type": "markdown",
   "metadata": {
    "colab_type": "text",
    "id": "cBsoiTHM7QnV"
   },
   "source": [
    "## Sentiment Analysis\n",
    "\n",
    "Sentiment analysis will be performed to gain insight into the the tone of Tweets regarding Kavanaugh. The results will be used to generate a target variable for predictive modeling."
   ]
  },
  {
   "cell_type": "markdown",
   "metadata": {
    "colab_type": "text",
    "id": "Yb4gFE8Jihfs"
   },
   "source": [
    "### Sentiment Analysis Summary\n",
    "\n",
    "AFINN Dictionary\n",
    "*   Rendered all tweets as being neutral in sentiment\n",
    "\n",
    "HL Dictionary\n",
    "*   "
   ]
  },
  {
   "cell_type": "markdown",
   "metadata": {
    "colab_type": "text",
    "id": "dW7C-_RmSLXl"
   },
   "source": [
    "### AFINN Dictionary"
   ]
  },
  {
   "cell_type": "markdown",
   "metadata": {
    "colab_type": "text",
    "id": "pQfQJ2oceqiE"
   },
   "source": [
    "#### Define AFINN classes"
   ]
  },
  {
   "cell_type": "markdown",
   "metadata": {
    "colab_type": "text",
    "id": "IJQiaa2Sg5hE"
   },
   "source": [
    "This part is to allow google collaboratory to upload locally saved files into the drive"
   ]
  },
  {
   "cell_type": "code",
   "execution_count": 28,
   "metadata": {
    "colab": {
     "base_uri": "https://localhost:8080/",
     "height": 142,
     "resources": {
      "http://localhost:8080/nbextensions/google.colab/files.js": {
       "data": "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",
       "headers": [
        [
         "content-type",
         "application/javascript"
        ]
       ],
       "ok": true,
       "status": 200,
       "status_text": ""
      }
     }
    },
    "colab_type": "code",
    "id": "6q23tRu27Spe",
    "outputId": "c3c28955-c259-4e48-fda4-a9fc1f8ff544"
   },
   "outputs": [
    {
     "data": {
      "text/html": [
       "\n",
       "     <input type=\"file\" id=\"files-c7091622-72a9-4475-9bb4-ef0b3da40294\" name=\"files[]\" multiple disabled />\n",
       "     <output id=\"result-c7091622-72a9-4475-9bb4-ef0b3da40294\">\n",
       "      Upload widget is only available when the cell has been executed in the\n",
       "      current browser session. Please rerun this cell to enable.\n",
       "      </output>\n",
       "      <script src=\"/nbextensions/google.colab/files.js\"></script> "
      ],
      "text/plain": [
       "<IPython.core.display.HTML object>"
      ]
     },
     "metadata": {
      "tags": []
     },
     "output_type": "display_data"
    },
    {
     "name": "stdout",
     "output_type": "stream",
     "text": [
      "Saving AFINN-111.txt to AFINN-111.txt\n",
      "Saving HLneg.txt to HLneg.txt\n",
      "Saving HLpos.txt to HLpos.txt\n"
     ]
    }
   ],
   "source": [
    "#Use google.colab to import dictionaries\n",
    "from google.colab import files\n",
    "\n",
    "#Choose file(s) to upload\n",
    "uploaded = files.upload()"
   ]
  },
  {
   "cell_type": "code",
   "execution_count": 29,
   "metadata": {
    "colab": {
     "base_uri": "https://localhost:8080/",
     "height": 70
    },
    "colab_type": "code",
    "id": "xwNBdXpl7cqJ",
    "outputId": "f0171ef9-4c45-44ed-efd2-88ab34a543f7"
   },
   "outputs": [
    {
     "name": "stdout",
     "output_type": "stream",
     "text": [
      "User uploaded file \"AFINN-111.txt\" with length 28093 bytes\n",
      "User uploaded file \"HLneg.txt\" with length 44758 bytes\n",
      "User uploaded file \"HLpos.txt\" with length 19093 bytes\n"
     ]
    }
   ],
   "source": [
    "#Run foreloop to execute the file upload\n",
    "for fn in uploaded.keys():\n",
    "  print('User uploaded file \"{name}\" with length {length} bytes'.format(\n",
    "      name=fn, length=len(uploaded[fn])))"
   ]
  },
  {
   "cell_type": "code",
   "execution_count": 30,
   "metadata": {
    "colab": {
     "base_uri": "https://localhost:8080/",
     "height": 407
    },
    "colab_type": "code",
    "id": "CqvR9r_sBX5J",
    "outputId": "4cb449c6-e84b-49d1-95ef-b0c045cde87d"
   },
   "outputs": [
    {
     "name": "stdout",
     "output_type": "stream",
     "text": [
      "<class 'dict'> 2477\n",
      "abandon => -2\n",
      "abandoned => -2\n",
      "abandons => -2\n",
      "abducted => -2\n",
      "abduction => -2\n",
      "abductions => -2\n",
      "abhor => -3\n",
      "abhorred => -3\n",
      "abhorrent => -3\n",
      "abhors => -3\n",
      "~~~~~~~~~~~~\n",
      "yeah => 1\n",
      "yearning => 1\n",
      "yeees => 2\n",
      "yes => 1\n",
      "youthful => 2\n",
      "yucky => -2\n",
      "yummy => 3\n",
      "zealot => -2\n",
      "zealots => -2\n",
      "zealous => 2\n"
     ]
    }
   ],
   "source": [
    "# Sentiment dictionary that assigns scores to words signifying their sentiment polarity or neutrality\n",
    "\n",
    "afinn = {}\n",
    "for line in open(\"AFINN-111.txt\"):\n",
    "    tt = line.split('\\t')\n",
    "    afinn.update({tt[0]:int(tt[1])})\n",
    "\n",
    "\n",
    "print(type(afinn), len(afinn))\n",
    "\n",
    "for key, value in sorted(afinn.items())[0:10]:\n",
    "    print(key + \" => \" + str(value))\n",
    "print(\"~~~~~~~~~~~~\")\n",
    "for key, value in sorted(afinn.items())[2467:]:\n",
    "    print(key + \" => \" + str(value))"
   ]
  },
  {
   "cell_type": "code",
   "execution_count": 0,
   "metadata": {
    "colab": {},
    "colab_type": "code",
    "id": "e8CbJN3rBeB_"
   },
   "outputs": [],
   "source": [
    "# here we are going for strictly the sum:  add up the positives and \"subtract\" the negatives\n",
    "# you can return a number or a label\n",
    "\n",
    "def afinn_sent(inputstring):\n",
    "    \n",
    "    sentcount =0\n",
    "    for word in inputstring.split():  \n",
    "        if word.rstrip('?:!.,;') in afinn:\n",
    "            sentcount = sentcount + afinn[word.rstrip('?:!.,;')]\n",
    "            \n",
    "    \n",
    "    if (sentcount < 0):\n",
    "        sentiment = 'Negative'\n",
    "    elif (sentcount >0):\n",
    "        sentiment = 'Positive'\n",
    "    else:\n",
    "        sentiment = 'Neutral'\n",
    "    \n",
    "    return sentiment\n",
    "    #return sentcount"
   ]
  },
  {
   "cell_type": "markdown",
   "metadata": {
    "colab_type": "text",
    "id": "a9mzqLcfez5S"
   },
   "source": [
    "#### Chiefs AFINN Sentiment"
   ]
  },
  {
   "cell_type": "code",
   "execution_count": 32,
   "metadata": {
    "colab": {
     "base_uri": "https://localhost:8080/",
     "height": 34
    },
    "colab_type": "code",
    "id": "ktQ3W9oKxT8g",
    "outputId": "d76b65ec-8093-48cd-9096-8b883ae90210"
   },
   "outputs": [
    {
     "name": "stdout",
     "output_type": "stream",
     "text": [
      "<class 'pandas.core.series.Series'>\n"
     ]
    }
   ],
   "source": [
    "chiefs_frame['afinn'] = chiefs_frame[\"TweetText\"].apply(lambda x: afinn_sent(x))\n",
    "print(type(chiefs_frame['TweetText']))"
   ]
  },
  {
   "cell_type": "code",
   "execution_count": 33,
   "metadata": {
    "colab": {
     "base_uri": "https://localhost:8080/",
     "height": 347
    },
    "colab_type": "code",
    "id": "8dVDhP6LxXBz",
    "outputId": "79d9d7fc-5c2e-4e9d-a190-08dc237bb490"
   },
   "outputs": [
    {
     "data": {
      "text/html": [
       "<div>\n",
       "<style scoped>\n",
       "    .dataframe tbody tr th:only-of-type {\n",
       "        vertical-align: middle;\n",
       "    }\n",
       "\n",
       "    .dataframe tbody tr th {\n",
       "        vertical-align: top;\n",
       "    }\n",
       "\n",
       "    .dataframe thead th {\n",
       "        text-align: right;\n",
       "    }\n",
       "</style>\n",
       "<table border=\"1\" class=\"dataframe\">\n",
       "  <thead>\n",
       "    <tr style=\"text-align: right;\">\n",
       "      <th></th>\n",
       "      <th>TweetText</th>\n",
       "      <th>afinn</th>\n",
       "    </tr>\n",
       "  </thead>\n",
       "  <tbody>\n",
       "    <tr>\n",
       "      <th>0</th>\n",
       "      <td>Our Kansas City #Chiefs advance to 5-0!!! Love watching this team this year! Not sure if it's the luxury of youth o… https://t.co/02RxZtoTr9</td>\n",
       "      <td>Neutral</td>\n",
       "    </tr>\n",
       "    <tr>\n",
       "      <th>1</th>\n",
       "      <td>5-0 #ChiefsKingdom #Chiefs\\n\\nCoach, your thoughts? https://t.co/KuloY7ubHu</td>\n",
       "      <td>Neutral</td>\n",
       "    </tr>\n",
       "    <tr>\n",
       "      <th>2</th>\n",
       "      <td>A lot of fraterinizing between #chiefs and #jaguar players after the game. Kelce took off his jersey and signed it… https://t.co/d3nrSzxj0S</td>\n",
       "      <td>Neutral</td>\n",
       "    </tr>\n",
       "    <tr>\n",
       "      <th>3</th>\n",
       "      <td>RT @JoshVernier610: We’re halfway to finding out what Jags defender Telvon Smith found so funny. #Chiefs</td>\n",
       "      <td>Positive</td>\n",
       "    </tr>\n",
       "    <tr>\n",
       "      <th>4</th>\n",
       "      <td>RT @jbbrisco: The #Chiefs now have the tiebreakers over the Broncos, Chargers, Steelers and Jaguars. Next week, they’ll have a chance to ta…</td>\n",
       "      <td>Positive</td>\n",
       "    </tr>\n",
       "    <tr>\n",
       "      <th>5</th>\n",
       "      <td>Tyreek Hill, #Chiefs “Return Specialist”. https://t.co/FYp0KNyJgM</td>\n",
       "      <td>Neutral</td>\n",
       "    </tr>\n",
       "    <tr>\n",
       "      <th>6</th>\n",
       "      <td>#CHIEFS WIN BABY!!!!!!!!!!!!!!!!! 5-0 ON THAT ASS!!!!!!!!!!!!!!</td>\n",
       "      <td>Neutral</td>\n",
       "    </tr>\n",
       "    <tr>\n",
       "      <th>7</th>\n",
       "      <td>RT @TheChiefsWire: #Chiefs OLB Dee Ford disqualified following second unsportsmanlike penalty https://t.co/3BVL3i8Fmx</td>\n",
       "      <td>Negative</td>\n",
       "    </tr>\n",
       "    <tr>\n",
       "      <th>8</th>\n",
       "      <td>#Chiefs Win! #KC is 5-0! 🔥\\n\\n🏈  Chiefs Tickets on Sale Now 👉 https://t.co/XojrKc3Wah https://t.co/AVixbVLYw9</td>\n",
       "      <td>Neutral</td>\n",
       "    </tr>\n",
       "    <tr>\n",
       "      <th>9</th>\n",
       "      <td>RT @jbbrisco: The #Chiefs now have the tiebreakers over the Broncos, Chargers, Steelers and Jaguars. Next week, they’ll have a chance to ta…</td>\n",
       "      <td>Positive</td>\n",
       "    </tr>\n",
       "  </tbody>\n",
       "</table>\n",
       "</div>"
      ],
      "text/plain": [
       "                                                                                                                                      TweetText  \\\n",
       "0  Our Kansas City #Chiefs advance to 5-0!!! Love watching this team this year! Not sure if it's the luxury of youth o… https://t.co/02RxZtoTr9   \n",
       "1                                                                   5-0 #ChiefsKingdom #Chiefs\\n\\nCoach, your thoughts? https://t.co/KuloY7ubHu   \n",
       "2   A lot of fraterinizing between #chiefs and #jaguar players after the game. Kelce took off his jersey and signed it… https://t.co/d3nrSzxj0S   \n",
       "3                                      RT @JoshVernier610: We’re halfway to finding out what Jags defender Telvon Smith found so funny. #Chiefs   \n",
       "4  RT @jbbrisco: The #Chiefs now have the tiebreakers over the Broncos, Chargers, Steelers and Jaguars. Next week, they’ll have a chance to ta…   \n",
       "5                                                                             Tyreek Hill, #Chiefs “Return Specialist”. https://t.co/FYp0KNyJgM   \n",
       "6                                                                               #CHIEFS WIN BABY!!!!!!!!!!!!!!!!! 5-0 ON THAT ASS!!!!!!!!!!!!!!   \n",
       "7                         RT @TheChiefsWire: #Chiefs OLB Dee Ford disqualified following second unsportsmanlike penalty https://t.co/3BVL3i8Fmx   \n",
       "8                                 #Chiefs Win! #KC is 5-0! 🔥\\n\\n🏈  Chiefs Tickets on Sale Now 👉 https://t.co/XojrKc3Wah https://t.co/AVixbVLYw9   \n",
       "9  RT @jbbrisco: The #Chiefs now have the tiebreakers over the Broncos, Chargers, Steelers and Jaguars. Next week, they’ll have a chance to ta…   \n",
       "\n",
       "      afinn  \n",
       "0   Neutral  \n",
       "1   Neutral  \n",
       "2   Neutral  \n",
       "3  Positive  \n",
       "4  Positive  \n",
       "5   Neutral  \n",
       "6   Neutral  \n",
       "7  Negative  \n",
       "8   Neutral  \n",
       "9  Positive  "
      ]
     },
     "execution_count": 33,
     "metadata": {
      "tags": []
     },
     "output_type": "execute_result"
    }
   ],
   "source": [
    "chiefs_frame.iloc[0:10][['TweetText','afinn']]"
   ]
  },
  {
   "cell_type": "code",
   "execution_count": 34,
   "metadata": {
    "colab": {
     "base_uri": "https://localhost:8080/",
     "height": 347
    },
    "colab_type": "code",
    "id": "ZofZiUPqxZpI",
    "outputId": "5d596b29-e450-4c9d-a618-c4cf50ce0413"
   },
   "outputs": [
    {
     "data": {
      "text/html": [
       "<div>\n",
       "<style scoped>\n",
       "    .dataframe tbody tr th:only-of-type {\n",
       "        vertical-align: middle;\n",
       "    }\n",
       "\n",
       "    .dataframe tbody tr th {\n",
       "        vertical-align: top;\n",
       "    }\n",
       "\n",
       "    .dataframe thead th {\n",
       "        text-align: right;\n",
       "    }\n",
       "</style>\n",
       "<table border=\"1\" class=\"dataframe\">\n",
       "  <thead>\n",
       "    <tr style=\"text-align: right;\">\n",
       "      <th></th>\n",
       "      <th>TweetText</th>\n",
       "      <th>afinn</th>\n",
       "    </tr>\n",
       "  </thead>\n",
       "  <tbody>\n",
       "    <tr>\n",
       "      <th>1490</th>\n",
       "      <td>You know the boy still Chopping It Up! This is how we rep at Chiefs Kingdom 👑 🏈💯...\\n.\\n“Chop It Up “\\n.\\nYouTube link… https://t.co/PSCdgGrlaY</td>\n",
       "      <td>Neutral</td>\n",
       "    </tr>\n",
       "    <tr>\n",
       "      <th>1491</th>\n",
       "      <td>RT @TomKCTV5: The #Chiefs are giving fans a heads up about strong potential for rain Sunday... hopefully it won't take after the legendary…</td>\n",
       "      <td>Positive</td>\n",
       "    </tr>\n",
       "    <tr>\n",
       "      <th>1492</th>\n",
       "      <td>RT @ArrowheadPride: 🚨WATCH PARTY ALERT🚨\\n\\nCome watch the #Chiefs beat the Patriots with us https://t.co/MalOPXsj2p</td>\n",
       "      <td>Neutral</td>\n",
       "    </tr>\n",
       "    <tr>\n",
       "      <th>1493</th>\n",
       "      <td>RT @ArrowheadPride: 🚨WATCH PARTY ALERT🚨\\n\\nCome watch the #Chiefs beat the Patriots with us https://t.co/MalOPXsj2p</td>\n",
       "      <td>Neutral</td>\n",
       "    </tr>\n",
       "    <tr>\n",
       "      <th>1494</th>\n",
       "      <td>RT @ArrowheadPride: 🚨WATCH PARTY ALERT🚨\\n\\nCome watch the #Chiefs beat the Patriots with us https://t.co/MalOPXsj2p</td>\n",
       "      <td>Neutral</td>\n",
       "    </tr>\n",
       "    <tr>\n",
       "      <th>1495</th>\n",
       "      <td>🚨WATCH PARTY ALERT🚨\\n\\nCome watch the #Chiefs beat the Patriots with us https://t.co/MalOPXsj2p</td>\n",
       "      <td>Neutral</td>\n",
       "    </tr>\n",
       "    <tr>\n",
       "      <th>1496</th>\n",
       "      <td>#Tailgating or Couchgating this weekend Pulled Pork $10.99lb SAVE $2! #BBQ #CGEBBQ #KCBBQ #OlatheBBQ #Football… https://t.co/28EqGnigil</td>\n",
       "      <td>Neutral</td>\n",
       "    </tr>\n",
       "    <tr>\n",
       "      <th>1497</th>\n",
       "      <td>RT @LWorthySports: Strength vs Strength on Sunday at Arrowhead Stadium when the #Chiefs offense and the #Jaguars defense clash. https://t.c…</td>\n",
       "      <td>Negative</td>\n",
       "    </tr>\n",
       "    <tr>\n",
       "      <th>1498</th>\n",
       "      <td>Well played #Chiefs 😅😅 https://t.co/EyehW2COWl</td>\n",
       "      <td>Neutral</td>\n",
       "    </tr>\n",
       "    <tr>\n",
       "      <th>1499</th>\n",
       "      <td>RT @LWorthySports: Strength vs Strength on Sunday at Arrowhead Stadium when the #Chiefs offense and the #Jaguars defense clash. https://t.c…</td>\n",
       "      <td>Negative</td>\n",
       "    </tr>\n",
       "  </tbody>\n",
       "</table>\n",
       "</div>"
      ],
      "text/plain": [
       "                                                                                                                                            TweetText  \\\n",
       "1490  You know the boy still Chopping It Up! This is how we rep at Chiefs Kingdom 👑 🏈💯...\\n.\\n“Chop It Up “\\n.\\nYouTube link… https://t.co/PSCdgGrlaY   \n",
       "1491      RT @TomKCTV5: The #Chiefs are giving fans a heads up about strong potential for rain Sunday... hopefully it won't take after the legendary…   \n",
       "1492                              RT @ArrowheadPride: 🚨WATCH PARTY ALERT🚨\\n\\nCome watch the #Chiefs beat the Patriots with us https://t.co/MalOPXsj2p   \n",
       "1493                              RT @ArrowheadPride: 🚨WATCH PARTY ALERT🚨\\n\\nCome watch the #Chiefs beat the Patriots with us https://t.co/MalOPXsj2p   \n",
       "1494                              RT @ArrowheadPride: 🚨WATCH PARTY ALERT🚨\\n\\nCome watch the #Chiefs beat the Patriots with us https://t.co/MalOPXsj2p   \n",
       "1495                                                  🚨WATCH PARTY ALERT🚨\\n\\nCome watch the #Chiefs beat the Patriots with us https://t.co/MalOPXsj2p   \n",
       "1496          #Tailgating or Couchgating this weekend Pulled Pork $10.99lb SAVE $2! #BBQ #CGEBBQ #KCBBQ #OlatheBBQ #Football… https://t.co/28EqGnigil   \n",
       "1497     RT @LWorthySports: Strength vs Strength on Sunday at Arrowhead Stadium when the #Chiefs offense and the #Jaguars defense clash. https://t.c…   \n",
       "1498                                                                                                   Well played #Chiefs 😅😅 https://t.co/EyehW2COWl   \n",
       "1499     RT @LWorthySports: Strength vs Strength on Sunday at Arrowhead Stadium when the #Chiefs offense and the #Jaguars defense clash. https://t.c…   \n",
       "\n",
       "         afinn  \n",
       "1490   Neutral  \n",
       "1491  Positive  \n",
       "1492   Neutral  \n",
       "1493   Neutral  \n",
       "1494   Neutral  \n",
       "1495   Neutral  \n",
       "1496   Neutral  \n",
       "1497  Negative  \n",
       "1498   Neutral  \n",
       "1499  Negative  "
      ]
     },
     "execution_count": 34,
     "metadata": {
      "tags": []
     },
     "output_type": "execute_result"
    }
   ],
   "source": [
    "chiefs_frame.iloc[1490:1501][['TweetText','afinn']]"
   ]
  },
  {
   "cell_type": "code",
   "execution_count": 35,
   "metadata": {
    "colab": {
     "base_uri": "https://localhost:8080/",
     "height": 312
    },
    "colab_type": "code",
    "id": "8NFJRXl-xeGJ",
    "outputId": "b9d7da3f-8538-4125-ee00-9ce4abc823a7"
   },
   "outputs": [
    {
     "data": {
      "text/plain": [
       "<matplotlib.axes._subplots.AxesSubplot at 0x7f0a87786cc0>"
      ]
     },
     "execution_count": 35,
     "metadata": {
      "tags": []
     },
     "output_type": "execute_result"
    },
    {
     "data": {
      "image/png": "[encoded data removed]",
      "text/plain": [
       "<matplotlib.figure.Figure at 0x7f0a877c0eb8>"
      ]
     },
     "metadata": {
      "tags": []
     },
     "output_type": "display_data"
    }
   ],
   "source": [
    "# What does the sentiment distribution look like?\n",
    "%matplotlib inline\n",
    "import matplotlib as mpl\n",
    "import matplotlib.pyplot as plt\n",
    "\n",
    "# get a feel for the distribution\n",
    "chiefs_frame['afinn'].value_counts().plot(kind='bar')"
   ]
  },
  {
   "cell_type": "markdown",
   "metadata": {
    "colab_type": "text",
    "id": "qzCUD4XNfBoT"
   },
   "source": [
    "#### Jaguars AFINN Sentiment"
   ]
  },
  {
   "cell_type": "code",
   "execution_count": 36,
   "metadata": {
    "colab": {
     "base_uri": "https://localhost:8080/",
     "height": 34
    },
    "colab_type": "code",
    "id": "L7rXYMEBfJ1n",
    "outputId": "7941e395-6a0c-4030-a5af-f804cb9f83fd"
   },
   "outputs": [
    {
     "name": "stdout",
     "output_type": "stream",
     "text": [
      "<class 'pandas.core.series.Series'>\n"
     ]
    }
   ],
   "source": [
    "jaguars_frame['afinn'] = jaguars_frame[\"TweetText\"].apply(lambda x: afinn_sent(x))\n",
    "print(type(jaguars_frame['TweetText']))"
   ]
  },
  {
   "cell_type": "code",
   "execution_count": 37,
   "metadata": {
    "colab": {
     "base_uri": "https://localhost:8080/",
     "height": 347
    },
    "colab_type": "code",
    "id": "hdD9fCZgfMfe",
    "outputId": "1cbb9be1-7535-4267-f483-760e2a342614"
   },
   "outputs": [
    {
     "data": {
      "text/html": [
       "<div>\n",
       "<style scoped>\n",
       "    .dataframe tbody tr th:only-of-type {\n",
       "        vertical-align: middle;\n",
       "    }\n",
       "\n",
       "    .dataframe tbody tr th {\n",
       "        vertical-align: top;\n",
       "    }\n",
       "\n",
       "    .dataframe thead th {\n",
       "        text-align: right;\n",
       "    }\n",
       "</style>\n",
       "<table border=\"1\" class=\"dataframe\">\n",
       "  <thead>\n",
       "    <tr style=\"text-align: right;\">\n",
       "      <th></th>\n",
       "      <th>TweetText</th>\n",
       "      <th>afinn</th>\n",
       "    </tr>\n",
       "  </thead>\n",
       "  <tbody>\n",
       "    <tr>\n",
       "      <th>0</th>\n",
       "      <td>RT @Jaguars: Gip with the first pick!\\n\\n#DUUUVAL https://t.co/vyzisGHiUi</td>\n",
       "      <td>Neutral</td>\n",
       "    </tr>\n",
       "    <tr>\n",
       "      <th>1</th>\n",
       "      <td>RT @Jaguars: Gip with the first pick!\\n\\n#DUUUVAL https://t.co/vyzisGHiUi</td>\n",
       "      <td>Neutral</td>\n",
       "    </tr>\n",
       "    <tr>\n",
       "      <th>2</th>\n",
       "      <td>@Crosby2Sprong Unlike many other fans, we stick with our team until the end of every game - win or lose. Sadly, tod… https://t.co/YoGRqJ4yOU</td>\n",
       "      <td>Positive</td>\n",
       "    </tr>\n",
       "    <tr>\n",
       "      <th>3</th>\n",
       "      <td>@Jaguars wait till the last second to put a 💩💩💩💩topping on this crap performance! Need to take our @NFL chant from… https://t.co/C4oI0CS9Oc</td>\n",
       "      <td>Negative</td>\n",
       "    </tr>\n",
       "    <tr>\n",
       "      <th>4</th>\n",
       "      <td>I have no one to blame but me not wearing my lucky shirt. Sorry jags fans. #DUUUVAL</td>\n",
       "      <td>Neutral</td>\n",
       "    </tr>\n",
       "    <tr>\n",
       "      <th>5</th>\n",
       "      <td>RT @Jaguars: First INT of the year for @AJBOUYE21!\\n\\n#DUUUVAL https://t.co/JSGuQo13tB</td>\n",
       "      <td>Neutral</td>\n",
       "    </tr>\n",
       "    <tr>\n",
       "      <th>6</th>\n",
       "      <td>RT @Jaguars: First INT of the year for @AJBOUYE21!\\n\\n#DUUUVAL https://t.co/JSGuQo13tB</td>\n",
       "      <td>Neutral</td>\n",
       "    </tr>\n",
       "    <tr>\n",
       "      <th>7</th>\n",
       "      <td>@ArrowheadPride @BigCatCountry First off @APMarkLong can suck a dick. The real #meth4money chiefs played a good gam… https://t.co/tpfVMr4qgM</td>\n",
       "      <td>Negative</td>\n",
       "    </tr>\n",
       "    <tr>\n",
       "      <th>8</th>\n",
       "      <td>It's not like we will see KC in the playoffs. 👀 #duuuval</td>\n",
       "      <td>Positive</td>\n",
       "    </tr>\n",
       "    <tr>\n",
       "      <th>9</th>\n",
       "      <td>RT @Jaguars: First INT of the year for @AJBOUYE21!\\n\\n#DUUUVAL https://t.co/JSGuQo13tB</td>\n",
       "      <td>Neutral</td>\n",
       "    </tr>\n",
       "  </tbody>\n",
       "</table>\n",
       "</div>"
      ],
      "text/plain": [
       "                                                                                                                                      TweetText  \\\n",
       "0                                                                     RT @Jaguars: Gip with the first pick!\\n\\n#DUUUVAL https://t.co/vyzisGHiUi   \n",
       "1                                                                     RT @Jaguars: Gip with the first pick!\\n\\n#DUUUVAL https://t.co/vyzisGHiUi   \n",
       "2  @Crosby2Sprong Unlike many other fans, we stick with our team until the end of every game - win or lose. Sadly, tod… https://t.co/YoGRqJ4yOU   \n",
       "3   @Jaguars wait till the last second to put a 💩💩💩💩topping on this crap performance! Need to take our @NFL chant from… https://t.co/C4oI0CS9Oc   \n",
       "4                                                           I have no one to blame but me not wearing my lucky shirt. Sorry jags fans. #DUUUVAL   \n",
       "5                                                        RT @Jaguars: First INT of the year for @AJBOUYE21!\\n\\n#DUUUVAL https://t.co/JSGuQo13tB   \n",
       "6                                                        RT @Jaguars: First INT of the year for @AJBOUYE21!\\n\\n#DUUUVAL https://t.co/JSGuQo13tB   \n",
       "7  @ArrowheadPride @BigCatCountry First off @APMarkLong can suck a dick. The real #meth4money chiefs played a good gam… https://t.co/tpfVMr4qgM   \n",
       "8                                                                                      It's not like we will see KC in the playoffs. 👀 #duuuval   \n",
       "9                                                        RT @Jaguars: First INT of the year for @AJBOUYE21!\\n\\n#DUUUVAL https://t.co/JSGuQo13tB   \n",
       "\n",
       "      afinn  \n",
       "0   Neutral  \n",
       "1   Neutral  \n",
       "2  Positive  \n",
       "3  Negative  \n",
       "4   Neutral  \n",
       "5   Neutral  \n",
       "6   Neutral  \n",
       "7  Negative  \n",
       "8  Positive  \n",
       "9   Neutral  "
      ]
     },
     "execution_count": 37,
     "metadata": {
      "tags": []
     },
     "output_type": "execute_result"
    }
   ],
   "source": [
    "jaguars_frame.iloc[0:10][['TweetText','afinn']]"
   ]
  },
  {
   "cell_type": "code",
   "execution_count": 38,
   "metadata": {
    "colab": {
     "base_uri": "https://localhost:8080/",
     "height": 347
    },
    "colab_type": "code",
    "id": "lJEqo2DPfM9q",
    "outputId": "8d0b9a3b-7da7-4450-f001-35cbed441dcf"
   },
   "outputs": [
    {
     "data": {
      "text/html": [
       "<div>\n",
       "<style scoped>\n",
       "    .dataframe tbody tr th:only-of-type {\n",
       "        vertical-align: middle;\n",
       "    }\n",
       "\n",
       "    .dataframe tbody tr th {\n",
       "        vertical-align: top;\n",
       "    }\n",
       "\n",
       "    .dataframe thead th {\n",
       "        text-align: right;\n",
       "    }\n",
       "</style>\n",
       "<table border=\"1\" class=\"dataframe\">\n",
       "  <thead>\n",
       "    <tr style=\"text-align: right;\">\n",
       "      <th></th>\n",
       "      <th>TweetText</th>\n",
       "      <th>afinn</th>\n",
       "    </tr>\n",
       "  </thead>\n",
       "  <tbody>\n",
       "    <tr>\n",
       "      <th>1490</th>\n",
       "      <td>We ain't here for participation trophies, orange slices and juice boxes. #DUUUVAL has been lampooned &amp;amp; kicked aroun… https://t.co/1wpazhZAVp</td>\n",
       "      <td>Neutral</td>\n",
       "    </tr>\n",
       "    <tr>\n",
       "      <th>1491</th>\n",
       "      <td>RT @Jaguars: That #VictoryMonday feeling.\\n\\n@JoshLambo | #DUUUVAL https://t.co/NHymLPsNL8</td>\n",
       "      <td>Positive</td>\n",
       "    </tr>\n",
       "    <tr>\n",
       "      <th>1492</th>\n",
       "      <td>@Jaguars we will expose the @Chiefs defense this Sunday bet on that #DUUUVAL</td>\n",
       "      <td>Negative</td>\n",
       "    </tr>\n",
       "    <tr>\n",
       "      <th>1493</th>\n",
       "      <td>RT @ActionSportsJax: It's @Jaguars All Access Overtime as @BrentASJax and @logs56 chat with @DedeTHEGreat11 and @Campbell93 after Monday's…</td>\n",
       "      <td>Neutral</td>\n",
       "    </tr>\n",
       "    <tr>\n",
       "      <th>1494</th>\n",
       "      <td>RT @ActionSportsJax: It's @Jaguars All Access Overtime as @BrentASJax and @logs56 chat with @DedeTHEGreat11 and @Campbell93 after Monday's…</td>\n",
       "      <td>Neutral</td>\n",
       "    </tr>\n",
       "    <tr>\n",
       "      <th>1495</th>\n",
       "      <td>RT @ActionSportsJax: It's @Jaguars All Access Overtime as @BrentASJax and @logs56 chat with @DedeTHEGreat11 and @Campbell93 after Monday's…</td>\n",
       "      <td>Neutral</td>\n",
       "    </tr>\n",
       "    <tr>\n",
       "      <th>1496</th>\n",
       "      <td>It's @Jaguars All Access Overtime as @BrentASJax and @logs56 chat with @DedeTHEGreat11 and @Campbell93 after Monday… https://t.co/TF0x5bHq8y</td>\n",
       "      <td>Neutral</td>\n",
       "    </tr>\n",
       "    <tr>\n",
       "      <th>1497</th>\n",
       "      <td>RT @Jaguars: Career high 9 catch, 130 yards for @DedeTHEGreat11 \\n\\n#DUUUVAL https://t.co/tsJsdgBmNZ</td>\n",
       "      <td>Neutral</td>\n",
       "    </tr>\n",
       "    <tr>\n",
       "      <th>1498</th>\n",
       "      <td>Espero que o Chiefs ganhe de uns 30 a 0 hj só pra eles se iludirem e não esperarem o pau que vão levar no domingo #nflnaespn  #DUUUVAL</td>\n",
       "      <td>Negative</td>\n",
       "    </tr>\n",
       "    <tr>\n",
       "      <th>1499</th>\n",
       "      <td>WELL DONE! 👊🏻#DUUUVAL #Jaguars https://t.co/5FM7k4ihNi</td>\n",
       "      <td>Neutral</td>\n",
       "    </tr>\n",
       "  </tbody>\n",
       "</table>\n",
       "</div>"
      ],
      "text/plain": [
       "                                                                                                                                             TweetText  \\\n",
       "1490  We ain't here for participation trophies, orange slices and juice boxes. #DUUUVAL has been lampooned &amp; kicked aroun… https://t.co/1wpazhZAVp   \n",
       "1491                                                        RT @Jaguars: That #VictoryMonday feeling.\\n\\n@JoshLambo | #DUUUVAL https://t.co/NHymLPsNL8   \n",
       "1492                                                                      @Jaguars we will expose the @Chiefs defense this Sunday bet on that #DUUUVAL   \n",
       "1493       RT @ActionSportsJax: It's @Jaguars All Access Overtime as @BrentASJax and @logs56 chat with @DedeTHEGreat11 and @Campbell93 after Monday's…   \n",
       "1494       RT @ActionSportsJax: It's @Jaguars All Access Overtime as @BrentASJax and @logs56 chat with @DedeTHEGreat11 and @Campbell93 after Monday's…   \n",
       "1495       RT @ActionSportsJax: It's @Jaguars All Access Overtime as @BrentASJax and @logs56 chat with @DedeTHEGreat11 and @Campbell93 after Monday's…   \n",
       "1496      It's @Jaguars All Access Overtime as @BrentASJax and @logs56 chat with @DedeTHEGreat11 and @Campbell93 after Monday… https://t.co/TF0x5bHq8y   \n",
       "1497                                              RT @Jaguars: Career high 9 catch, 130 yards for @DedeTHEGreat11 \\n\\n#DUUUVAL https://t.co/tsJsdgBmNZ   \n",
       "1498            Espero que o Chiefs ganhe de uns 30 a 0 hj só pra eles se iludirem e não esperarem o pau que vão levar no domingo #nflnaespn  #DUUUVAL   \n",
       "1499                                                                                            WELL DONE! 👊🏻#DUUUVAL #Jaguars https://t.co/5FM7k4ihNi   \n",
       "\n",
       "         afinn  \n",
       "1490   Neutral  \n",
       "1491  Positive  \n",
       "1492  Negative  \n",
       "1493   Neutral  \n",
       "1494   Neutral  \n",
       "1495   Neutral  \n",
       "1496   Neutral  \n",
       "1497   Neutral  \n",
       "1498  Negative  \n",
       "1499   Neutral  "
      ]
     },
     "execution_count": 38,
     "metadata": {
      "tags": []
     },
     "output_type": "execute_result"
    }
   ],
   "source": [
    "jaguars_frame.iloc[1490:1501][['TweetText','afinn']]"
   ]
  },
  {
   "cell_type": "code",
   "execution_count": 39,
   "metadata": {
    "colab": {
     "base_uri": "https://localhost:8080/",
     "height": 313
    },
    "colab_type": "code",
    "id": "a-f_JRcSfNhx",
    "outputId": "5ea48bf0-c4c0-4943-c4d2-e6f818df8152"
   },
   "outputs": [
    {
     "data": {
      "text/plain": [
       "<matplotlib.axes._subplots.AxesSubplot at 0x7f0a876f26a0>"
      ]
     },
     "execution_count": 39,
     "metadata": {
      "tags": []
     },
     "output_type": "execute_result"
    },
    {
     "data": {
      "image/png": "[encoded data removed]",
      "text/plain": [
       "<matplotlib.figure.Figure at 0x7f0a876a2dd8>"
      ]
     },
     "metadata": {
      "tags": []
     },
     "output_type": "display_data"
    }
   ],
   "source": [
    "# What does the sentiment distribution look like?\n",
    "%matplotlib inline\n",
    "import matplotlib as mpl\n",
    "import matplotlib.pyplot as plt\n",
    "\n",
    "# get a feel for the distribution\n",
    "jaguars_frame['afinn'].value_counts().plot(kind='bar')"
   ]
  },
  {
   "cell_type": "markdown",
   "metadata": {
    "colab_type": "text",
    "id": "VPAfQQtDxnbZ"
   },
   "source": [
    "### HL Dictionary"
   ]
  },
  {
   "cell_type": "markdown",
   "metadata": {
    "colab_type": "text",
    "id": "TZTAJAu1glG0"
   },
   "source": [
    "#### Define HL classes"
   ]
  },
  {
   "cell_type": "code",
   "execution_count": 40,
   "metadata": {
    "colab": {
     "base_uri": "https://localhost:8080/",
     "height": 87
    },
    "colab_type": "code",
    "id": "zCc6Ww2vxgeD",
    "outputId": "6572c751-96b2-4da4-cfb7-c401fe3cd656"
   },
   "outputs": [
    {
     "name": "stdout",
     "output_type": "stream",
     "text": [
      "HL pos  size: 9\n",
      "HLpos.txt\n",
      "HL neg  size: 9\n",
      "HLneg.txt\n"
     ]
    }
   ],
   "source": [
    "HLpos = \"HLpos.txt\"\n",
    "HLneg = \"HLneg.txt\"\n",
    "print(\"HL pos  size: \" + str(len(HLpos)))\n",
    "print(HLpos[0:10])\n",
    "print(\"HL neg  size: \" + str(len(HLneg)))\n",
    "print(HLneg[0:10])\n",
    "\n",
    "# different dictionary\n",
    "# different measure\n",
    "\n",
    "def hl_sent(inputstring):\n",
    "\n",
    "    poscount = 0\n",
    "    negcount = 0\n",
    "    \n",
    "    for word in inputstring.split(): \n",
    "        if HLpos.count(word.rstrip('?:!.,;')):\n",
    "            poscount +=1\n",
    "        elif HLneg.count(word.rstrip('?:!.,;')):\n",
    "            negcount +=1\n",
    "     \n",
    "    \n",
    "    if poscount+negcount > 0:\n",
    "        t = float((poscount - negcount)/(poscount+negcount))    \n",
    "    else:\n",
    "        t = 0\n",
    "    \n",
    "    \n",
    "    if t > 0:\n",
    "        tone = \"Positive\"\n",
    "    elif t < 0:\n",
    "        tone = \"Negative\"\n",
    "    else:\n",
    "        tone = \"Neutral\"\n",
    "    \n",
    "    return tone"
   ]
  },
  {
   "cell_type": "markdown",
   "metadata": {
    "colab_type": "text",
    "id": "appcnb8QhS-a"
   },
   "source": [
    "#### Chiefs HL Sentiment"
   ]
  },
  {
   "cell_type": "code",
   "execution_count": 0,
   "metadata": {
    "colab": {},
    "colab_type": "code",
    "id": "uUP7oy5SxrY5"
   },
   "outputs": [],
   "source": [
    "chiefs_frame['hlsent'] = chiefs_frame[\"TweetText\"].apply(lambda x: hl_sent(x))"
   ]
  },
  {
   "cell_type": "code",
   "execution_count": 42,
   "metadata": {
    "colab": {
     "base_uri": "https://localhost:8080/",
     "height": 347
    },
    "colab_type": "code",
    "id": "r0GxlxT6xuEW",
    "outputId": "fa595e74-a9d2-4be8-80f1-f67300ca4b5b"
   },
   "outputs": [
    {
     "data": {
      "text/html": [
       "<div>\n",
       "<style scoped>\n",
       "    .dataframe tbody tr th:only-of-type {\n",
       "        vertical-align: middle;\n",
       "    }\n",
       "\n",
       "    .dataframe tbody tr th {\n",
       "        vertical-align: top;\n",
       "    }\n",
       "\n",
       "    .dataframe thead th {\n",
       "        text-align: right;\n",
       "    }\n",
       "</style>\n",
       "<table border=\"1\" class=\"dataframe\">\n",
       "  <thead>\n",
       "    <tr style=\"text-align: right;\">\n",
       "      <th></th>\n",
       "      <th>TweetText</th>\n",
       "      <th>afinn</th>\n",
       "      <th>hlsent</th>\n",
       "    </tr>\n",
       "  </thead>\n",
       "  <tbody>\n",
       "    <tr>\n",
       "      <th>0</th>\n",
       "      <td>Our Kansas City #Chiefs advance to 5-0!!! Love watching this team this year! Not sure if it's the luxury of youth o… https://t.co/02RxZtoTr9</td>\n",
       "      <td>Neutral</td>\n",
       "      <td>Neutral</td>\n",
       "    </tr>\n",
       "    <tr>\n",
       "      <th>1</th>\n",
       "      <td>5-0 #ChiefsKingdom #Chiefs\\n\\nCoach, your thoughts? https://t.co/KuloY7ubHu</td>\n",
       "      <td>Neutral</td>\n",
       "      <td>Neutral</td>\n",
       "    </tr>\n",
       "    <tr>\n",
       "      <th>2</th>\n",
       "      <td>A lot of fraterinizing between #chiefs and #jaguar players after the game. Kelce took off his jersey and signed it… https://t.co/d3nrSzxj0S</td>\n",
       "      <td>Neutral</td>\n",
       "      <td>Neutral</td>\n",
       "    </tr>\n",
       "    <tr>\n",
       "      <th>3</th>\n",
       "      <td>RT @JoshVernier610: We’re halfway to finding out what Jags defender Telvon Smith found so funny. #Chiefs</td>\n",
       "      <td>Positive</td>\n",
       "      <td>Neutral</td>\n",
       "    </tr>\n",
       "    <tr>\n",
       "      <th>4</th>\n",
       "      <td>RT @jbbrisco: The #Chiefs now have the tiebreakers over the Broncos, Chargers, Steelers and Jaguars. Next week, they’ll have a chance to ta…</td>\n",
       "      <td>Positive</td>\n",
       "      <td>Neutral</td>\n",
       "    </tr>\n",
       "    <tr>\n",
       "      <th>5</th>\n",
       "      <td>Tyreek Hill, #Chiefs “Return Specialist”. https://t.co/FYp0KNyJgM</td>\n",
       "      <td>Neutral</td>\n",
       "      <td>Neutral</td>\n",
       "    </tr>\n",
       "    <tr>\n",
       "      <th>6</th>\n",
       "      <td>#CHIEFS WIN BABY!!!!!!!!!!!!!!!!! 5-0 ON THAT ASS!!!!!!!!!!!!!!</td>\n",
       "      <td>Neutral</td>\n",
       "      <td>Neutral</td>\n",
       "    </tr>\n",
       "    <tr>\n",
       "      <th>7</th>\n",
       "      <td>RT @TheChiefsWire: #Chiefs OLB Dee Ford disqualified following second unsportsmanlike penalty https://t.co/3BVL3i8Fmx</td>\n",
       "      <td>Negative</td>\n",
       "      <td>Neutral</td>\n",
       "    </tr>\n",
       "    <tr>\n",
       "      <th>8</th>\n",
       "      <td>#Chiefs Win! #KC is 5-0! 🔥\\n\\n🏈  Chiefs Tickets on Sale Now 👉 https://t.co/XojrKc3Wah https://t.co/AVixbVLYw9</td>\n",
       "      <td>Neutral</td>\n",
       "      <td>Neutral</td>\n",
       "    </tr>\n",
       "    <tr>\n",
       "      <th>9</th>\n",
       "      <td>RT @jbbrisco: The #Chiefs now have the tiebreakers over the Broncos, Chargers, Steelers and Jaguars. Next week, they’ll have a chance to ta…</td>\n",
       "      <td>Positive</td>\n",
       "      <td>Neutral</td>\n",
       "    </tr>\n",
       "  </tbody>\n",
       "</table>\n",
       "</div>"
      ],
      "text/plain": [
       "                                                                                                                                      TweetText  \\\n",
       "0  Our Kansas City #Chiefs advance to 5-0!!! Love watching this team this year! Not sure if it's the luxury of youth o… https://t.co/02RxZtoTr9   \n",
       "1                                                                   5-0 #ChiefsKingdom #Chiefs\\n\\nCoach, your thoughts? https://t.co/KuloY7ubHu   \n",
       "2   A lot of fraterinizing between #chiefs and #jaguar players after the game. Kelce took off his jersey and signed it… https://t.co/d3nrSzxj0S   \n",
       "3                                      RT @JoshVernier610: We’re halfway to finding out what Jags defender Telvon Smith found so funny. #Chiefs   \n",
       "4  RT @jbbrisco: The #Chiefs now have the tiebreakers over the Broncos, Chargers, Steelers and Jaguars. Next week, they’ll have a chance to ta…   \n",
       "5                                                                             Tyreek Hill, #Chiefs “Return Specialist”. https://t.co/FYp0KNyJgM   \n",
       "6                                                                               #CHIEFS WIN BABY!!!!!!!!!!!!!!!!! 5-0 ON THAT ASS!!!!!!!!!!!!!!   \n",
       "7                         RT @TheChiefsWire: #Chiefs OLB Dee Ford disqualified following second unsportsmanlike penalty https://t.co/3BVL3i8Fmx   \n",
       "8                                 #Chiefs Win! #KC is 5-0! 🔥\\n\\n🏈  Chiefs Tickets on Sale Now 👉 https://t.co/XojrKc3Wah https://t.co/AVixbVLYw9   \n",
       "9  RT @jbbrisco: The #Chiefs now have the tiebreakers over the Broncos, Chargers, Steelers and Jaguars. Next week, they’ll have a chance to ta…   \n",
       "\n",
       "      afinn   hlsent  \n",
       "0   Neutral  Neutral  \n",
       "1   Neutral  Neutral  \n",
       "2   Neutral  Neutral  \n",
       "3  Positive  Neutral  \n",
       "4  Positive  Neutral  \n",
       "5   Neutral  Neutral  \n",
       "6   Neutral  Neutral  \n",
       "7  Negative  Neutral  \n",
       "8   Neutral  Neutral  \n",
       "9  Positive  Neutral  "
      ]
     },
     "execution_count": 42,
     "metadata": {
      "tags": []
     },
     "output_type": "execute_result"
    }
   ],
   "source": [
    "chiefs_frame.iloc[0:10][['TweetText','afinn', 'hlsent']]"
   ]
  },
  {
   "cell_type": "markdown",
   "metadata": {
    "colab_type": "text",
    "id": "sObH3zkxxyVv"
   },
   "source": [
    "At first glance, it is clear that the HL dictionary has labeled the tweet sentiments with higher polarity. The distribution of the senitment labels will be illustrated below."
   ]
  },
  {
   "cell_type": "code",
   "execution_count": 43,
   "metadata": {
    "colab": {
     "base_uri": "https://localhost:8080/",
     "height": 308
    },
    "colab_type": "code",
    "id": "MNG4V1VzRIzZ",
    "outputId": "8a6026b7-0ddf-4ad0-8bb7-064234da1000"
   },
   "outputs": [
    {
     "data": {
      "text/plain": [
       "<matplotlib.axes._subplots.AxesSubplot at 0x7f0a84e4fe80>"
      ]
     },
     "execution_count": 43,
     "metadata": {
      "tags": []
     },
     "output_type": "execute_result"
    },
    {
     "data": {
      "image/png": "[encoded data removed]",
      "text/plain": [
       "<matplotlib.figure.Figure at 0x7f0a9dcdef60>"
      ]
     },
     "metadata": {
      "tags": []
     },
     "output_type": "display_data"
    }
   ],
   "source": [
    "# What does the sentiment distribution look like?\n",
    "%matplotlib inline\n",
    "import matplotlib as mpl\n",
    "import matplotlib.pyplot as plt\n",
    "\n",
    "# get a feel for the distribution\n",
    "chiefs_frame['hlsent'].value_counts().plot(kind='bar')"
   ]
  },
  {
   "cell_type": "markdown",
   "metadata": {
    "colab_type": "text",
    "id": "EHwPf6_YROVr"
   },
   "source": [
    "Although the neutral sentiment label still holds a large majority in the senitment distribution, there are enough negative and positive sentiment labels to aid in the analysis. The even distribution between negative and positive labels is interesting. Since the Tweets were scraped from the day when the FBI released its investigation of sexual assault allegations, and since news has indicated that the FBI did not find any incriminating evidence, it makes sense that there would be an even split on either side's sentiment. It may be too early to determine this, however. "
   ]
  },
  {
   "cell_type": "markdown",
   "metadata": {
    "colab_type": "text",
    "id": "W0i9puHeheUb"
   },
   "source": [
    "#### Jaguars HL Sentiment"
   ]
  },
  {
   "cell_type": "code",
   "execution_count": 0,
   "metadata": {
    "colab": {},
    "colab_type": "code",
    "id": "khZdKeH1hjM7"
   },
   "outputs": [],
   "source": [
    "jaguars_frame['hlsent'] = jaguars_frame[\"TweetText\"].apply(lambda x: hl_sent(x))"
   ]
  },
  {
   "cell_type": "code",
   "execution_count": 45,
   "metadata": {
    "colab": {
     "base_uri": "https://localhost:8080/",
     "height": 347
    },
    "colab_type": "code",
    "id": "uSP-nKwfhlsE",
    "outputId": "8a3fa55e-8df8-4f6f-ece1-67fe68ab5204"
   },
   "outputs": [
    {
     "data": {
      "text/html": [
       "<div>\n",
       "<style scoped>\n",
       "    .dataframe tbody tr th:only-of-type {\n",
       "        vertical-align: middle;\n",
       "    }\n",
       "\n",
       "    .dataframe tbody tr th {\n",
       "        vertical-align: top;\n",
       "    }\n",
       "\n",
       "    .dataframe thead th {\n",
       "        text-align: right;\n",
       "    }\n",
       "</style>\n",
       "<table border=\"1\" class=\"dataframe\">\n",
       "  <thead>\n",
       "    <tr style=\"text-align: right;\">\n",
       "      <th></th>\n",
       "      <th>TweetText</th>\n",
       "      <th>afinn</th>\n",
       "      <th>hlsent</th>\n",
       "    </tr>\n",
       "  </thead>\n",
       "  <tbody>\n",
       "    <tr>\n",
       "      <th>0</th>\n",
       "      <td>RT @Jaguars: Gip with the first pick!\\n\\n#DUUUVAL https://t.co/vyzisGHiUi</td>\n",
       "      <td>Neutral</td>\n",
       "      <td>Neutral</td>\n",
       "    </tr>\n",
       "    <tr>\n",
       "      <th>1</th>\n",
       "      <td>RT @Jaguars: Gip with the first pick!\\n\\n#DUUUVAL https://t.co/vyzisGHiUi</td>\n",
       "      <td>Neutral</td>\n",
       "      <td>Neutral</td>\n",
       "    </tr>\n",
       "    <tr>\n",
       "      <th>2</th>\n",
       "      <td>@Crosby2Sprong Unlike many other fans, we stick with our team until the end of every game - win or lose. Sadly, tod… https://t.co/YoGRqJ4yOU</td>\n",
       "      <td>Positive</td>\n",
       "      <td>Neutral</td>\n",
       "    </tr>\n",
       "    <tr>\n",
       "      <th>3</th>\n",
       "      <td>@Jaguars wait till the last second to put a 💩💩💩💩topping on this crap performance! Need to take our @NFL chant from… https://t.co/C4oI0CS9Oc</td>\n",
       "      <td>Negative</td>\n",
       "      <td>Neutral</td>\n",
       "    </tr>\n",
       "    <tr>\n",
       "      <th>4</th>\n",
       "      <td>I have no one to blame but me not wearing my lucky shirt. Sorry jags fans. #DUUUVAL</td>\n",
       "      <td>Neutral</td>\n",
       "      <td>Neutral</td>\n",
       "    </tr>\n",
       "    <tr>\n",
       "      <th>5</th>\n",
       "      <td>RT @Jaguars: First INT of the year for @AJBOUYE21!\\n\\n#DUUUVAL https://t.co/JSGuQo13tB</td>\n",
       "      <td>Neutral</td>\n",
       "      <td>Neutral</td>\n",
       "    </tr>\n",
       "    <tr>\n",
       "      <th>6</th>\n",
       "      <td>RT @Jaguars: First INT of the year for @AJBOUYE21!\\n\\n#DUUUVAL https://t.co/JSGuQo13tB</td>\n",
       "      <td>Neutral</td>\n",
       "      <td>Neutral</td>\n",
       "    </tr>\n",
       "    <tr>\n",
       "      <th>7</th>\n",
       "      <td>@ArrowheadPride @BigCatCountry First off @APMarkLong can suck a dick. The real #meth4money chiefs played a good gam… https://t.co/tpfVMr4qgM</td>\n",
       "      <td>Negative</td>\n",
       "      <td>Neutral</td>\n",
       "    </tr>\n",
       "    <tr>\n",
       "      <th>8</th>\n",
       "      <td>It's not like we will see KC in the playoffs. 👀 #duuuval</td>\n",
       "      <td>Positive</td>\n",
       "      <td>Neutral</td>\n",
       "    </tr>\n",
       "    <tr>\n",
       "      <th>9</th>\n",
       "      <td>RT @Jaguars: First INT of the year for @AJBOUYE21!\\n\\n#DUUUVAL https://t.co/JSGuQo13tB</td>\n",
       "      <td>Neutral</td>\n",
       "      <td>Neutral</td>\n",
       "    </tr>\n",
       "  </tbody>\n",
       "</table>\n",
       "</div>"
      ],
      "text/plain": [
       "                                                                                                                                      TweetText  \\\n",
       "0                                                                     RT @Jaguars: Gip with the first pick!\\n\\n#DUUUVAL https://t.co/vyzisGHiUi   \n",
       "1                                                                     RT @Jaguars: Gip with the first pick!\\n\\n#DUUUVAL https://t.co/vyzisGHiUi   \n",
       "2  @Crosby2Sprong Unlike many other fans, we stick with our team until the end of every game - win or lose. Sadly, tod… https://t.co/YoGRqJ4yOU   \n",
       "3   @Jaguars wait till the last second to put a 💩💩💩💩topping on this crap performance! Need to take our @NFL chant from… https://t.co/C4oI0CS9Oc   \n",
       "4                                                           I have no one to blame but me not wearing my lucky shirt. Sorry jags fans. #DUUUVAL   \n",
       "5                                                        RT @Jaguars: First INT of the year for @AJBOUYE21!\\n\\n#DUUUVAL https://t.co/JSGuQo13tB   \n",
       "6                                                        RT @Jaguars: First INT of the year for @AJBOUYE21!\\n\\n#DUUUVAL https://t.co/JSGuQo13tB   \n",
       "7  @ArrowheadPride @BigCatCountry First off @APMarkLong can suck a dick. The real #meth4money chiefs played a good gam… https://t.co/tpfVMr4qgM   \n",
       "8                                                                                      It's not like we will see KC in the playoffs. 👀 #duuuval   \n",
       "9                                                        RT @Jaguars: First INT of the year for @AJBOUYE21!\\n\\n#DUUUVAL https://t.co/JSGuQo13tB   \n",
       "\n",
       "      afinn   hlsent  \n",
       "0   Neutral  Neutral  \n",
       "1   Neutral  Neutral  \n",
       "2  Positive  Neutral  \n",
       "3  Negative  Neutral  \n",
       "4   Neutral  Neutral  \n",
       "5   Neutral  Neutral  \n",
       "6   Neutral  Neutral  \n",
       "7  Negative  Neutral  \n",
       "8  Positive  Neutral  \n",
       "9   Neutral  Neutral  "
      ]
     },
     "execution_count": 45,
     "metadata": {
      "tags": []
     },
     "output_type": "execute_result"
    }
   ],
   "source": [
    "jaguars_frame.iloc[0:10][['TweetText','afinn', 'hlsent']]"
   ]
  },
  {
   "cell_type": "markdown",
   "metadata": {
    "colab_type": "text",
    "id": "wZ6bHpUYhqOb"
   },
   "source": [
    "At first glance, it is clear that the HL dictionary has labeled the tweet sentiments with higher polarity. The distribution of the senitment labels will be illustrated below."
   ]
  },
  {
   "cell_type": "code",
   "execution_count": 46,
   "metadata": {
    "colab": {
     "base_uri": "https://localhost:8080/",
     "height": 308
    },
    "colab_type": "code",
    "id": "WFxln7CFhv6a",
    "outputId": "d98224ae-91bf-408c-e416-155b939b17cc"
   },
   "outputs": [
    {
     "data": {
      "text/plain": [
       "<matplotlib.axes._subplots.AxesSubplot at 0x7f0a84e3ed68>"
      ]
     },
     "execution_count": 46,
     "metadata": {
      "tags": []
     },
     "output_type": "execute_result"
    },
    {
     "data": {
      "image/png": "[encoded data removed]",
      "text/plain": [
       "<matplotlib.figure.Figure at 0x7f0a84dd2630>"
      ]
     },
     "metadata": {
      "tags": []
     },
     "output_type": "display_data"
    }
   ],
   "source": [
    "# What does the sentiment distribution look like?\n",
    "%matplotlib inline\n",
    "import matplotlib as mpl\n",
    "import matplotlib.pyplot as plt\n",
    "\n",
    "# get a feel for the distribution\n",
    "jaguars_frame['hlsent'].value_counts().plot(kind='bar')"
   ]
  },
  {
   "cell_type": "markdown",
   "metadata": {
    "colab_type": "text",
    "id": "3BsV4cGjhy8H"
   },
   "source": [
    "Although the neutral sentiment label still holds a large majority in the senitment distribution, there are enough negative and positive sentiment labels to aid in the analysis. The even distribution between negative and positive labels is interesting. Since the Tweets were scraped from the day when the FBI released its investigation of sexual assault allegations, and since news has indicated that the FBI did not find any incriminating evidence, it makes sense that there would be an even split on either side's sentiment. It may be too early to determine this, however. "
   ]
  },
  {
   "cell_type": "markdown",
   "metadata": {
    "colab_type": "text",
    "id": "U188Ir9yRPdM"
   },
   "source": [
    "## Amplification and Negation\n",
    "\n",
    "We will add amplifying and negating weights onto the words in the Tweets to see if and how it affects the sentiment labels."
   ]
  },
  {
   "cell_type": "code",
   "execution_count": 0,
   "metadata": {
    "colab": {},
    "colab_type": "code",
    "id": "6ZMB7e0sRO-0"
   },
   "outputs": [],
   "source": [
    "#more complicated sentiment calculations\n",
    "#create all the dictionaries just once\n",
    "\n",
    "#amplification and negation words from qdap\n",
    "negate = [\"aint\", \"arent\",\"cant\", \"couldnt\" , \"didnt\" , \"doesnt\" ,\"dont\" ,\"hasnt\" , \n",
    "          \"isnt\" ,\"mightnt\" , \"mustnt\" ,\"neither\" ,\"never\", \"no\" ,\"nobody\" , \"nor\", \n",
    "          \"not\" , \"shant\", \"shouldnt\", \"wasnt\" , \"werent\" ,\"wont\", \"wouldnt\"]\n",
    "amplify = [\"acute\" ,\"acutely\", \"certain\", \"certainly\" ,\"colossal\", \"colossally\",\n",
    "           \"deep\" , \"deeply\" , \"definite\",\"definitely\" ,\"enormous\",\"enormously\" , \n",
    "           \"extreme\", \"extremely\" ,\"great\",\"greatly\" ,\"heavily\", \"heavy\", \"high\",\n",
    "           \"highly\" ,\"huge\",\"hugely\" , \"immense\", \"immensely\" ,\"incalculable\" ,\n",
    "           \"incalculably\",\"massive\", \"massively\", \"more\",\"particular\" ,\"particularly\",\n",
    "           \"purpose\", \"purposely\", \"quite\" ,\"real\" ,\"really\",\"serious\", \"seriously\", \n",
    "           \"severe\",\"severely\" ,\"significant\" ,\"significantly\",\"sure\",\"surely\" , \"true\" ,\n",
    "           \"truly\" ,\"vast\" , \"vastly\" , \"very\"]"
   ]
  },
  {
   "cell_type": "code",
   "execution_count": 0,
   "metadata": {
    "colab": {},
    "colab_type": "code",
    "id": "fu6HSQwfRYtq"
   },
   "outputs": [],
   "source": [
    "def hl_sent2(inputstring):\n",
    "\n",
    "    poscount = 0\n",
    "    negcount = 0\n",
    "    i = 0\n",
    "\n",
    "\n",
    "    for word in inputstring.split():\n",
    "        if i > 0:\n",
    "            prev = inputstring.split().pop(i-1)\n",
    "        else:\n",
    "            prev =\"\"\n",
    "\n",
    "        if HLpos.count(word):\n",
    "            if negate.count(prev):\n",
    "                negcount += 1\n",
    "            elif amplify.count(prev):\n",
    "                poscount +=2\n",
    "            else: \n",
    "                poscount +=1\n",
    "        elif HLneg.count(word):\n",
    "            if negate.count(prev):\n",
    "                poscount += 1\n",
    "            elif amplify.count(prev):\n",
    "                negcount +=2\n",
    "            else:\n",
    "                negcount +=1\n",
    "        i+=1\n",
    "    \n",
    "    if poscount+negcount > 0:\n",
    "        t = float((poscount - negcount)/(poscount+negcount))\n",
    "        \n",
    "    else:\n",
    "        t = 0\n",
    "    \n",
    "    \n",
    "    if t > 0:\n",
    "        tone = \"Positive\"\n",
    "    elif t < 0:\n",
    "        tone = \"Negative\"\n",
    "    else:\n",
    "        tone = \"Neutral\"\n",
    "    \n",
    "    return tone"
   ]
  },
  {
   "cell_type": "markdown",
   "metadata": {
    "colab_type": "text",
    "id": "nubbOIrO3ZCl"
   },
   "source": [
    "### Chiefs Sentiment "
   ]
  },
  {
   "cell_type": "code",
   "execution_count": 0,
   "metadata": {
    "colab": {},
    "colab_type": "code",
    "id": "F5eLwIzHRcgf"
   },
   "outputs": [],
   "source": [
    "chiefs_frame['hl_sent2'] = chiefs_frame[\"TweetText\"].apply(lambda x: hl_sent2(x))"
   ]
  },
  {
   "cell_type": "code",
   "execution_count": 50,
   "metadata": {
    "colab": {
     "base_uri": "https://localhost:8080/",
     "height": 230
    },
    "colab_type": "code",
    "id": "byddADgXRdNV",
    "outputId": "b1e9a705-9d6a-443d-c14e-d8772057d81e"
   },
   "outputs": [
    {
     "data": {
      "text/plain": [
       "490    Neutral\n",
       "491    Neutral\n",
       "492    Neutral\n",
       "493    Neutral\n",
       "494    Neutral\n",
       "495    Neutral\n",
       "496    Neutral\n",
       "497    Neutral\n",
       "498    Neutral\n",
       "499    Neutral\n",
       "500    Neutral\n",
       "Name: hl_sent2, dtype: object"
      ]
     },
     "execution_count": 50,
     "metadata": {
      "tags": []
     },
     "output_type": "execute_result"
    }
   ],
   "source": [
    "chiefs_frame.iloc[490:501]['hl_sent2']"
   ]
  },
  {
   "cell_type": "code",
   "execution_count": 51,
   "metadata": {
    "colab": {
     "base_uri": "https://localhost:8080/",
     "height": 308
    },
    "colab_type": "code",
    "id": "mADEcFUnRhho",
    "outputId": "c3c04573-4a0e-439d-813d-0e7f6d1a8ea3"
   },
   "outputs": [
    {
     "data": {
      "text/plain": [
       "<matplotlib.axes._subplots.AxesSubplot at 0x7f0a84dbd4e0>"
      ]
     },
     "execution_count": 51,
     "metadata": {
      "tags": []
     },
     "output_type": "execute_result"
    },
    {
     "data": {
      "image/png": "[encoded data removed]",
      "text/plain": [
       "<matplotlib.figure.Figure at 0x7f0a876d1748>"
      ]
     },
     "metadata": {
      "tags": []
     },
     "output_type": "display_data"
    }
   ],
   "source": [
    "# What does the sentiment distribution look like?\n",
    "%matplotlib inline\n",
    "import matplotlib as mpl\n",
    "import matplotlib.pyplot as plt\n",
    "\n",
    "# get a feel for the distribution\n",
    "chiefs_frame['hl_sent2'].value_counts().plot(kind='bar')"
   ]
  },
  {
   "cell_type": "markdown",
   "metadata": {
    "colab_type": "text",
    "id": "n-67TOAIS_z1"
   },
   "source": [
    "Adding amplification and negation to the list of words does not seem to have changed anything in the distribution of sentiment labels. "
   ]
  },
  {
   "cell_type": "markdown",
   "metadata": {
    "colab_type": "text",
    "id": "1p05qES53huJ"
   },
   "source": [
    "### Jaguars Sentiment"
   ]
  },
  {
   "cell_type": "code",
   "execution_count": 0,
   "metadata": {
    "colab": {},
    "colab_type": "code",
    "id": "ue5x4Mwu3lqD"
   },
   "outputs": [],
   "source": [
    "jaguars_frame['hl_sent2'] = jaguars_frame[\"TweetText\"].apply(lambda x: hl_sent2(x))"
   ]
  },
  {
   "cell_type": "code",
   "execution_count": 53,
   "metadata": {
    "colab": {
     "base_uri": "https://localhost:8080/",
     "height": 230
    },
    "colab_type": "code",
    "id": "AZfiRPKe3ldj",
    "outputId": "8f4e9c64-eb5e-4cea-da88-c04bfa24db1c"
   },
   "outputs": [
    {
     "data": {
      "text/plain": [
       "490    Neutral\n",
       "491    Neutral\n",
       "492    Neutral\n",
       "493    Neutral\n",
       "494    Neutral\n",
       "495    Neutral\n",
       "496    Neutral\n",
       "497    Neutral\n",
       "498    Neutral\n",
       "499    Neutral\n",
       "500    Neutral\n",
       "Name: hl_sent2, dtype: object"
      ]
     },
     "execution_count": 53,
     "metadata": {
      "tags": []
     },
     "output_type": "execute_result"
    }
   ],
   "source": [
    "jaguars_frame.iloc[490:501]['hl_sent2']"
   ]
  },
  {
   "cell_type": "code",
   "execution_count": 54,
   "metadata": {
    "colab": {
     "base_uri": "https://localhost:8080/",
     "height": 308
    },
    "colab_type": "code",
    "id": "729OhsBg3k2o",
    "outputId": "48a61918-c348-436d-86f0-cd72ab11639e"
   },
   "outputs": [
    {
     "data": {
      "text/plain": [
       "<matplotlib.axes._subplots.AxesSubplot at 0x7f0a84d10f60>"
      ]
     },
     "execution_count": 54,
     "metadata": {
      "tags": []
     },
     "output_type": "execute_result"
    },
    {
     "data": {
      "image/png": "[encoded data removed]",
      "text/plain": [
       "<matplotlib.figure.Figure at 0x7f0a84d2d9b0>"
      ]
     },
     "metadata": {
      "tags": []
     },
     "output_type": "display_data"
    }
   ],
   "source": [
    "# What does the sentiment distribution look like?\n",
    "%matplotlib inline\n",
    "import matplotlib as mpl\n",
    "import matplotlib.pyplot as plt\n",
    "\n",
    "# get a feel for the distribution\n",
    "jaguars_frame['hl_sent2'].value_counts().plot(kind='bar')"
   ]
  },
  {
   "cell_type": "markdown",
   "metadata": {
    "colab_type": "text",
    "id": "Er9MpSgT3mN6"
   },
   "source": [
    "Adding amplification and negation to the list of words does not seem to have changed anything in the distribution of sentiment labels. "
   ]
  }
 ],
 "metadata": {
  "colab": {
   "name": "BIA6304_FinalProject.ipynb",
   "provenance": [],
   "toc_visible": true,
   "version": "0.3.2"
  },
  "kernelspec": {
   "display_name": "Python 3",
   "language": "python",
   "name": "python3"
  },
  "language_info": {
   "codemirror_mode": {
    "name": "ipython",
    "version": 3
   },
   "file_extension": ".py",
   "mimetype": "text/x-python",
   "name": "python",
   "nbconvert_exporter": "python",
   "pygments_lexer": "ipython3",
   "version": "3.6.4"
  }
 },
 "nbformat": 4,
 "nbformat_minor": 1
}
