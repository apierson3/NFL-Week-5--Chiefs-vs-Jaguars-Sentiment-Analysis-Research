{
 "cells": [
  {
   "cell_type": "markdown",
   "metadata": {
    "colab_type": "text",
    "id": "lb1CylJxx-A5"
   },
   "source": [
    "# BIA 6304 Final Project - Pre game analysis\n",
    "\n",
    "## By Andrew Pierson and Kristopher Profit\n",
    "\n",
    "The Kansas City Chiefs football team is debateably one of the hottest teams in the NFL, with 4 wins and 0 losses during 1 home game and 3 away games. "
   ]
  },
  {
   "cell_type": "markdown",
   "metadata": {
    "colab_type": "text",
    "id": "ZVrXObqF3Auq"
   },
   "source": [
    "### Import Packages and Data"
   ]
  },
  {
   "cell_type": "code",
   "execution_count": 0,
   "metadata": {
    "colab": {},
    "colab_type": "code",
    "id": "2atC5Cdwx2fZ"
   },
   "outputs": [],
   "source": [
    "# import module(s) into namespace\n",
    "import pandas as pd   #we almost always need pandas because we like data frames\n",
    "from bs4 import BeautifulSoup\n",
    "import requests\n",
    "import csv\n",
    "from __future__ import division\n",
    "pd.set_option('display.max_colwidth', 150) "
   ]
  },
  {
   "cell_type": "code",
   "execution_count": 2,
   "metadata": {
    "colab": {
     "base_uri": "https://localhost:8080/",
     "height": 194
    },
    "colab_type": "code",
    "id": "3HEznOQh29mB",
    "outputId": "80da4140-8264-43f5-9745-7b165cc65990"
   },
   "outputs": [
    {
     "name": "stdout",
     "output_type": "stream",
     "text": [
      "Requirement already satisfied: tweepy in /usr/local/lib/python3.6/dist-packages (3.6.0)\n",
      "Requirement already satisfied: PySocks>=1.5.7 in /usr/local/lib/python3.6/dist-packages (from tweepy) (1.6.8)\n",
      "Requirement already satisfied: requests>=2.11.1 in /usr/local/lib/python3.6/dist-packages (from tweepy) (2.18.4)\n",
      "Requirement already satisfied: six>=1.10.0 in /usr/local/lib/python3.6/dist-packages (from tweepy) (1.11.0)\n",
      "Requirement already satisfied: requests-oauthlib>=0.7.0 in /usr/local/lib/python3.6/dist-packages (from tweepy) (1.0.0)\n",
      "Requirement already satisfied: certifi>=2017.4.17 in /usr/local/lib/python3.6/dist-packages (from requests>=2.11.1->tweepy) (2018.8.24)\n",
      "Requirement already satisfied: idna<2.7,>=2.5 in /usr/local/lib/python3.6/dist-packages (from requests>=2.11.1->tweepy) (2.6)\n",
      "Requirement already satisfied: urllib3<1.23,>=1.21.1 in /usr/local/lib/python3.6/dist-packages (from requests>=2.11.1->tweepy) (1.22)\n",
      "Requirement already satisfied: chardet<3.1.0,>=3.0.2 in /usr/local/lib/python3.6/dist-packages (from requests>=2.11.1->tweepy) (3.0.4)\n",
      "Requirement already satisfied: oauthlib>=0.6.2 in /usr/local/lib/python3.6/dist-packages (from requests-oauthlib>=0.7.0->tweepy) (2.1.0)\n"
     ]
    }
   ],
   "source": [
    "!pip install tweepy\n",
    "import tweepy\n",
    "from tweepy import OAuthHandler\n",
    "\n",
    "\n",
    "consumer_key =  'YjZ77yjePvArLtnp4WOBJm6fP'\n",
    "consumer_secret = 'VIiA3zN1jntdab1QRDEYjCZ4gYAa8tU1mxi3LMqjqjmHMz7iVm'\n",
    "access_token= '1032395859898626050-WBTdOzBydYK4odmPXy9Ngx5JVLMYTz'\n",
    "access_secret= 'XnbpZvdNWxHShzdnlrDkyyuxcMJbPQraWFIIdt1IgfWxu'\n",
    "\n",
    "auth = OAuthHandler(consumer_key, consumer_secret)\n",
    "auth.set_access_token(access_token, access_secret)\n",
    " \n",
    "\n",
    "\n",
    "api = tweepy.API(auth)"
   ]
  },
  {
   "cell_type": "code",
   "execution_count": 3,
   "metadata": {
    "colab": {
     "base_uri": "https://localhost:8080/",
     "height": 52
    },
    "colab_type": "code",
    "id": "FvTMf77y4dS-",
    "outputId": "a0ed60a0-8b43-464d-faf7-ee30d07e2bec"
   },
   "outputs": [
    {
     "name": "stdout",
     "output_type": "stream",
     "text": [
      "API Call Output Type:  <class 'list'>\n",
      "Tweet Objects:  1500\n"
     ]
    }
   ],
   "source": [
    "#Define an empty dataframe to create a list of tweets that can be printed\n",
    "results = []\n",
    "\n",
    "#Define the variables to be used in the api search\n",
    "latitude = 39.0427\n",
    "longitude = -94.4837\n",
    "max_range = 50\n",
    "hashtag = '#Chiefs'\n",
    "\n",
    "#Get the first 5000 items based on the search query\n",
    "for tweet in tweepy.Cursor(api.search, q = hashtag, geocode = '%f,%f,%dkm' % (latitude, longitude, max_range) ).items(1500):\n",
    "    results.append(tweet)\n",
    "\n",
    "#Verify the number of list items is 1500\n",
    "print('API Call Output Type: ', type(results))\n",
    "print('Tweet Objects: ', len(results))"
   ]
  },
  {
   "cell_type": "markdown",
   "metadata": {
    "colab_type": "text",
    "id": "wKCM863CodUf"
   },
   "source": [
    "Calling Jacksonville by the county it rests in, Duval, was popularized by rappers in the 1990s, and it has slowly crept its way into game day at EverBank Field.\n",
    "\n",
    "\"Duuuval!\" became a rallying cry for Jags since beginning in the early '00s. "
   ]
  },
  {
   "cell_type": "code",
   "execution_count": 4,
   "metadata": {
    "colab": {
     "base_uri": "https://localhost:8080/",
     "height": 52
    },
    "colab_type": "code",
    "id": "sK3VmZzp43pn",
    "outputId": "dbefcb6f-3b83-4586-ded2-167d3ff0fed4"
   },
   "outputs": [
    {
     "name": "stdout",
     "output_type": "stream",
     "text": [
      "API Call Output Type:  <class 'list'>\n",
      "Tweet Objects:  1500\n"
     ]
    }
   ],
   "source": [
    "#Define an empty dataframe to create a list of tweets that can be printed\n",
    "results2 = []\n",
    "\n",
    "#Define the variables to be used in the api search\n",
    "latitude2 = 30.3322\n",
    "longitude2 = -81.6557\n",
    "max_range2 = 50\n",
    "hashtag2 = '#DUUUVAL'\n",
    "\n",
    "#Get the first 1500 items based on the search query\n",
    "for tweet in tweepy.Cursor(api.search, q = hashtag2, geocode = '%f,%f,%dkm' % (latitude2, longitude2, max_range2) ).items(1500):\n",
    "    results2.append(tweet)\n",
    "\n",
    "#Verify the number of list items is 1500\n",
    "print('API Call Output Type: ', type(results2))\n",
    "print('Tweet Objects: ', len(results2))"
   ]
  },
  {
   "cell_type": "markdown",
   "metadata": {
    "colab_type": "text",
    "id": "xezNnZD55fLF"
   },
   "source": [
    "## Choose Tweet Objects to mine"
   ]
  },
  {
   "cell_type": "markdown",
   "metadata": {
    "colab_type": "text",
    "id": "6d7sKDHwdjwA"
   },
   "source": [
    "* Hashtags included in tweet objects will be important in this project when identifying fanbase loyalty.\n",
    "* A total count of all of a user's tweets (including retweets and quote tweets) could be closely related to the number of a user's followers. In addition, users that have suspiciously small status counts might be omitted from the analysis due to misrepresentation of tweet population sample or because they are spam accounts.\n",
    "* The verified tweet object is a boolean value that distinguishes people of interest, such as celebrities or politicians, from normal twitter users.\n",
    "* Mentions on a tweet will help keep us informed of what people are sharing with others about The Kansas City Chiefs' Organization.\n",
    "* The language on a majority of these tweets will likely be English (en), other languages have a higher chance of misrepresenting our sample data by including irrelevant tweet objects.\n",
    "* I chose to include the text object from tweets that contain '#Chiefs' in order to find twitter users interested in the NFL team during the Kansas City Chiefs' preseason. This object was also chosen because it will likely provide insightful text that can be used to determine the underlying sentiment of a user towards the Chiefs. \n",
    "* The next two tweet objects that I chose to include in my data frame were the retweet and favorite counts for tweets including '#Chiefs' in their tags. Retweet and favorite counts can be useful when analyzing popularity of a tweet and will likely require different weights if a user is favoriting tweets more often than retweeting. \n",
    "* Including the created_at tweet object was done in order to allow the data frame to be sorted in chronological order upon anlysis. This might show trends in popularity or sentiment depending upon the Chiefs performance after a game. \n",
    "* A user's name and account description might also allow us to predict the tweet's sentiment, which is why I chose to mine user.name and user.description tweet objects. A case in which this may occur is if an opposing team's fans are including \"#Chiefs\" in a tweet that has a negative connotation. \n",
    "* The user.followers_count object was also  included and could provide interesting information, analyzing this using a forecasting method may indicate impressions on other users. \n"
   ]
  },
  {
   "cell_type": "code",
   "execution_count": 0,
   "metadata": {
    "colab": {},
    "colab_type": "code",
    "id": "lkdfpce444gC"
   },
   "outputs": [],
   "source": [
    "#Create a function to convert a given list of tweets into a Pandas DataFrame\n",
    "#The DataFrame will consist of only chosen values below\n",
    "\n",
    "def toDataFrame(tweets):\n",
    "\n",
    "    DataSet = pd.DataFrame()\n",
    "\n",
    "    DataSet['TweetHashtags'] = [tweet.entities.get('hashtags') for tweet in tweets]\n",
    "    DataSet['UserStatusCount'] = [tweet.user.statuses_count for tweet in tweets]\n",
    "    DataSet['UserVerified'] = [tweet.user.verified for tweet in tweets]\n",
    "    #DataSet['TweetMentions'] = [tweet.entities.get('user_mentions') for tweet in tweets]\n",
    "    DataSet['TweetLanguage'] = [tweet.lang for tweet in tweets]\n",
    "    DataSet['TweetText'] = [tweet.text for tweet in tweets]\n",
    "    DataSet['TweetRetweetCount'] = [tweet.retweet_count for tweet in tweets]\n",
    "    DataSet['TweetFavoriteCount'] = [tweet.favorite_count for tweet in tweets]\n",
    "    DataSet['TweetCreated'] = [tweet.created_at for tweet in tweets]\n",
    "    #DataSet['userName'] = [tweet.user.name for tweet in tweets]\n",
    "    DataSet['userDesc'] = [tweet.user.description for tweet in tweets]\n",
    "    #DataSet['UserFollowerCount'] = [tweet.user.followers_count for tweet in tweets]\n",
    "\n",
    "    return DataSet"
   ]
  },
  {
   "cell_type": "markdown",
   "metadata": {
    "colab_type": "text",
    "id": "yByGgPRk56QE"
   },
   "source": [
    "## Create and Populate Data Frames"
   ]
  },
  {
   "cell_type": "markdown",
   "metadata": {
    "colab_type": "text",
    "id": "wcFzsK9WkMgz"
   },
   "source": [
    "### Chiefs Data Frame"
   ]
  },
  {
   "cell_type": "code",
   "execution_count": 6,
   "metadata": {
    "colab": {
     "base_uri": "https://localhost:8080/",
     "height": 34
    },
    "colab_type": "code",
    "id": "J9ggz_QR54aQ",
    "outputId": "4112b5e9-7d5c-4003-8537-c78e3d80a517"
   },
   "outputs": [
    {
     "name": "stdout",
     "output_type": "stream",
     "text": [
      "Dataframe Shape (Rows, Columns):  (1500, 9)\n"
     ]
    }
   ],
   "source": [
    "#Pass the tweets list to create a DataFrame\n",
    "chiefs_frame = toDataFrame(results)\n",
    "print('Dataframe Shape (Rows, Columns): ', chiefs_frame.shape)"
   ]
  },
  {
   "cell_type": "code",
   "execution_count": 7,
   "metadata": {
    "colab": {
     "base_uri": "https://localhost:8080/",
     "height": 212
    },
    "colab_type": "code",
    "id": "AGwq6dXn6C_t",
    "outputId": "fe3b4757-5d4c-4cad-a622-251165417fce"
   },
   "outputs": [
    {
     "data": {
      "text/plain": [
       "0               SHOWTIME GONNA BRING THE MOTHERFUCKING PAIN! and I’m gonna make some chicken wings. #chiefs #ChiefsKingdom https://t.co/nVtNVd455w\n",
       "1    GAME DAY || Biggest game of the season, the MVP looks ready to take it on. •••https://t.co/i277X1XX0y•••\\n•\\n••\\n•••… https://t.co/LsbBQ35n8A\n",
       "2           @jalenramsey had a few things to say this week...\\n\\nFortunately, cheetah gets to have the final word, today.… https://t.co/K45gmnteMg\n",
       "3                                                        @ArrowheadPride Who are the #Chiefs wanting to trade for to upgrade the safety position ?\n",
       "4        Game will be on &amp; no poncho needed!! $4 any draft, $8.99 any slice with any pint.....!! #papakenoscrossroads… https://t.co/6Ef7TeuWLN\n",
       "5         Lots of #rain here in #KansasCity for the #CHIEFS - #Jaguars today...1.97\" last 24 hrs. ... view off my deck.... https://t.co/bE0EDblNfO\n",
       "6                            RT @Gezee80: This rain ain’t stopping the faithful. Let’s get this W!! #ChiefsKingdom #Chiefs https://t.co/N4XBAEZPp4\n",
       "7                         Listening to @SportsRadio810 for #Chiefs pregame! No other sports station comes close! Go CCHHIIEEFFSS!! #810SportsRadio\n",
       "8                                                          Rainy day here! Good day to watch #Chiefs🏈 #Brewers ⚾️ #Dodgers ⚾️ and #Cowboys🏈 #HR4HR\n",
       "9                                                    How many loans could Mahomes own on homes, if owned homes could be loaned by Mahomes? #Chiefs\n",
       "Name: TweetText, dtype: object"
      ]
     },
     "execution_count": 7,
     "metadata": {
      "tags": []
     },
     "output_type": "execute_result"
    }
   ],
   "source": [
    "chiefs_frame['TweetText'][0:10]"
   ]
  },
  {
   "cell_type": "code",
   "execution_count": 8,
   "metadata": {
    "colab": {
     "base_uri": "https://localhost:8080/",
     "height": 797
    },
    "colab_type": "code",
    "id": "91wAFrsq6G77",
    "outputId": "270daf42-73dd-473c-ecaa-4516627ed12c"
   },
   "outputs": [
    {
     "data": {
      "text/html": [
       "<div>\n",
       "<style scoped>\n",
       "    .dataframe tbody tr th:only-of-type {\n",
       "        vertical-align: middle;\n",
       "    }\n",
       "\n",
       "    .dataframe tbody tr th {\n",
       "        vertical-align: top;\n",
       "    }\n",
       "\n",
       "    .dataframe thead th {\n",
       "        text-align: right;\n",
       "    }\n",
       "</style>\n",
       "<table border=\"1\" class=\"dataframe\">\n",
       "  <thead>\n",
       "    <tr style=\"text-align: right;\">\n",
       "      <th></th>\n",
       "      <th>TweetHashtags</th>\n",
       "      <th>UserStatusCount</th>\n",
       "      <th>UserVerified</th>\n",
       "      <th>TweetLanguage</th>\n",
       "      <th>TweetText</th>\n",
       "      <th>TweetRetweetCount</th>\n",
       "      <th>TweetFavoriteCount</th>\n",
       "      <th>TweetCreated</th>\n",
       "      <th>userDesc</th>\n",
       "    </tr>\n",
       "  </thead>\n",
       "  <tbody>\n",
       "    <tr>\n",
       "      <th>0</th>\n",
       "      <td>[{'text': 'chiefs', 'indices': [84, 91]}, {'text': 'ChiefsKingdom', 'indices': [92, 106]}]</td>\n",
       "      <td>7400</td>\n",
       "      <td>False</td>\n",
       "      <td>en</td>\n",
       "      <td>SHOWTIME GONNA BRING THE MOTHERFUCKING PAIN! and I’m gonna make some chicken wings. #chiefs #ChiefsKingdom https://t.co/nVtNVd455w</td>\n",
       "      <td>0</td>\n",
       "      <td>2</td>\n",
       "      <td>2018-10-07 14:39:50</td>\n",
       "      <td>MFA @umkansascity I write short stories. I adore comics and graphic novels. Sometimes, I complain about the state of things. Follow me and let’s n...</td>\n",
       "    </tr>\n",
       "    <tr>\n",
       "      <th>1</th>\n",
       "      <td>[]</td>\n",
       "      <td>1191</td>\n",
       "      <td>False</td>\n",
       "      <td>en</td>\n",
       "      <td>GAME DAY || Biggest game of the season, the MVP looks ready to take it on. •••https://t.co/i277X1XX0y•••\\n•\\n••\\n•••… https://t.co/LsbBQ35n8A</td>\n",
       "      <td>1</td>\n",
       "      <td>0</td>\n",
       "      <td>2018-10-07 14:33:17</td>\n",
       "      <td>Handcrafted fine beard oils, balms and waxes. 100% organic products. 100% organic manliness. Exclusive sponsor for @AHPKC.</td>\n",
       "    </tr>\n",
       "    <tr>\n",
       "      <th>2</th>\n",
       "      <td>[]</td>\n",
       "      <td>474</td>\n",
       "      <td>False</td>\n",
       "      <td>en</td>\n",
       "      <td>@jalenramsey had a few things to say this week...\\n\\nFortunately, cheetah gets to have the final word, today.… https://t.co/K45gmnteMg</td>\n",
       "      <td>0</td>\n",
       "      <td>0</td>\n",
       "      <td>2018-10-07 14:32:23</td>\n",
       "      <td>Modern Man Supply Co. is a bodega style men's store. If is was designed with a man in mind, we will carry it.</td>\n",
       "    </tr>\n",
       "    <tr>\n",
       "      <th>3</th>\n",
       "      <td>[{'text': 'Chiefs', 'indices': [28, 35]}]</td>\n",
       "      <td>1142</td>\n",
       "      <td>False</td>\n",
       "      <td>en</td>\n",
       "      <td>@ArrowheadPride Who are the #Chiefs wanting to trade for to upgrade the safety position ?</td>\n",
       "      <td>0</td>\n",
       "      <td>0</td>\n",
       "      <td>2018-10-07 14:31:22</td>\n",
       "      <td>I Love Sports , Love God , Very Conservative , Work Lenexa Rec Center and was born with Cerebral Palsy.\\nSnapchat: connor_miller79</td>\n",
       "    </tr>\n",
       "    <tr>\n",
       "      <th>4</th>\n",
       "      <td>[{'text': 'papakenoscrossroads', 'indices': [92, 112]}]</td>\n",
       "      <td>243</td>\n",
       "      <td>False</td>\n",
       "      <td>en</td>\n",
       "      <td>Game will be on &amp;amp; no poncho needed!! $4 any draft, $8.99 any slice with any pint.....!! #papakenoscrossroads… https://t.co/6Ef7TeuWLN</td>\n",
       "      <td>0</td>\n",
       "      <td>0</td>\n",
       "      <td>2018-10-07 14:22:59</td>\n",
       "      <td></td>\n",
       "    </tr>\n",
       "  </tbody>\n",
       "</table>\n",
       "</div>"
      ],
      "text/plain": [
       "                                                                                TweetHashtags  \\\n",
       "0  [{'text': 'chiefs', 'indices': [84, 91]}, {'text': 'ChiefsKingdom', 'indices': [92, 106]}]   \n",
       "1                                                                                          []   \n",
       "2                                                                                          []   \n",
       "3                                                   [{'text': 'Chiefs', 'indices': [28, 35]}]   \n",
       "4                                     [{'text': 'papakenoscrossroads', 'indices': [92, 112]}]   \n",
       "\n",
       "   UserStatusCount  UserVerified TweetLanguage  \\\n",
       "0             7400         False            en   \n",
       "1             1191         False            en   \n",
       "2              474         False            en   \n",
       "3             1142         False            en   \n",
       "4              243         False            en   \n",
       "\n",
       "                                                                                                                                       TweetText  \\\n",
       "0             SHOWTIME GONNA BRING THE MOTHERFUCKING PAIN! and I’m gonna make some chicken wings. #chiefs #ChiefsKingdom https://t.co/nVtNVd455w   \n",
       "1  GAME DAY || Biggest game of the season, the MVP looks ready to take it on. •••https://t.co/i277X1XX0y•••\\n•\\n••\\n•••… https://t.co/LsbBQ35n8A   \n",
       "2         @jalenramsey had a few things to say this week...\\n\\nFortunately, cheetah gets to have the final word, today.… https://t.co/K45gmnteMg   \n",
       "3                                                      @ArrowheadPride Who are the #Chiefs wanting to trade for to upgrade the safety position ?   \n",
       "4      Game will be on &amp; no poncho needed!! $4 any draft, $8.99 any slice with any pint.....!! #papakenoscrossroads… https://t.co/6Ef7TeuWLN   \n",
       "\n",
       "   TweetRetweetCount  TweetFavoriteCount        TweetCreated  \\\n",
       "0                  0                   2 2018-10-07 14:39:50   \n",
       "1                  1                   0 2018-10-07 14:33:17   \n",
       "2                  0                   0 2018-10-07 14:32:23   \n",
       "3                  0                   0 2018-10-07 14:31:22   \n",
       "4                  0                   0 2018-10-07 14:22:59   \n",
       "\n",
       "                                                                                                                                                userDesc  \n",
       "0  MFA @umkansascity I write short stories. I adore comics and graphic novels. Sometimes, I complain about the state of things. Follow me and let’s n...  \n",
       "1                             Handcrafted fine beard oils, balms and waxes. 100% organic products. 100% organic manliness. Exclusive sponsor for @AHPKC.  \n",
       "2                                          Modern Man Supply Co. is a bodega style men's store. If is was designed with a man in mind, we will carry it.  \n",
       "3                     I Love Sports , Love God , Very Conservative , Work Lenexa Rec Center and was born with Cerebral Palsy.\\nSnapchat: connor_miller79  \n",
       "4                                                                                                                                                         "
      ]
     },
     "execution_count": 8,
     "metadata": {
      "tags": []
     },
     "output_type": "execute_result"
    }
   ],
   "source": [
    "chiefs_frame.head()"
   ]
  },
  {
   "cell_type": "markdown",
   "metadata": {
    "colab_type": "text",
    "id": "VI1WjbmykZgN"
   },
   "source": [
    "### Jaguars Data Frame"
   ]
  },
  {
   "cell_type": "code",
   "execution_count": 9,
   "metadata": {
    "colab": {
     "base_uri": "https://localhost:8080/",
     "height": 34
    },
    "colab_type": "code",
    "id": "MXjG5qiD5QJ9",
    "outputId": "44e037a4-30fb-46c4-e025-81acef902299"
   },
   "outputs": [
    {
     "name": "stdout",
     "output_type": "stream",
     "text": [
      "Dataframe Shape (Rows, Columns):  (1500, 9)\n"
     ]
    }
   ],
   "source": [
    "#Pass the tweets list to create a DataFrame\n",
    "jaguars_frame = toDataFrame(results2)\n",
    "print('Dataframe Shape (Rows, Columns): ', jaguars_frame.shape)"
   ]
  },
  {
   "cell_type": "code",
   "execution_count": 10,
   "metadata": {
    "colab": {
     "base_uri": "https://localhost:8080/",
     "height": 212
    },
    "colab_type": "code",
    "id": "wLsq7ujw5Qhe",
    "outputId": "00739ac3-6116-4fa0-ca86-9c1741b1b93e"
   },
   "outputs": [
    {
     "data": {
      "text/plain": [
       "0         RT @FPC_Jaguars: Today is the day. Less than 2 hours until game time, get pumped! #JAXvsKC #DUUUVAL #ChiefsKingdom\\n\\nhttps://t.co/z0M3eA5z7n\n",
       "1          Patty Cajones gonna learn today @michaelirvin88 less than 300 yards, less than 5 TDs and 1+ INT is my bold predicti… https://t.co/tsPU2fLHXi\n",
       "2                                                        RT @Jaguars: It's 9:04 on game day!\\n\\nWe wanna hear you #DUUUVAL!!!!! https://t.co/P16PdB53yy\n",
       "3                                                        RT @Jaguars: It's 9:04 on game day!\\n\\nWe wanna hear you #DUUUVAL!!!!! https://t.co/P16PdB53yy\n",
       "4    RT @ActionNewsJax: #JAXvsKC Sunday Football!! \\n\\n🏈Countdown to Kickoff: 11:30 a.m. on CBS47 \\n\\n🏈 Kickoff: 1 p.m. on CBS47 \\n\\n🏈 LIVE UPDATES: h…\n",
       "5                          Today is the day. Less than 2 hours until game time, get pumped! #JAXvsKC #DUUUVAL #ChiefsKingdom\\n\\nhttps://t.co/z0M3eA5z7n\n",
       "6                                                                                 RT @Jaguars: Ready to go to work.\\n\\n#DUUUVAL https://t.co/ilMaq0vLIM\n",
       "7                                                                                 RT @Jaguars: Ready to go to work.\\n\\n#DUUUVAL https://t.co/ilMaq0vLIM\n",
       "8          My prediction for today’s game: it’s a story as old as time. Offense wins games, defense wins championships. Marron… https://t.co/CkHAvLorBy\n",
       "9                                                                                                                      #DUUUVAL https://t.co/zyguC2PTR7\n",
       "Name: TweetText, dtype: object"
      ]
     },
     "execution_count": 10,
     "metadata": {
      "tags": []
     },
     "output_type": "execute_result"
    }
   ],
   "source": [
    "jaguars_frame['TweetText'][0:10]"
   ]
  },
  {
   "cell_type": "code",
   "execution_count": 11,
   "metadata": {
    "colab": {
     "base_uri": "https://localhost:8080/",
     "height": 597
    },
    "colab_type": "code",
    "id": "5dT0zN8c5Q4m",
    "outputId": "7cc29a45-8ba3-4835-d7e4-69174afbdb13"
   },
   "outputs": [
    {
     "data": {
      "text/html": [
       "<div>\n",
       "<style scoped>\n",
       "    .dataframe tbody tr th:only-of-type {\n",
       "        vertical-align: middle;\n",
       "    }\n",
       "\n",
       "    .dataframe tbody tr th {\n",
       "        vertical-align: top;\n",
       "    }\n",
       "\n",
       "    .dataframe thead th {\n",
       "        text-align: right;\n",
       "    }\n",
       "</style>\n",
       "<table border=\"1\" class=\"dataframe\">\n",
       "  <thead>\n",
       "    <tr style=\"text-align: right;\">\n",
       "      <th></th>\n",
       "      <th>TweetHashtags</th>\n",
       "      <th>UserStatusCount</th>\n",
       "      <th>UserVerified</th>\n",
       "      <th>TweetLanguage</th>\n",
       "      <th>TweetText</th>\n",
       "      <th>TweetRetweetCount</th>\n",
       "      <th>TweetFavoriteCount</th>\n",
       "      <th>TweetCreated</th>\n",
       "      <th>userDesc</th>\n",
       "    </tr>\n",
       "  </thead>\n",
       "  <tbody>\n",
       "    <tr>\n",
       "      <th>0</th>\n",
       "      <td>[{'text': 'JAXvsKC', 'indices': [82, 90]}, {'text': 'DUUUVAL', 'indices': [91, 99]}, {'text': 'ChiefsKingdom', 'indices': [100, 114]}]</td>\n",
       "      <td>4784</td>\n",
       "      <td>False</td>\n",
       "      <td>en</td>\n",
       "      <td>RT @FPC_Jaguars: Today is the day. Less than 2 hours until game time, get pumped! #JAXvsKC #DUUUVAL #ChiefsKingdom\\n\\nhttps://t.co/z0M3eA5z7n</td>\n",
       "      <td>1</td>\n",
       "      <td>0</td>\n",
       "      <td>2018-10-07 15:09:14</td>\n",
       "      <td>I absolutely love football. Managing Editor for @FPC_JAGUARS 🐆</td>\n",
       "    </tr>\n",
       "    <tr>\n",
       "      <th>1</th>\n",
       "      <td>[]</td>\n",
       "      <td>374</td>\n",
       "      <td>False</td>\n",
       "      <td>en</td>\n",
       "      <td>Patty Cajones gonna learn today @michaelirvin88 less than 300 yards, less than 5 TDs and 1+ INT is my bold predicti… https://t.co/tsPU2fLHXi</td>\n",
       "      <td>0</td>\n",
       "      <td>0</td>\n",
       "      <td>2018-10-07 15:08:18</td>\n",
       "      <td>General Manager @ViceBros + Streamer on Twitch: https://t.co/VETJmnjoZH Instagram: https://t.co/zvnHOUOwlt YouTube: https://t.co/ul6P6TrE1H</td>\n",
       "    </tr>\n",
       "    <tr>\n",
       "      <th>2</th>\n",
       "      <td>[{'text': 'DUUUVAL', 'indices': [55, 63]}]</td>\n",
       "      <td>70095</td>\n",
       "      <td>False</td>\n",
       "      <td>en</td>\n",
       "      <td>RT @Jaguars: It's 9:04 on game day!\\n\\nWe wanna hear you #DUUUVAL!!!!! https://t.co/P16PdB53yy</td>\n",
       "      <td>60</td>\n",
       "      <td>0</td>\n",
       "      <td>2018-10-07 15:08:02</td>\n",
       "      <td>mom of 3,DIY and fashion obsessed,\\nplease click my link below to my etsy page for 1 of kind super cute jewelry line!! \\n#divinedesignstudio\\nhttp...</td>\n",
       "    </tr>\n",
       "    <tr>\n",
       "      <th>3</th>\n",
       "      <td>[{'text': 'DUUUVAL', 'indices': [55, 63]}]</td>\n",
       "      <td>9475</td>\n",
       "      <td>False</td>\n",
       "      <td>en</td>\n",
       "      <td>RT @Jaguars: It's 9:04 on game day!\\n\\nWe wanna hear you #DUUUVAL!!!!! https://t.co/P16PdB53yy</td>\n",
       "      <td>60</td>\n",
       "      <td>0</td>\n",
       "      <td>2018-10-07 15:07:56</td>\n",
       "      <td></td>\n",
       "    </tr>\n",
       "    <tr>\n",
       "      <th>4</th>\n",
       "      <td>[{'text': 'JAXvsKC', 'indices': [19, 27]}]</td>\n",
       "      <td>28648</td>\n",
       "      <td>False</td>\n",
       "      <td>en</td>\n",
       "      <td>RT @ActionNewsJax: #JAXvsKC Sunday Football!! \\n\\n🏈Countdown to Kickoff: 11:30 a.m. on CBS47 \\n\\n🏈 Kickoff: 1 p.m. on CBS47 \\n\\n🏈 LIVE UPDATES: h…</td>\n",
       "      <td>1</td>\n",
       "      <td>0</td>\n",
       "      <td>2018-10-07 15:07:46</td>\n",
       "      <td>Stl Cardinals , Stl Blues, and a Jax Jags  fan now loving my new saltlife in Jacksonville. US veteran, golfer, joker, cigar smoker! And loving the...</td>\n",
       "    </tr>\n",
       "  </tbody>\n",
       "</table>\n",
       "</div>"
      ],
      "text/plain": [
       "                                                                                                                            TweetHashtags  \\\n",
       "0  [{'text': 'JAXvsKC', 'indices': [82, 90]}, {'text': 'DUUUVAL', 'indices': [91, 99]}, {'text': 'ChiefsKingdom', 'indices': [100, 114]}]   \n",
       "1                                                                                                                                      []   \n",
       "2                                                                                              [{'text': 'DUUUVAL', 'indices': [55, 63]}]   \n",
       "3                                                                                              [{'text': 'DUUUVAL', 'indices': [55, 63]}]   \n",
       "4                                                                                              [{'text': 'JAXvsKC', 'indices': [19, 27]}]   \n",
       "\n",
       "   UserStatusCount  UserVerified TweetLanguage  \\\n",
       "0             4784         False            en   \n",
       "1              374         False            en   \n",
       "2            70095         False            en   \n",
       "3             9475         False            en   \n",
       "4            28648         False            en   \n",
       "\n",
       "                                                                                                                                            TweetText  \\\n",
       "0       RT @FPC_Jaguars: Today is the day. Less than 2 hours until game time, get pumped! #JAXvsKC #DUUUVAL #ChiefsKingdom\\n\\nhttps://t.co/z0M3eA5z7n   \n",
       "1        Patty Cajones gonna learn today @michaelirvin88 less than 300 yards, less than 5 TDs and 1+ INT is my bold predicti… https://t.co/tsPU2fLHXi   \n",
       "2                                                      RT @Jaguars: It's 9:04 on game day!\\n\\nWe wanna hear you #DUUUVAL!!!!! https://t.co/P16PdB53yy   \n",
       "3                                                      RT @Jaguars: It's 9:04 on game day!\\n\\nWe wanna hear you #DUUUVAL!!!!! https://t.co/P16PdB53yy   \n",
       "4  RT @ActionNewsJax: #JAXvsKC Sunday Football!! \\n\\n🏈Countdown to Kickoff: 11:30 a.m. on CBS47 \\n\\n🏈 Kickoff: 1 p.m. on CBS47 \\n\\n🏈 LIVE UPDATES: h…   \n",
       "\n",
       "   TweetRetweetCount  TweetFavoriteCount        TweetCreated  \\\n",
       "0                  1                   0 2018-10-07 15:09:14   \n",
       "1                  0                   0 2018-10-07 15:08:18   \n",
       "2                 60                   0 2018-10-07 15:08:02   \n",
       "3                 60                   0 2018-10-07 15:07:56   \n",
       "4                  1                   0 2018-10-07 15:07:46   \n",
       "\n",
       "                                                                                                                                                userDesc  \n",
       "0                                                                                         I absolutely love football. Managing Editor for @FPC_JAGUARS 🐆  \n",
       "1            General Manager @ViceBros + Streamer on Twitch: https://t.co/VETJmnjoZH Instagram: https://t.co/zvnHOUOwlt YouTube: https://t.co/ul6P6TrE1H  \n",
       "2  mom of 3,DIY and fashion obsessed,\\nplease click my link below to my etsy page for 1 of kind super cute jewelry line!! \\n#divinedesignstudio\\nhttp...  \n",
       "3                                                                                                                                                         \n",
       "4  Stl Cardinals , Stl Blues, and a Jax Jags  fan now loving my new saltlife in Jacksonville. US veteran, golfer, joker, cigar smoker! And loving the...  "
      ]
     },
     "execution_count": 11,
     "metadata": {
      "tags": []
     },
     "output_type": "execute_result"
    }
   ],
   "source": [
    "jaguars_frame.head()"
   ]
  },
  {
   "cell_type": "markdown",
   "metadata": {
    "colab_type": "text",
    "id": "fjn68suB6YsT"
   },
   "source": [
    "---"
   ]
  },
  {
   "cell_type": "markdown",
   "metadata": {
    "colab_type": "text",
    "id": "nbMfhrAi6Jv6"
   },
   "source": [
    "## Count Vectorizer"
   ]
  },
  {
   "cell_type": "code",
   "execution_count": 0,
   "metadata": {
    "colab": {},
    "colab_type": "code",
    "id": "dCOsO5dW6LWP"
   },
   "outputs": [],
   "source": [
    "#Import pandas into the workspace\n",
    "import pandas as pd\n",
    "#Import numpy into the workspace\n",
    "import numpy as np\n",
    "#Import the CountVectorizer module\n",
    "from sklearn.feature_extraction.text import CountVectorizer\n",
    "#Import the math function to do math\n",
    "import math\n",
    "#Specify the max width of pixels per column for text that will be analyzed\n",
    "pd.set_option('display.max_colwidth', 800)"
   ]
  },
  {
   "cell_type": "markdown",
   "metadata": {
    "colab_type": "text",
    "id": "cem4P1qK6Rkg"
   },
   "source": [
    "### Count Vectorizer Summary\n",
    "\n",
    "cv1\n",
    "*   Parameters: stop_words='english'\n",
    "*   Feature Space: 1113\n",
    "\n",
    "cv2\n",
    "*   Parameters: stop_words='stopwords'\n",
    "*   Feature Space: 1106"
   ]
  },
  {
   "cell_type": "markdown",
   "metadata": {
    "colab_type": "text",
    "id": "e1kqoac66hGN"
   },
   "source": [
    "### CV1"
   ]
  },
  {
   "cell_type": "code",
   "execution_count": 0,
   "metadata": {
    "colab": {},
    "colab_type": "code",
    "id": "HAdj5-AqXVuM"
   },
   "outputs": [],
   "source": [
    "#Define the count vectorizer using default parameters\n",
    "cv1 = CountVectorizer(stop_words='english')"
   ]
  },
  {
   "cell_type": "markdown",
   "metadata": {
    "colab_type": "text",
    "id": "Ht9pr288W74d"
   },
   "source": [
    "#### Chiefs Feature Space"
   ]
  },
  {
   "cell_type": "code",
   "execution_count": 15,
   "metadata": {
    "colab": {
     "base_uri": "https://localhost:8080/",
     "height": 52
    },
    "colab_type": "code",
    "id": "Tcgw2O6_6Vlf",
    "outputId": "53a5c6fe-6ad4-4c95-cc9d-5bc04c247b4b"
   },
   "outputs": [
    {
     "name": "stdout",
     "output_type": "stream",
     "text": [
      "Shape: (1500, 2529)\n",
      "Type: <class 'scipy.sparse.csr.csr_matrix'>\n"
     ]
    }
   ],
   "source": [
    "#Apply the count vectorizer for the bag of words to the dataframe feature\n",
    "cv1_chiefs_text = cv1.fit_transform(chiefs_frame['TweetText'])\n",
    "#This is the feature space for TweetText\n",
    "print('Shape:', cv1_chiefs_text.shape)\n",
    "#This is the type of matrix that is returned for TweetText\n",
    "print('Type:', type(cv1_chiefs_text))"
   ]
  },
  {
   "cell_type": "code",
   "execution_count": 16,
   "metadata": {
    "colab": {
     "base_uri": "https://localhost:8080/",
     "height": 396
    },
    "colab_type": "code",
    "id": "uV4N4nGL6oHC",
    "outputId": "dea2448e-9f65-4cd9-b49c-f5244764165a"
   },
   "outputs": [
    {
     "data": {
      "text/html": [
       "<div>\n",
       "<style scoped>\n",
       "    .dataframe tbody tr th:only-of-type {\n",
       "        vertical-align: middle;\n",
       "    }\n",
       "\n",
       "    .dataframe tbody tr th {\n",
       "        vertical-align: top;\n",
       "    }\n",
       "\n",
       "    .dataframe thead th {\n",
       "        text-align: right;\n",
       "    }\n",
       "</style>\n",
       "<table border=\"1\" class=\"dataframe\">\n",
       "  <thead>\n",
       "    <tr style=\"text-align: right;\">\n",
       "      <th></th>\n",
       "      <th>0ihsjqjlxx</th>\n",
       "      <th>0jx4cm7nzp</th>\n",
       "      <th>0lrjiymqgp</th>\n",
       "      <th>0r7q3ilqqe</th>\n",
       "      <th>0sk6dl9iui</th>\n",
       "      <th>0vl7dp9mx8</th>\n",
       "      <th>0yuf95arsf</th>\n",
       "      <th>10</th>\n",
       "      <th>100</th>\n",
       "      <th>1000</th>\n",
       "      <th>...</th>\n",
       "      <th>zcntelohdx</th>\n",
       "      <th>zfvolw9nki</th>\n",
       "      <th>zhdehy5nfx</th>\n",
       "      <th>zid01sjolf</th>\n",
       "      <th>zone</th>\n",
       "      <th>zrometejcm</th>\n",
       "      <th>zudckibfyt</th>\n",
       "      <th>zuzfkivu55</th>\n",
       "      <th>zvsbfhzilb</th>\n",
       "      <th>zy4la95keh</th>\n",
       "    </tr>\n",
       "  </thead>\n",
       "  <tbody>\n",
       "    <tr>\n",
       "      <th>0</th>\n",
       "      <td>0</td>\n",
       "      <td>0</td>\n",
       "      <td>0</td>\n",
       "      <td>0</td>\n",
       "      <td>0</td>\n",
       "      <td>0</td>\n",
       "      <td>0</td>\n",
       "      <td>0</td>\n",
       "      <td>0</td>\n",
       "      <td>0</td>\n",
       "      <td>...</td>\n",
       "      <td>0</td>\n",
       "      <td>0</td>\n",
       "      <td>0</td>\n",
       "      <td>0</td>\n",
       "      <td>0</td>\n",
       "      <td>0</td>\n",
       "      <td>0</td>\n",
       "      <td>0</td>\n",
       "      <td>0</td>\n",
       "      <td>0</td>\n",
       "    </tr>\n",
       "    <tr>\n",
       "      <th>1</th>\n",
       "      <td>0</td>\n",
       "      <td>0</td>\n",
       "      <td>0</td>\n",
       "      <td>0</td>\n",
       "      <td>0</td>\n",
       "      <td>0</td>\n",
       "      <td>0</td>\n",
       "      <td>0</td>\n",
       "      <td>0</td>\n",
       "      <td>0</td>\n",
       "      <td>...</td>\n",
       "      <td>0</td>\n",
       "      <td>0</td>\n",
       "      <td>0</td>\n",
       "      <td>0</td>\n",
       "      <td>0</td>\n",
       "      <td>0</td>\n",
       "      <td>0</td>\n",
       "      <td>0</td>\n",
       "      <td>0</td>\n",
       "      <td>0</td>\n",
       "    </tr>\n",
       "    <tr>\n",
       "      <th>2</th>\n",
       "      <td>0</td>\n",
       "      <td>0</td>\n",
       "      <td>0</td>\n",
       "      <td>0</td>\n",
       "      <td>0</td>\n",
       "      <td>0</td>\n",
       "      <td>0</td>\n",
       "      <td>0</td>\n",
       "      <td>0</td>\n",
       "      <td>0</td>\n",
       "      <td>...</td>\n",
       "      <td>0</td>\n",
       "      <td>0</td>\n",
       "      <td>0</td>\n",
       "      <td>0</td>\n",
       "      <td>0</td>\n",
       "      <td>0</td>\n",
       "      <td>0</td>\n",
       "      <td>0</td>\n",
       "      <td>0</td>\n",
       "      <td>0</td>\n",
       "    </tr>\n",
       "    <tr>\n",
       "      <th>3</th>\n",
       "      <td>0</td>\n",
       "      <td>0</td>\n",
       "      <td>0</td>\n",
       "      <td>0</td>\n",
       "      <td>0</td>\n",
       "      <td>0</td>\n",
       "      <td>0</td>\n",
       "      <td>0</td>\n",
       "      <td>0</td>\n",
       "      <td>0</td>\n",
       "      <td>...</td>\n",
       "      <td>0</td>\n",
       "      <td>0</td>\n",
       "      <td>0</td>\n",
       "      <td>0</td>\n",
       "      <td>0</td>\n",
       "      <td>0</td>\n",
       "      <td>0</td>\n",
       "      <td>0</td>\n",
       "      <td>0</td>\n",
       "      <td>0</td>\n",
       "    </tr>\n",
       "    <tr>\n",
       "      <th>4</th>\n",
       "      <td>0</td>\n",
       "      <td>0</td>\n",
       "      <td>0</td>\n",
       "      <td>0</td>\n",
       "      <td>0</td>\n",
       "      <td>0</td>\n",
       "      <td>0</td>\n",
       "      <td>0</td>\n",
       "      <td>0</td>\n",
       "      <td>0</td>\n",
       "      <td>...</td>\n",
       "      <td>0</td>\n",
       "      <td>0</td>\n",
       "      <td>0</td>\n",
       "      <td>0</td>\n",
       "      <td>0</td>\n",
       "      <td>0</td>\n",
       "      <td>0</td>\n",
       "      <td>0</td>\n",
       "      <td>0</td>\n",
       "      <td>0</td>\n",
       "    </tr>\n",
       "    <tr>\n",
       "      <th>5</th>\n",
       "      <td>0</td>\n",
       "      <td>0</td>\n",
       "      <td>0</td>\n",
       "      <td>0</td>\n",
       "      <td>0</td>\n",
       "      <td>0</td>\n",
       "      <td>0</td>\n",
       "      <td>0</td>\n",
       "      <td>0</td>\n",
       "      <td>0</td>\n",
       "      <td>...</td>\n",
       "      <td>0</td>\n",
       "      <td>0</td>\n",
       "      <td>0</td>\n",
       "      <td>0</td>\n",
       "      <td>0</td>\n",
       "      <td>0</td>\n",
       "      <td>0</td>\n",
       "      <td>0</td>\n",
       "      <td>0</td>\n",
       "      <td>0</td>\n",
       "    </tr>\n",
       "    <tr>\n",
       "      <th>6</th>\n",
       "      <td>0</td>\n",
       "      <td>0</td>\n",
       "      <td>0</td>\n",
       "      <td>0</td>\n",
       "      <td>0</td>\n",
       "      <td>0</td>\n",
       "      <td>0</td>\n",
       "      <td>0</td>\n",
       "      <td>0</td>\n",
       "      <td>0</td>\n",
       "      <td>...</td>\n",
       "      <td>0</td>\n",
       "      <td>0</td>\n",
       "      <td>0</td>\n",
       "      <td>0</td>\n",
       "      <td>0</td>\n",
       "      <td>0</td>\n",
       "      <td>0</td>\n",
       "      <td>0</td>\n",
       "      <td>0</td>\n",
       "      <td>0</td>\n",
       "    </tr>\n",
       "    <tr>\n",
       "      <th>7</th>\n",
       "      <td>0</td>\n",
       "      <td>0</td>\n",
       "      <td>0</td>\n",
       "      <td>0</td>\n",
       "      <td>0</td>\n",
       "      <td>0</td>\n",
       "      <td>0</td>\n",
       "      <td>0</td>\n",
       "      <td>0</td>\n",
       "      <td>0</td>\n",
       "      <td>...</td>\n",
       "      <td>0</td>\n",
       "      <td>0</td>\n",
       "      <td>0</td>\n",
       "      <td>0</td>\n",
       "      <td>0</td>\n",
       "      <td>0</td>\n",
       "      <td>0</td>\n",
       "      <td>0</td>\n",
       "      <td>0</td>\n",
       "      <td>0</td>\n",
       "    </tr>\n",
       "    <tr>\n",
       "      <th>8</th>\n",
       "      <td>0</td>\n",
       "      <td>0</td>\n",
       "      <td>0</td>\n",
       "      <td>0</td>\n",
       "      <td>0</td>\n",
       "      <td>0</td>\n",
       "      <td>0</td>\n",
       "      <td>0</td>\n",
       "      <td>0</td>\n",
       "      <td>0</td>\n",
       "      <td>...</td>\n",
       "      <td>0</td>\n",
       "      <td>0</td>\n",
       "      <td>0</td>\n",
       "      <td>0</td>\n",
       "      <td>0</td>\n",
       "      <td>0</td>\n",
       "      <td>0</td>\n",
       "      <td>0</td>\n",
       "      <td>0</td>\n",
       "      <td>0</td>\n",
       "    </tr>\n",
       "    <tr>\n",
       "      <th>9</th>\n",
       "      <td>0</td>\n",
       "      <td>0</td>\n",
       "      <td>0</td>\n",
       "      <td>0</td>\n",
       "      <td>0</td>\n",
       "      <td>0</td>\n",
       "      <td>0</td>\n",
       "      <td>0</td>\n",
       "      <td>0</td>\n",
       "      <td>0</td>\n",
       "      <td>...</td>\n",
       "      <td>0</td>\n",
       "      <td>0</td>\n",
       "      <td>0</td>\n",
       "      <td>0</td>\n",
       "      <td>0</td>\n",
       "      <td>0</td>\n",
       "      <td>0</td>\n",
       "      <td>0</td>\n",
       "      <td>0</td>\n",
       "      <td>0</td>\n",
       "    </tr>\n",
       "  </tbody>\n",
       "</table>\n",
       "<p>10 rows × 2529 columns</p>\n",
       "</div>"
      ],
      "text/plain": [
       "   0ihsjqjlxx  0jx4cm7nzp  0lrjiymqgp  0r7q3ilqqe  0sk6dl9iui  0vl7dp9mx8  \\\n",
       "0           0           0           0           0           0           0   \n",
       "1           0           0           0           0           0           0   \n",
       "2           0           0           0           0           0           0   \n",
       "3           0           0           0           0           0           0   \n",
       "4           0           0           0           0           0           0   \n",
       "5           0           0           0           0           0           0   \n",
       "6           0           0           0           0           0           0   \n",
       "7           0           0           0           0           0           0   \n",
       "8           0           0           0           0           0           0   \n",
       "9           0           0           0           0           0           0   \n",
       "\n",
       "   0yuf95arsf  10  100  1000     ...      zcntelohdx  zfvolw9nki  zhdehy5nfx  \\\n",
       "0           0   0    0     0     ...               0           0           0   \n",
       "1           0   0    0     0     ...               0           0           0   \n",
       "2           0   0    0     0     ...               0           0           0   \n",
       "3           0   0    0     0     ...               0           0           0   \n",
       "4           0   0    0     0     ...               0           0           0   \n",
       "5           0   0    0     0     ...               0           0           0   \n",
       "6           0   0    0     0     ...               0           0           0   \n",
       "7           0   0    0     0     ...               0           0           0   \n",
       "8           0   0    0     0     ...               0           0           0   \n",
       "9           0   0    0     0     ...               0           0           0   \n",
       "\n",
       "   zid01sjolf  zone  zrometejcm  zudckibfyt  zuzfkivu55  zvsbfhzilb  \\\n",
       "0           0     0           0           0           0           0   \n",
       "1           0     0           0           0           0           0   \n",
       "2           0     0           0           0           0           0   \n",
       "3           0     0           0           0           0           0   \n",
       "4           0     0           0           0           0           0   \n",
       "5           0     0           0           0           0           0   \n",
       "6           0     0           0           0           0           0   \n",
       "7           0     0           0           0           0           0   \n",
       "8           0     0           0           0           0           0   \n",
       "9           0     0           0           0           0           0   \n",
       "\n",
       "   zy4la95keh  \n",
       "0           0  \n",
       "1           0  \n",
       "2           0  \n",
       "3           0  \n",
       "4           0  \n",
       "5           0  \n",
       "6           0  \n",
       "7           0  \n",
       "8           0  \n",
       "9           0  \n",
       "\n",
       "[10 rows x 2529 columns]"
      ]
     },
     "execution_count": 16,
     "metadata": {
      "tags": []
     },
     "output_type": "execute_result"
    }
   ],
   "source": [
    "#Print the sparse matrix as a data frame for an aestheticallly pleasing view of the feature space head#Print t \n",
    "pd.DataFrame(cv1_chiefs_text.toarray(), columns = cv1.get_feature_names()).head(10)"
   ]
  },
  {
   "cell_type": "markdown",
   "metadata": {
    "colab_type": "text",
    "id": "NSlVq66d6qLB"
   },
   "source": [
    "Most frequently occurring terms:"
   ]
  },
  {
   "cell_type": "code",
   "execution_count": 17,
   "metadata": {
    "colab": {
     "base_uri": "https://localhost:8080/",
     "height": 797
    },
    "colab_type": "code",
    "id": "dDp_aQsu6szo",
    "outputId": "e3ef2183-a7bc-42ca-caa7-d14eb982852a"
   },
   "outputs": [
    {
     "data": {
      "text/html": [
       "<div>\n",
       "<style scoped>\n",
       "    .dataframe tbody tr th:only-of-type {\n",
       "        vertical-align: middle;\n",
       "    }\n",
       "\n",
       "    .dataframe tbody tr th {\n",
       "        vertical-align: top;\n",
       "    }\n",
       "\n",
       "    .dataframe thead th {\n",
       "        text-align: right;\n",
       "    }\n",
       "</style>\n",
       "<table border=\"1\" class=\"dataframe\">\n",
       "  <thead>\n",
       "    <tr style=\"text-align: right;\">\n",
       "      <th></th>\n",
       "      <th>count</th>\n",
       "    </tr>\n",
       "  </thead>\n",
       "  <tbody>\n",
       "    <tr>\n",
       "      <th>chiefs</th>\n",
       "      <td>1275</td>\n",
       "    </tr>\n",
       "    <tr>\n",
       "      <th>rt</th>\n",
       "      <td>932</td>\n",
       "    </tr>\n",
       "    <tr>\n",
       "      <th>https</th>\n",
       "      <td>858</td>\n",
       "    </tr>\n",
       "    <tr>\n",
       "      <th>mahomes</th>\n",
       "      <td>285</td>\n",
       "    </tr>\n",
       "    <tr>\n",
       "      <th>patrick</th>\n",
       "      <td>201</td>\n",
       "    </tr>\n",
       "    <tr>\n",
       "      <th>mitchschwartz72</th>\n",
       "      <td>140</td>\n",
       "    </tr>\n",
       "    <tr>\n",
       "      <th>game</th>\n",
       "      <td>129</td>\n",
       "    </tr>\n",
       "    <tr>\n",
       "      <th>looks</th>\n",
       "      <td>127</td>\n",
       "    </tr>\n",
       "    <tr>\n",
       "      <th>chiefskingdom</th>\n",
       "      <td>125</td>\n",
       "    </tr>\n",
       "    <tr>\n",
       "      <th>mattderrick</th>\n",
       "      <td>123</td>\n",
       "    </tr>\n",
       "    <tr>\n",
       "      <th>today</th>\n",
       "      <td>122</td>\n",
       "    </tr>\n",
       "    <tr>\n",
       "      <th>love</th>\n",
       "      <td>119</td>\n",
       "    </tr>\n",
       "    <tr>\n",
       "      <th>defense</th>\n",
       "      <td>118</td>\n",
       "    </tr>\n",
       "    <tr>\n",
       "      <th>tomkctv5</th>\n",
       "      <td>116</td>\n",
       "    </tr>\n",
       "    <tr>\n",
       "      <th>jaguars</th>\n",
       "      <td>109</td>\n",
       "    </tr>\n",
       "    <tr>\n",
       "      <th>thanks</th>\n",
       "      <td>106</td>\n",
       "    </tr>\n",
       "    <tr>\n",
       "      <th>practice</th>\n",
       "      <td>105</td>\n",
       "    </tr>\n",
       "    <tr>\n",
       "      <th>12</th>\n",
       "      <td>104</td>\n",
       "    </tr>\n",
       "    <tr>\n",
       "      <th>support</th>\n",
       "      <td>104</td>\n",
       "    </tr>\n",
       "    <tr>\n",
       "      <th>reached</th>\n",
       "      <td>103</td>\n",
       "    </tr>\n",
       "    <tr>\n",
       "      <th>appreciate</th>\n",
       "      <td>103</td>\n",
       "    </tr>\n",
       "    <tr>\n",
       "      <th>past</th>\n",
       "      <td>103</td>\n",
       "    </tr>\n",
       "    <tr>\n",
       "      <th>hours</th>\n",
       "      <td>103</td>\n",
       "    </tr>\n",
       "    <tr>\n",
       "      <th>incre</th>\n",
       "      <td>102</td>\n",
       "    </tr>\n",
       "    <tr>\n",
       "      <th>eric</th>\n",
       "      <td>99</td>\n",
       "    </tr>\n",
       "  </tbody>\n",
       "</table>\n",
       "</div>"
      ],
      "text/plain": [
       "                 count\n",
       "chiefs            1275\n",
       "rt                 932\n",
       "https              858\n",
       "mahomes            285\n",
       "patrick            201\n",
       "mitchschwartz72    140\n",
       "game               129\n",
       "looks              127\n",
       "chiefskingdom      125\n",
       "mattderrick        123\n",
       "today              122\n",
       "love               119\n",
       "defense            118\n",
       "tomkctv5           116\n",
       "jaguars            109\n",
       "thanks             106\n",
       "practice           105\n",
       "12                 104\n",
       "support            104\n",
       "reached            103\n",
       "appreciate         103\n",
       "past               103\n",
       "hours              103\n",
       "incre              102\n",
       "eric                99"
      ]
     },
     "execution_count": 17,
     "metadata": {
      "tags": []
     },
     "output_type": "execute_result"
    }
   ],
   "source": [
    "names = cv1.get_feature_names()   #create list of feature names\n",
    "\n",
    "count = np.sum(cv1_chiefs_text.toarray(), axis = 0) # convert list to array to add up feature counts \n",
    "count2 = count.tolist()  # convert numpy array to list\n",
    "\n",
    "count_df = pd.DataFrame(count2, index = names, columns = ['count']) # create a dataframe from the list\n",
    "\n",
    "sorted_count = count_df.sort_values(['count'], ascending = False)\n",
    "sorted_count.head(25)"
   ]
  },
  {
   "cell_type": "markdown",
   "metadata": {
    "colab_type": "text",
    "id": "Cjy0DZILYMR6"
   },
   "source": [
    "#### Jaguars Feature Space"
   ]
  },
  {
   "cell_type": "code",
   "execution_count": 19,
   "metadata": {
    "colab": {
     "base_uri": "https://localhost:8080/",
     "height": 52
    },
    "colab_type": "code",
    "id": "T8n6njevYT_s",
    "outputId": "39d559fa-84ff-485a-a1de-470418dab60e"
   },
   "outputs": [
    {
     "name": "stdout",
     "output_type": "stream",
     "text": [
      "Shape: (1500, 1611)\n",
      "Type: <class 'scipy.sparse.csr.csr_matrix'>\n"
     ]
    }
   ],
   "source": [
    "#Apply the count vectorizer for the bag of words to the dataframe feature\n",
    "cv1_jaguars_text = cv1.fit_transform(jaguars_frame['TweetText'])\n",
    "#This is the feature space for TweetText\n",
    "print('Shape:', cv1_jaguars_text.shape)\n",
    "#This is the type of matrix that is returned for TweetText\n",
    "print('Type:', type(cv1_jaguars_text))"
   ]
  },
  {
   "cell_type": "code",
   "execution_count": 21,
   "metadata": {
    "colab": {
     "base_uri": "https://localhost:8080/",
     "height": 396
    },
    "colab_type": "code",
    "id": "l0gF0LQuYW9h",
    "outputId": "284e380b-6e4a-4891-9fab-696f9da7204f"
   },
   "outputs": [
    {
     "data": {
      "text/html": [
       "<div>\n",
       "<style scoped>\n",
       "    .dataframe tbody tr th:only-of-type {\n",
       "        vertical-align: middle;\n",
       "    }\n",
       "\n",
       "    .dataframe tbody tr th {\n",
       "        vertical-align: top;\n",
       "    }\n",
       "\n",
       "    .dataframe thead th {\n",
       "        text-align: right;\n",
       "    }\n",
       "</style>\n",
       "<table border=\"1\" class=\"dataframe\">\n",
       "  <thead>\n",
       "    <tr style=\"text-align: right;\">\n",
       "      <th></th>\n",
       "      <th>00</th>\n",
       "      <th>04</th>\n",
       "      <th>084axs4vu7</th>\n",
       "      <th>0d1ulua2ri</th>\n",
       "      <th>0dx6a0nb</th>\n",
       "      <th>0dx6a0nbet</th>\n",
       "      <th>0hdg2nlvnf</th>\n",
       "      <th>0o3bef0vwa</th>\n",
       "      <th>0uqf9ccxn8</th>\n",
       "      <th>10</th>\n",
       "      <th>...</th>\n",
       "      <th>zct7</th>\n",
       "      <th>zct7zguez6</th>\n",
       "      <th>zdi9snksuj</th>\n",
       "      <th>zero</th>\n",
       "      <th>zeyrgl09xt</th>\n",
       "      <th>zougurl5</th>\n",
       "      <th>zr6skkxxd7</th>\n",
       "      <th>zt5iocnpdo</th>\n",
       "      <th>zvfbjlixzv</th>\n",
       "      <th>zyguc2ptr7</th>\n",
       "    </tr>\n",
       "  </thead>\n",
       "  <tbody>\n",
       "    <tr>\n",
       "      <th>0</th>\n",
       "      <td>0</td>\n",
       "      <td>0</td>\n",
       "      <td>0</td>\n",
       "      <td>0</td>\n",
       "      <td>0</td>\n",
       "      <td>0</td>\n",
       "      <td>0</td>\n",
       "      <td>0</td>\n",
       "      <td>0</td>\n",
       "      <td>0</td>\n",
       "      <td>...</td>\n",
       "      <td>0</td>\n",
       "      <td>0</td>\n",
       "      <td>0</td>\n",
       "      <td>0</td>\n",
       "      <td>0</td>\n",
       "      <td>0</td>\n",
       "      <td>0</td>\n",
       "      <td>0</td>\n",
       "      <td>0</td>\n",
       "      <td>0</td>\n",
       "    </tr>\n",
       "    <tr>\n",
       "      <th>1</th>\n",
       "      <td>0</td>\n",
       "      <td>0</td>\n",
       "      <td>0</td>\n",
       "      <td>0</td>\n",
       "      <td>0</td>\n",
       "      <td>0</td>\n",
       "      <td>0</td>\n",
       "      <td>0</td>\n",
       "      <td>0</td>\n",
       "      <td>0</td>\n",
       "      <td>...</td>\n",
       "      <td>0</td>\n",
       "      <td>0</td>\n",
       "      <td>0</td>\n",
       "      <td>0</td>\n",
       "      <td>0</td>\n",
       "      <td>0</td>\n",
       "      <td>0</td>\n",
       "      <td>0</td>\n",
       "      <td>0</td>\n",
       "      <td>0</td>\n",
       "    </tr>\n",
       "    <tr>\n",
       "      <th>2</th>\n",
       "      <td>0</td>\n",
       "      <td>1</td>\n",
       "      <td>0</td>\n",
       "      <td>0</td>\n",
       "      <td>0</td>\n",
       "      <td>0</td>\n",
       "      <td>0</td>\n",
       "      <td>0</td>\n",
       "      <td>0</td>\n",
       "      <td>0</td>\n",
       "      <td>...</td>\n",
       "      <td>0</td>\n",
       "      <td>0</td>\n",
       "      <td>0</td>\n",
       "      <td>0</td>\n",
       "      <td>0</td>\n",
       "      <td>0</td>\n",
       "      <td>0</td>\n",
       "      <td>0</td>\n",
       "      <td>0</td>\n",
       "      <td>0</td>\n",
       "    </tr>\n",
       "    <tr>\n",
       "      <th>3</th>\n",
       "      <td>0</td>\n",
       "      <td>1</td>\n",
       "      <td>0</td>\n",
       "      <td>0</td>\n",
       "      <td>0</td>\n",
       "      <td>0</td>\n",
       "      <td>0</td>\n",
       "      <td>0</td>\n",
       "      <td>0</td>\n",
       "      <td>0</td>\n",
       "      <td>...</td>\n",
       "      <td>0</td>\n",
       "      <td>0</td>\n",
       "      <td>0</td>\n",
       "      <td>0</td>\n",
       "      <td>0</td>\n",
       "      <td>0</td>\n",
       "      <td>0</td>\n",
       "      <td>0</td>\n",
       "      <td>0</td>\n",
       "      <td>0</td>\n",
       "    </tr>\n",
       "    <tr>\n",
       "      <th>4</th>\n",
       "      <td>0</td>\n",
       "      <td>0</td>\n",
       "      <td>0</td>\n",
       "      <td>0</td>\n",
       "      <td>0</td>\n",
       "      <td>0</td>\n",
       "      <td>0</td>\n",
       "      <td>0</td>\n",
       "      <td>0</td>\n",
       "      <td>0</td>\n",
       "      <td>...</td>\n",
       "      <td>0</td>\n",
       "      <td>0</td>\n",
       "      <td>0</td>\n",
       "      <td>0</td>\n",
       "      <td>0</td>\n",
       "      <td>0</td>\n",
       "      <td>0</td>\n",
       "      <td>0</td>\n",
       "      <td>0</td>\n",
       "      <td>0</td>\n",
       "    </tr>\n",
       "    <tr>\n",
       "      <th>5</th>\n",
       "      <td>0</td>\n",
       "      <td>0</td>\n",
       "      <td>0</td>\n",
       "      <td>0</td>\n",
       "      <td>0</td>\n",
       "      <td>0</td>\n",
       "      <td>0</td>\n",
       "      <td>0</td>\n",
       "      <td>0</td>\n",
       "      <td>0</td>\n",
       "      <td>...</td>\n",
       "      <td>0</td>\n",
       "      <td>0</td>\n",
       "      <td>0</td>\n",
       "      <td>0</td>\n",
       "      <td>0</td>\n",
       "      <td>0</td>\n",
       "      <td>0</td>\n",
       "      <td>0</td>\n",
       "      <td>0</td>\n",
       "      <td>0</td>\n",
       "    </tr>\n",
       "    <tr>\n",
       "      <th>6</th>\n",
       "      <td>0</td>\n",
       "      <td>0</td>\n",
       "      <td>0</td>\n",
       "      <td>0</td>\n",
       "      <td>0</td>\n",
       "      <td>0</td>\n",
       "      <td>0</td>\n",
       "      <td>0</td>\n",
       "      <td>0</td>\n",
       "      <td>0</td>\n",
       "      <td>...</td>\n",
       "      <td>0</td>\n",
       "      <td>0</td>\n",
       "      <td>0</td>\n",
       "      <td>0</td>\n",
       "      <td>0</td>\n",
       "      <td>0</td>\n",
       "      <td>0</td>\n",
       "      <td>0</td>\n",
       "      <td>0</td>\n",
       "      <td>0</td>\n",
       "    </tr>\n",
       "    <tr>\n",
       "      <th>7</th>\n",
       "      <td>0</td>\n",
       "      <td>0</td>\n",
       "      <td>0</td>\n",
       "      <td>0</td>\n",
       "      <td>0</td>\n",
       "      <td>0</td>\n",
       "      <td>0</td>\n",
       "      <td>0</td>\n",
       "      <td>0</td>\n",
       "      <td>0</td>\n",
       "      <td>...</td>\n",
       "      <td>0</td>\n",
       "      <td>0</td>\n",
       "      <td>0</td>\n",
       "      <td>0</td>\n",
       "      <td>0</td>\n",
       "      <td>0</td>\n",
       "      <td>0</td>\n",
       "      <td>0</td>\n",
       "      <td>0</td>\n",
       "      <td>0</td>\n",
       "    </tr>\n",
       "    <tr>\n",
       "      <th>8</th>\n",
       "      <td>0</td>\n",
       "      <td>0</td>\n",
       "      <td>0</td>\n",
       "      <td>0</td>\n",
       "      <td>0</td>\n",
       "      <td>0</td>\n",
       "      <td>0</td>\n",
       "      <td>0</td>\n",
       "      <td>0</td>\n",
       "      <td>0</td>\n",
       "      <td>...</td>\n",
       "      <td>0</td>\n",
       "      <td>0</td>\n",
       "      <td>0</td>\n",
       "      <td>0</td>\n",
       "      <td>0</td>\n",
       "      <td>0</td>\n",
       "      <td>0</td>\n",
       "      <td>0</td>\n",
       "      <td>0</td>\n",
       "      <td>0</td>\n",
       "    </tr>\n",
       "    <tr>\n",
       "      <th>9</th>\n",
       "      <td>0</td>\n",
       "      <td>0</td>\n",
       "      <td>0</td>\n",
       "      <td>0</td>\n",
       "      <td>0</td>\n",
       "      <td>0</td>\n",
       "      <td>0</td>\n",
       "      <td>0</td>\n",
       "      <td>0</td>\n",
       "      <td>0</td>\n",
       "      <td>...</td>\n",
       "      <td>0</td>\n",
       "      <td>0</td>\n",
       "      <td>0</td>\n",
       "      <td>0</td>\n",
       "      <td>0</td>\n",
       "      <td>0</td>\n",
       "      <td>0</td>\n",
       "      <td>0</td>\n",
       "      <td>0</td>\n",
       "      <td>1</td>\n",
       "    </tr>\n",
       "  </tbody>\n",
       "</table>\n",
       "<p>10 rows × 1611 columns</p>\n",
       "</div>"
      ],
      "text/plain": [
       "   00  04  084axs4vu7  0d1ulua2ri  0dx6a0nb  0dx6a0nbet  0hdg2nlvnf  \\\n",
       "0   0   0           0           0         0           0           0   \n",
       "1   0   0           0           0         0           0           0   \n",
       "2   0   1           0           0         0           0           0   \n",
       "3   0   1           0           0         0           0           0   \n",
       "4   0   0           0           0         0           0           0   \n",
       "5   0   0           0           0         0           0           0   \n",
       "6   0   0           0           0         0           0           0   \n",
       "7   0   0           0           0         0           0           0   \n",
       "8   0   0           0           0         0           0           0   \n",
       "9   0   0           0           0         0           0           0   \n",
       "\n",
       "   0o3bef0vwa  0uqf9ccxn8  10     ...      zct7  zct7zguez6  zdi9snksuj  zero  \\\n",
       "0           0           0   0     ...         0           0           0     0   \n",
       "1           0           0   0     ...         0           0           0     0   \n",
       "2           0           0   0     ...         0           0           0     0   \n",
       "3           0           0   0     ...         0           0           0     0   \n",
       "4           0           0   0     ...         0           0           0     0   \n",
       "5           0           0   0     ...         0           0           0     0   \n",
       "6           0           0   0     ...         0           0           0     0   \n",
       "7           0           0   0     ...         0           0           0     0   \n",
       "8           0           0   0     ...         0           0           0     0   \n",
       "9           0           0   0     ...         0           0           0     0   \n",
       "\n",
       "   zeyrgl09xt  zougurl5  zr6skkxxd7  zt5iocnpdo  zvfbjlixzv  zyguc2ptr7  \n",
       "0           0         0           0           0           0           0  \n",
       "1           0         0           0           0           0           0  \n",
       "2           0         0           0           0           0           0  \n",
       "3           0         0           0           0           0           0  \n",
       "4           0         0           0           0           0           0  \n",
       "5           0         0           0           0           0           0  \n",
       "6           0         0           0           0           0           0  \n",
       "7           0         0           0           0           0           0  \n",
       "8           0         0           0           0           0           0  \n",
       "9           0         0           0           0           0           1  \n",
       "\n",
       "[10 rows x 1611 columns]"
      ]
     },
     "execution_count": 21,
     "metadata": {
      "tags": []
     },
     "output_type": "execute_result"
    }
   ],
   "source": [
    "#Print the sparse matrix as a data frame for an aestheticallly pleasing view of the feature space head#Print t \n",
    "pd.DataFrame(cv1_jaguars_text.toarray(), columns = cv1.get_feature_names()).head(10)"
   ]
  },
  {
   "cell_type": "markdown",
   "metadata": {
    "colab_type": "text",
    "id": "RTt23NBWYhNN"
   },
   "source": [
    "Most frequently occurring terms"
   ]
  },
  {
   "cell_type": "code",
   "execution_count": 22,
   "metadata": {
    "colab": {
     "base_uri": "https://localhost:8080/",
     "height": 797
    },
    "colab_type": "code",
    "id": "uknFJ54bYdyt",
    "outputId": "2cc895c5-1e3b-4ddb-e043-24586458ff58"
   },
   "outputs": [
    {
     "data": {
      "text/html": [
       "<div>\n",
       "<style scoped>\n",
       "    .dataframe tbody tr th:only-of-type {\n",
       "        vertical-align: middle;\n",
       "    }\n",
       "\n",
       "    .dataframe tbody tr th {\n",
       "        vertical-align: top;\n",
       "    }\n",
       "\n",
       "    .dataframe thead th {\n",
       "        text-align: right;\n",
       "    }\n",
       "</style>\n",
       "<table border=\"1\" class=\"dataframe\">\n",
       "  <thead>\n",
       "    <tr style=\"text-align: right;\">\n",
       "      <th></th>\n",
       "      <th>count</th>\n",
       "    </tr>\n",
       "  </thead>\n",
       "  <tbody>\n",
       "    <tr>\n",
       "      <th>duuuval</th>\n",
       "      <td>1382</td>\n",
       "    </tr>\n",
       "    <tr>\n",
       "      <th>https</th>\n",
       "      <td>1353</td>\n",
       "    </tr>\n",
       "    <tr>\n",
       "      <th>jaguars</th>\n",
       "      <td>1244</td>\n",
       "    </tr>\n",
       "    <tr>\n",
       "      <th>rt</th>\n",
       "      <td>1178</td>\n",
       "    </tr>\n",
       "    <tr>\n",
       "      <th>game</th>\n",
       "      <td>359</td>\n",
       "    </tr>\n",
       "    <tr>\n",
       "      <th>day</th>\n",
       "      <td>279</td>\n",
       "    </tr>\n",
       "    <tr>\n",
       "      <th>run</th>\n",
       "      <td>215</td>\n",
       "    </tr>\n",
       "    <tr>\n",
       "      <th>ny</th>\n",
       "      <td>193</td>\n",
       "    </tr>\n",
       "    <tr>\n",
       "      <th>3z1bvxzrbj</th>\n",
       "      <td>189</td>\n",
       "    </tr>\n",
       "    <tr>\n",
       "      <th>arrowhead</th>\n",
       "      <td>138</td>\n",
       "    </tr>\n",
       "    <tr>\n",
       "      <th>black</th>\n",
       "      <td>134</td>\n",
       "    </tr>\n",
       "    <tr>\n",
       "      <th>headed</th>\n",
       "      <td>132</td>\n",
       "    </tr>\n",
       "    <tr>\n",
       "      <th>tops</th>\n",
       "      <td>131</td>\n",
       "    </tr>\n",
       "    <tr>\n",
       "      <th>pants</th>\n",
       "      <td>131</td>\n",
       "    </tr>\n",
       "    <tr>\n",
       "      <th>db2tjcd1ih</th>\n",
       "      <td>131</td>\n",
       "    </tr>\n",
       "    <tr>\n",
       "      <th>white</th>\n",
       "      <td>131</td>\n",
       "    </tr>\n",
       "    <tr>\n",
       "      <th>victorymonday</th>\n",
       "      <td>120</td>\n",
       "    </tr>\n",
       "    <tr>\n",
       "      <th>feeling</th>\n",
       "      <td>114</td>\n",
       "    </tr>\n",
       "    <tr>\n",
       "      <th>nhymlpsnl8</th>\n",
       "      <td>113</td>\n",
       "    </tr>\n",
       "    <tr>\n",
       "      <th>joshlambo</th>\n",
       "      <td>113</td>\n",
       "    </tr>\n",
       "    <tr>\n",
       "      <th>kn2fwx2kay</th>\n",
       "      <td>99</td>\n",
       "    </tr>\n",
       "    <tr>\n",
       "      <th>officially</th>\n",
       "      <td>90</td>\n",
       "    </tr>\n",
       "    <tr>\n",
       "      <th>klbqhaioso</th>\n",
       "      <td>89</td>\n",
       "    </tr>\n",
       "    <tr>\n",
       "      <th>dedethegreat11</th>\n",
       "      <td>86</td>\n",
       "    </tr>\n",
       "    <tr>\n",
       "      <th>high</th>\n",
       "      <td>80</td>\n",
       "    </tr>\n",
       "  </tbody>\n",
       "</table>\n",
       "</div>"
      ],
      "text/plain": [
       "                count\n",
       "duuuval          1382\n",
       "https            1353\n",
       "jaguars          1244\n",
       "rt               1178\n",
       "game              359\n",
       "day               279\n",
       "run               215\n",
       "ny                193\n",
       "3z1bvxzrbj        189\n",
       "arrowhead         138\n",
       "black             134\n",
       "headed            132\n",
       "tops              131\n",
       "pants             131\n",
       "db2tjcd1ih        131\n",
       "white             131\n",
       "victorymonday     120\n",
       "feeling           114\n",
       "nhymlpsnl8        113\n",
       "joshlambo         113\n",
       "kn2fwx2kay         99\n",
       "officially         90\n",
       "klbqhaioso         89\n",
       "dedethegreat11     86\n",
       "high               80"
      ]
     },
     "execution_count": 22,
     "metadata": {
      "tags": []
     },
     "output_type": "execute_result"
    }
   ],
   "source": [
    "names = cv1.get_feature_names()   #create list of feature names\n",
    "\n",
    "count = np.sum(cv1_jaguars_text.toarray(), axis = 0) # convert list to array to add up feature counts \n",
    "count2 = count.tolist()  # convert numpy array to list\n",
    "\n",
    "count_df = pd.DataFrame(count2, index = names, columns = ['count']) # create a dataframe from the list\n",
    "\n",
    "sorted_count = count_df.sort_values(['count'], ascending = False)\n",
    "sorted_count.head(25)"
   ]
  },
  {
   "cell_type": "markdown",
   "metadata": {
    "colab_type": "text",
    "id": "ltqNqidN7DI_"
   },
   "source": [
    "### CV2"
   ]
  },
  {
   "cell_type": "markdown",
   "metadata": {
    "colab_type": "text",
    "id": "Aeya1A7h6zqw"
   },
   "source": [
    "Create custom stopwords list to remove unhelpful words for next count vectorizer"
   ]
  },
  {
   "cell_type": "code",
   "execution_count": 0,
   "metadata": {
    "colab": {},
    "colab_type": "code",
    "id": "bk-NLh6l7BDK"
   },
   "outputs": [],
   "source": [
    "from sklearn.feature_extraction import text\n",
    "# Add more stopwords to standard english \n",
    "mylist = ['rt', '&', 'amp','pff','http','website','retweet','fi','fbs','https','years','uh2bpyg3gu','just','calling','intervi','traffic','shut']\n",
    "stopwords = text.ENGLISH_STOP_WORDS.union(mylist)"
   ]
  },
  {
   "cell_type": "code",
   "execution_count": 0,
   "metadata": {
    "colab": {},
    "colab_type": "code",
    "id": "AAIScwHt7EJg"
   },
   "outputs": [],
   "source": [
    "#Define the count vectorizer using stopwords custom parameter\n",
    "cv2 = CountVectorizer(stop_words=stopwords, min_df = .02)"
   ]
  },
  {
   "cell_type": "markdown",
   "metadata": {
    "colab_type": "text",
    "id": "LGdGDM2xZ3f2"
   },
   "source": [
    "#### Chiefs Feature Space"
   ]
  },
  {
   "cell_type": "code",
   "execution_count": 26,
   "metadata": {
    "colab": {
     "base_uri": "https://localhost:8080/",
     "height": 52
    },
    "colab_type": "code",
    "id": "2kePzhZcZ8Sk",
    "outputId": "5398e89c-fd33-4c76-ec14-084563be7813"
   },
   "outputs": [
    {
     "name": "stdout",
     "output_type": "stream",
     "text": [
      "Shape: (1500, 105)\n",
      "Type: <class 'scipy.sparse.csr.csr_matrix'>\n"
     ]
    }
   ],
   "source": [
    "#Apply the count vectorizer for the bag of words to the dataframe feature\n",
    "cv2_chiefs_text = cv2.fit_transform(chiefs_frame['TweetText'])\n",
    "#This is the feature space for TweetText\n",
    "print('Shape:', cv2_chiefs_text.shape)\n",
    "#This is the type of matrix that is returned for TweetText\n",
    "print('Type:', type(cv2_chiefs_text))"
   ]
  },
  {
   "cell_type": "code",
   "execution_count": 27,
   "metadata": {
    "colab": {
     "base_uri": "https://localhost:8080/",
     "height": 376
    },
    "colab_type": "code",
    "id": "OaxTnwT4bCqL",
    "outputId": "5a70ed79-3ebd-4fff-9cd5-6a80a7e58c28"
   },
   "outputs": [
    {
     "data": {
      "text/html": [
       "<div>\n",
       "<style scoped>\n",
       "    .dataframe tbody tr th:only-of-type {\n",
       "        vertical-align: middle;\n",
       "    }\n",
       "\n",
       "    .dataframe tbody tr th {\n",
       "        vertical-align: top;\n",
       "    }\n",
       "\n",
       "    .dataframe thead th {\n",
       "        text-align: right;\n",
       "    }\n",
       "</style>\n",
       "<table border=\"1\" class=\"dataframe\">\n",
       "  <thead>\n",
       "    <tr style=\"text-align: right;\">\n",
       "      <th></th>\n",
       "      <th>100</th>\n",
       "      <th>12</th>\n",
       "      <th>2nwchyfknd</th>\n",
       "      <th>567synhihb</th>\n",
       "      <th>andy</th>\n",
       "      <th>appreciate</th>\n",
       "      <th>arrowheadpride</th>\n",
       "      <th>baby</th>\n",
       "      <th>berry</th>\n",
       "      <th>briefly</th>\n",
       "      <th>...</th>\n",
       "      <th>today</th>\n",
       "      <th>tomkctv5</th>\n",
       "      <th>ve</th>\n",
       "      <th>victory</th>\n",
       "      <th>vs</th>\n",
       "      <th>way</th>\n",
       "      <th>week</th>\n",
       "      <th>win</th>\n",
       "      <th>won</th>\n",
       "      <th>year</th>\n",
       "    </tr>\n",
       "  </thead>\n",
       "  <tbody>\n",
       "    <tr>\n",
       "      <th>0</th>\n",
       "      <td>0</td>\n",
       "      <td>0</td>\n",
       "      <td>0</td>\n",
       "      <td>0</td>\n",
       "      <td>0</td>\n",
       "      <td>0</td>\n",
       "      <td>0</td>\n",
       "      <td>0</td>\n",
       "      <td>0</td>\n",
       "      <td>0</td>\n",
       "      <td>...</td>\n",
       "      <td>0</td>\n",
       "      <td>0</td>\n",
       "      <td>0</td>\n",
       "      <td>0</td>\n",
       "      <td>0</td>\n",
       "      <td>0</td>\n",
       "      <td>0</td>\n",
       "      <td>0</td>\n",
       "      <td>0</td>\n",
       "      <td>0</td>\n",
       "    </tr>\n",
       "    <tr>\n",
       "      <th>1</th>\n",
       "      <td>0</td>\n",
       "      <td>0</td>\n",
       "      <td>0</td>\n",
       "      <td>0</td>\n",
       "      <td>0</td>\n",
       "      <td>0</td>\n",
       "      <td>0</td>\n",
       "      <td>0</td>\n",
       "      <td>0</td>\n",
       "      <td>0</td>\n",
       "      <td>...</td>\n",
       "      <td>0</td>\n",
       "      <td>0</td>\n",
       "      <td>0</td>\n",
       "      <td>0</td>\n",
       "      <td>0</td>\n",
       "      <td>0</td>\n",
       "      <td>0</td>\n",
       "      <td>0</td>\n",
       "      <td>0</td>\n",
       "      <td>0</td>\n",
       "    </tr>\n",
       "    <tr>\n",
       "      <th>2</th>\n",
       "      <td>0</td>\n",
       "      <td>0</td>\n",
       "      <td>0</td>\n",
       "      <td>0</td>\n",
       "      <td>0</td>\n",
       "      <td>0</td>\n",
       "      <td>0</td>\n",
       "      <td>0</td>\n",
       "      <td>0</td>\n",
       "      <td>0</td>\n",
       "      <td>...</td>\n",
       "      <td>1</td>\n",
       "      <td>0</td>\n",
       "      <td>0</td>\n",
       "      <td>0</td>\n",
       "      <td>0</td>\n",
       "      <td>0</td>\n",
       "      <td>1</td>\n",
       "      <td>0</td>\n",
       "      <td>0</td>\n",
       "      <td>0</td>\n",
       "    </tr>\n",
       "    <tr>\n",
       "      <th>3</th>\n",
       "      <td>0</td>\n",
       "      <td>0</td>\n",
       "      <td>0</td>\n",
       "      <td>0</td>\n",
       "      <td>0</td>\n",
       "      <td>0</td>\n",
       "      <td>1</td>\n",
       "      <td>0</td>\n",
       "      <td>0</td>\n",
       "      <td>0</td>\n",
       "      <td>...</td>\n",
       "      <td>0</td>\n",
       "      <td>0</td>\n",
       "      <td>0</td>\n",
       "      <td>0</td>\n",
       "      <td>0</td>\n",
       "      <td>0</td>\n",
       "      <td>0</td>\n",
       "      <td>0</td>\n",
       "      <td>0</td>\n",
       "      <td>0</td>\n",
       "    </tr>\n",
       "    <tr>\n",
       "      <th>4</th>\n",
       "      <td>0</td>\n",
       "      <td>0</td>\n",
       "      <td>0</td>\n",
       "      <td>0</td>\n",
       "      <td>0</td>\n",
       "      <td>0</td>\n",
       "      <td>0</td>\n",
       "      <td>0</td>\n",
       "      <td>0</td>\n",
       "      <td>0</td>\n",
       "      <td>...</td>\n",
       "      <td>0</td>\n",
       "      <td>0</td>\n",
       "      <td>0</td>\n",
       "      <td>0</td>\n",
       "      <td>0</td>\n",
       "      <td>0</td>\n",
       "      <td>0</td>\n",
       "      <td>0</td>\n",
       "      <td>0</td>\n",
       "      <td>0</td>\n",
       "    </tr>\n",
       "    <tr>\n",
       "      <th>5</th>\n",
       "      <td>0</td>\n",
       "      <td>0</td>\n",
       "      <td>0</td>\n",
       "      <td>0</td>\n",
       "      <td>0</td>\n",
       "      <td>0</td>\n",
       "      <td>0</td>\n",
       "      <td>0</td>\n",
       "      <td>0</td>\n",
       "      <td>0</td>\n",
       "      <td>...</td>\n",
       "      <td>1</td>\n",
       "      <td>0</td>\n",
       "      <td>0</td>\n",
       "      <td>0</td>\n",
       "      <td>0</td>\n",
       "      <td>0</td>\n",
       "      <td>0</td>\n",
       "      <td>0</td>\n",
       "      <td>0</td>\n",
       "      <td>0</td>\n",
       "    </tr>\n",
       "    <tr>\n",
       "      <th>6</th>\n",
       "      <td>0</td>\n",
       "      <td>0</td>\n",
       "      <td>0</td>\n",
       "      <td>0</td>\n",
       "      <td>0</td>\n",
       "      <td>0</td>\n",
       "      <td>0</td>\n",
       "      <td>0</td>\n",
       "      <td>0</td>\n",
       "      <td>0</td>\n",
       "      <td>...</td>\n",
       "      <td>0</td>\n",
       "      <td>0</td>\n",
       "      <td>0</td>\n",
       "      <td>0</td>\n",
       "      <td>0</td>\n",
       "      <td>0</td>\n",
       "      <td>0</td>\n",
       "      <td>0</td>\n",
       "      <td>0</td>\n",
       "      <td>0</td>\n",
       "    </tr>\n",
       "    <tr>\n",
       "      <th>7</th>\n",
       "      <td>0</td>\n",
       "      <td>0</td>\n",
       "      <td>0</td>\n",
       "      <td>0</td>\n",
       "      <td>0</td>\n",
       "      <td>0</td>\n",
       "      <td>0</td>\n",
       "      <td>0</td>\n",
       "      <td>0</td>\n",
       "      <td>0</td>\n",
       "      <td>...</td>\n",
       "      <td>0</td>\n",
       "      <td>0</td>\n",
       "      <td>0</td>\n",
       "      <td>0</td>\n",
       "      <td>0</td>\n",
       "      <td>0</td>\n",
       "      <td>0</td>\n",
       "      <td>0</td>\n",
       "      <td>0</td>\n",
       "      <td>0</td>\n",
       "    </tr>\n",
       "    <tr>\n",
       "      <th>8</th>\n",
       "      <td>0</td>\n",
       "      <td>0</td>\n",
       "      <td>0</td>\n",
       "      <td>0</td>\n",
       "      <td>0</td>\n",
       "      <td>0</td>\n",
       "      <td>0</td>\n",
       "      <td>0</td>\n",
       "      <td>0</td>\n",
       "      <td>0</td>\n",
       "      <td>...</td>\n",
       "      <td>0</td>\n",
       "      <td>0</td>\n",
       "      <td>0</td>\n",
       "      <td>0</td>\n",
       "      <td>0</td>\n",
       "      <td>0</td>\n",
       "      <td>0</td>\n",
       "      <td>0</td>\n",
       "      <td>0</td>\n",
       "      <td>0</td>\n",
       "    </tr>\n",
       "    <tr>\n",
       "      <th>9</th>\n",
       "      <td>0</td>\n",
       "      <td>0</td>\n",
       "      <td>0</td>\n",
       "      <td>0</td>\n",
       "      <td>0</td>\n",
       "      <td>0</td>\n",
       "      <td>0</td>\n",
       "      <td>0</td>\n",
       "      <td>0</td>\n",
       "      <td>0</td>\n",
       "      <td>...</td>\n",
       "      <td>0</td>\n",
       "      <td>0</td>\n",
       "      <td>0</td>\n",
       "      <td>0</td>\n",
       "      <td>0</td>\n",
       "      <td>0</td>\n",
       "      <td>0</td>\n",
       "      <td>0</td>\n",
       "      <td>0</td>\n",
       "      <td>0</td>\n",
       "    </tr>\n",
       "  </tbody>\n",
       "</table>\n",
       "<p>10 rows × 105 columns</p>\n",
       "</div>"
      ],
      "text/plain": [
       "   100  12  2nwchyfknd  567synhihb  andy  appreciate  arrowheadpride  baby  \\\n",
       "0    0   0           0           0     0           0               0     0   \n",
       "1    0   0           0           0     0           0               0     0   \n",
       "2    0   0           0           0     0           0               0     0   \n",
       "3    0   0           0           0     0           0               1     0   \n",
       "4    0   0           0           0     0           0               0     0   \n",
       "5    0   0           0           0     0           0               0     0   \n",
       "6    0   0           0           0     0           0               0     0   \n",
       "7    0   0           0           0     0           0               0     0   \n",
       "8    0   0           0           0     0           0               0     0   \n",
       "9    0   0           0           0     0           0               0     0   \n",
       "\n",
       "   berry  briefly  ...   today  tomkctv5  ve  victory  vs  way  week  win  \\\n",
       "0      0        0  ...       0         0   0        0   0    0     0    0   \n",
       "1      0        0  ...       0         0   0        0   0    0     0    0   \n",
       "2      0        0  ...       1         0   0        0   0    0     1    0   \n",
       "3      0        0  ...       0         0   0        0   0    0     0    0   \n",
       "4      0        0  ...       0         0   0        0   0    0     0    0   \n",
       "5      0        0  ...       1         0   0        0   0    0     0    0   \n",
       "6      0        0  ...       0         0   0        0   0    0     0    0   \n",
       "7      0        0  ...       0         0   0        0   0    0     0    0   \n",
       "8      0        0  ...       0         0   0        0   0    0     0    0   \n",
       "9      0        0  ...       0         0   0        0   0    0     0    0   \n",
       "\n",
       "   won  year  \n",
       "0    0     0  \n",
       "1    0     0  \n",
       "2    0     0  \n",
       "3    0     0  \n",
       "4    0     0  \n",
       "5    0     0  \n",
       "6    0     0  \n",
       "7    0     0  \n",
       "8    0     0  \n",
       "9    0     0  \n",
       "\n",
       "[10 rows x 105 columns]"
      ]
     },
     "execution_count": 27,
     "metadata": {
      "tags": []
     },
     "output_type": "execute_result"
    }
   ],
   "source": [
    "#Print the sparse matrix as a data frame for an aestheticallly pleasing view of the feature space head#Print t \n",
    "pd.DataFrame(cv2_chiefs_text.toarray(), columns = cv2.get_feature_names()).head(10)"
   ]
  },
  {
   "cell_type": "markdown",
   "metadata": {
    "colab_type": "text",
    "id": "YcqNm3LLag_V"
   },
   "source": [
    "Most frequently occurring terms:"
   ]
  },
  {
   "cell_type": "code",
   "execution_count": 28,
   "metadata": {
    "colab": {
     "base_uri": "https://localhost:8080/",
     "height": 497
    },
    "colab_type": "code",
    "id": "nC5HsgFi7I3Z",
    "outputId": "b7a4aeaf-e678-4157-9878-130c3618fdca"
   },
   "outputs": [
    {
     "data": {
      "text/html": [
       "<div>\n",
       "<style scoped>\n",
       "    .dataframe tbody tr th:only-of-type {\n",
       "        vertical-align: middle;\n",
       "    }\n",
       "\n",
       "    .dataframe tbody tr th {\n",
       "        vertical-align: top;\n",
       "    }\n",
       "\n",
       "    .dataframe thead th {\n",
       "        text-align: right;\n",
       "    }\n",
       "</style>\n",
       "<table border=\"1\" class=\"dataframe\">\n",
       "  <thead>\n",
       "    <tr style=\"text-align: right;\">\n",
       "      <th></th>\n",
       "      <th>count</th>\n",
       "    </tr>\n",
       "  </thead>\n",
       "  <tbody>\n",
       "    <tr>\n",
       "      <th>chiefs</th>\n",
       "      <td>1275</td>\n",
       "    </tr>\n",
       "    <tr>\n",
       "      <th>mahomes</th>\n",
       "      <td>285</td>\n",
       "    </tr>\n",
       "    <tr>\n",
       "      <th>patrick</th>\n",
       "      <td>201</td>\n",
       "    </tr>\n",
       "    <tr>\n",
       "      <th>mitchschwartz72</th>\n",
       "      <td>140</td>\n",
       "    </tr>\n",
       "    <tr>\n",
       "      <th>game</th>\n",
       "      <td>129</td>\n",
       "    </tr>\n",
       "    <tr>\n",
       "      <th>looks</th>\n",
       "      <td>127</td>\n",
       "    </tr>\n",
       "    <tr>\n",
       "      <th>chiefskingdom</th>\n",
       "      <td>125</td>\n",
       "    </tr>\n",
       "    <tr>\n",
       "      <th>mattderrick</th>\n",
       "      <td>123</td>\n",
       "    </tr>\n",
       "    <tr>\n",
       "      <th>today</th>\n",
       "      <td>122</td>\n",
       "    </tr>\n",
       "    <tr>\n",
       "      <th>love</th>\n",
       "      <td>119</td>\n",
       "    </tr>\n",
       "    <tr>\n",
       "      <th>defense</th>\n",
       "      <td>118</td>\n",
       "    </tr>\n",
       "    <tr>\n",
       "      <th>tomkctv5</th>\n",
       "      <td>116</td>\n",
       "    </tr>\n",
       "    <tr>\n",
       "      <th>jaguars</th>\n",
       "      <td>109</td>\n",
       "    </tr>\n",
       "    <tr>\n",
       "      <th>thanks</th>\n",
       "      <td>106</td>\n",
       "    </tr>\n",
       "    <tr>\n",
       "      <th>practice</th>\n",
       "      <td>105</td>\n",
       "    </tr>\n",
       "  </tbody>\n",
       "</table>\n",
       "</div>"
      ],
      "text/plain": [
       "                 count\n",
       "chiefs            1275\n",
       "mahomes            285\n",
       "patrick            201\n",
       "mitchschwartz72    140\n",
       "game               129\n",
       "looks              127\n",
       "chiefskingdom      125\n",
       "mattderrick        123\n",
       "today              122\n",
       "love               119\n",
       "defense            118\n",
       "tomkctv5           116\n",
       "jaguars            109\n",
       "thanks             106\n",
       "practice           105"
      ]
     },
     "execution_count": 28,
     "metadata": {
      "tags": []
     },
     "output_type": "execute_result"
    }
   ],
   "source": [
    "names = cv2.get_feature_names()   #create list of feature names\n",
    "\n",
    "count = np.sum(cv2_chiefs_text.toarray(), axis = 0) # convert list to array to add up feature counts \n",
    "count2 = count.tolist()  # convert numpy array to list\n",
    "\n",
    "count_df = pd.DataFrame(count2, index = names, columns = ['count']) # create a dataframe from the list\n",
    "\n",
    "sorted_count = count_df.sort_values(['count'], ascending = False)\n",
    "sorted_count.head(15)"
   ]
  },
  {
   "cell_type": "markdown",
   "metadata": {
    "colab_type": "text",
    "id": "ZUTK2qBObHaG"
   },
   "source": [
    "#### Jaguars Feature Space"
   ]
  },
  {
   "cell_type": "code",
   "execution_count": 29,
   "metadata": {
    "colab": {
     "base_uri": "https://localhost:8080/",
     "height": 52
    },
    "colab_type": "code",
    "id": "thfCqLG7aj8N",
    "outputId": "afb77473-d316-4ff3-ff37-1e94ce38e0a9"
   },
   "outputs": [
    {
     "name": "stdout",
     "output_type": "stream",
     "text": [
      "Shape: (1500, 55)\n",
      "Type: <class 'scipy.sparse.csr.csr_matrix'>\n"
     ]
    }
   ],
   "source": [
    "#Apply the count vectorizer for the bag of words to the dataframe feature\n",
    "cv2_jaguars_text = cv2.fit_transform(jaguars_frame['TweetText'])\n",
    "#This is the feature space for TweetText\n",
    "print('Shape:', cv2_jaguars_text.shape)\n",
    "#This is the type of matrix that is returned for TweetText\n",
    "print('Type:', type(cv2_jaguars_text))"
   ]
  },
  {
   "cell_type": "code",
   "execution_count": 30,
   "metadata": {
    "colab": {
     "base_uri": "https://localhost:8080/",
     "height": 376
    },
    "colab_type": "code",
    "id": "HksvefEAbQzM",
    "outputId": "1b40e768-cd78-46d7-ab8b-55ef276b4763"
   },
   "outputs": [
    {
     "data": {
      "text/html": [
       "<div>\n",
       "<style scoped>\n",
       "    .dataframe tbody tr th:only-of-type {\n",
       "        vertical-align: middle;\n",
       "    }\n",
       "\n",
       "    .dataframe tbody tr th {\n",
       "        vertical-align: top;\n",
       "    }\n",
       "\n",
       "    .dataframe thead th {\n",
       "        text-align: right;\n",
       "    }\n",
       "</style>\n",
       "<table border=\"1\" class=\"dataframe\">\n",
       "  <thead>\n",
       "    <tr style=\"text-align: right;\">\n",
       "      <th></th>\n",
       "      <th>04</th>\n",
       "      <th>10</th>\n",
       "      <th>24</th>\n",
       "      <th>3z1bvxzrbj</th>\n",
       "      <th>4j7lqb7cww</th>\n",
       "      <th>arrowhead</th>\n",
       "      <th>black</th>\n",
       "      <th>bortles</th>\n",
       "      <th>career</th>\n",
       "      <th>catch</th>\n",
       "      <th>...</th>\n",
       "      <th>tops</th>\n",
       "      <th>victorymonday</th>\n",
       "      <th>vryoriwrbt</th>\n",
       "      <th>vs</th>\n",
       "      <th>wanna</th>\n",
       "      <th>week</th>\n",
       "      <th>white</th>\n",
       "      <th>win</th>\n",
       "      <th>work</th>\n",
       "      <th>yp2g7bj79n</th>\n",
       "    </tr>\n",
       "  </thead>\n",
       "  <tbody>\n",
       "    <tr>\n",
       "      <th>0</th>\n",
       "      <td>0</td>\n",
       "      <td>0</td>\n",
       "      <td>0</td>\n",
       "      <td>0</td>\n",
       "      <td>0</td>\n",
       "      <td>0</td>\n",
       "      <td>0</td>\n",
       "      <td>0</td>\n",
       "      <td>0</td>\n",
       "      <td>0</td>\n",
       "      <td>...</td>\n",
       "      <td>0</td>\n",
       "      <td>0</td>\n",
       "      <td>0</td>\n",
       "      <td>0</td>\n",
       "      <td>0</td>\n",
       "      <td>0</td>\n",
       "      <td>0</td>\n",
       "      <td>0</td>\n",
       "      <td>0</td>\n",
       "      <td>0</td>\n",
       "    </tr>\n",
       "    <tr>\n",
       "      <th>1</th>\n",
       "      <td>0</td>\n",
       "      <td>0</td>\n",
       "      <td>0</td>\n",
       "      <td>0</td>\n",
       "      <td>0</td>\n",
       "      <td>0</td>\n",
       "      <td>0</td>\n",
       "      <td>0</td>\n",
       "      <td>0</td>\n",
       "      <td>0</td>\n",
       "      <td>...</td>\n",
       "      <td>0</td>\n",
       "      <td>0</td>\n",
       "      <td>0</td>\n",
       "      <td>0</td>\n",
       "      <td>0</td>\n",
       "      <td>0</td>\n",
       "      <td>0</td>\n",
       "      <td>0</td>\n",
       "      <td>0</td>\n",
       "      <td>0</td>\n",
       "    </tr>\n",
       "    <tr>\n",
       "      <th>2</th>\n",
       "      <td>1</td>\n",
       "      <td>0</td>\n",
       "      <td>0</td>\n",
       "      <td>0</td>\n",
       "      <td>0</td>\n",
       "      <td>0</td>\n",
       "      <td>0</td>\n",
       "      <td>0</td>\n",
       "      <td>0</td>\n",
       "      <td>0</td>\n",
       "      <td>...</td>\n",
       "      <td>0</td>\n",
       "      <td>0</td>\n",
       "      <td>0</td>\n",
       "      <td>0</td>\n",
       "      <td>1</td>\n",
       "      <td>0</td>\n",
       "      <td>0</td>\n",
       "      <td>0</td>\n",
       "      <td>0</td>\n",
       "      <td>0</td>\n",
       "    </tr>\n",
       "    <tr>\n",
       "      <th>3</th>\n",
       "      <td>1</td>\n",
       "      <td>0</td>\n",
       "      <td>0</td>\n",
       "      <td>0</td>\n",
       "      <td>0</td>\n",
       "      <td>0</td>\n",
       "      <td>0</td>\n",
       "      <td>0</td>\n",
       "      <td>0</td>\n",
       "      <td>0</td>\n",
       "      <td>...</td>\n",
       "      <td>0</td>\n",
       "      <td>0</td>\n",
       "      <td>0</td>\n",
       "      <td>0</td>\n",
       "      <td>1</td>\n",
       "      <td>0</td>\n",
       "      <td>0</td>\n",
       "      <td>0</td>\n",
       "      <td>0</td>\n",
       "      <td>0</td>\n",
       "    </tr>\n",
       "    <tr>\n",
       "      <th>4</th>\n",
       "      <td>0</td>\n",
       "      <td>0</td>\n",
       "      <td>0</td>\n",
       "      <td>0</td>\n",
       "      <td>0</td>\n",
       "      <td>0</td>\n",
       "      <td>0</td>\n",
       "      <td>0</td>\n",
       "      <td>0</td>\n",
       "      <td>0</td>\n",
       "      <td>...</td>\n",
       "      <td>0</td>\n",
       "      <td>0</td>\n",
       "      <td>0</td>\n",
       "      <td>0</td>\n",
       "      <td>0</td>\n",
       "      <td>0</td>\n",
       "      <td>0</td>\n",
       "      <td>0</td>\n",
       "      <td>0</td>\n",
       "      <td>0</td>\n",
       "    </tr>\n",
       "    <tr>\n",
       "      <th>5</th>\n",
       "      <td>0</td>\n",
       "      <td>0</td>\n",
       "      <td>0</td>\n",
       "      <td>0</td>\n",
       "      <td>0</td>\n",
       "      <td>0</td>\n",
       "      <td>0</td>\n",
       "      <td>0</td>\n",
       "      <td>0</td>\n",
       "      <td>0</td>\n",
       "      <td>...</td>\n",
       "      <td>0</td>\n",
       "      <td>0</td>\n",
       "      <td>0</td>\n",
       "      <td>0</td>\n",
       "      <td>0</td>\n",
       "      <td>0</td>\n",
       "      <td>0</td>\n",
       "      <td>0</td>\n",
       "      <td>0</td>\n",
       "      <td>0</td>\n",
       "    </tr>\n",
       "    <tr>\n",
       "      <th>6</th>\n",
       "      <td>0</td>\n",
       "      <td>0</td>\n",
       "      <td>0</td>\n",
       "      <td>0</td>\n",
       "      <td>0</td>\n",
       "      <td>0</td>\n",
       "      <td>0</td>\n",
       "      <td>0</td>\n",
       "      <td>0</td>\n",
       "      <td>0</td>\n",
       "      <td>...</td>\n",
       "      <td>0</td>\n",
       "      <td>0</td>\n",
       "      <td>0</td>\n",
       "      <td>0</td>\n",
       "      <td>0</td>\n",
       "      <td>0</td>\n",
       "      <td>0</td>\n",
       "      <td>0</td>\n",
       "      <td>1</td>\n",
       "      <td>0</td>\n",
       "    </tr>\n",
       "    <tr>\n",
       "      <th>7</th>\n",
       "      <td>0</td>\n",
       "      <td>0</td>\n",
       "      <td>0</td>\n",
       "      <td>0</td>\n",
       "      <td>0</td>\n",
       "      <td>0</td>\n",
       "      <td>0</td>\n",
       "      <td>0</td>\n",
       "      <td>0</td>\n",
       "      <td>0</td>\n",
       "      <td>...</td>\n",
       "      <td>0</td>\n",
       "      <td>0</td>\n",
       "      <td>0</td>\n",
       "      <td>0</td>\n",
       "      <td>0</td>\n",
       "      <td>0</td>\n",
       "      <td>0</td>\n",
       "      <td>0</td>\n",
       "      <td>1</td>\n",
       "      <td>0</td>\n",
       "    </tr>\n",
       "    <tr>\n",
       "      <th>8</th>\n",
       "      <td>0</td>\n",
       "      <td>0</td>\n",
       "      <td>0</td>\n",
       "      <td>0</td>\n",
       "      <td>0</td>\n",
       "      <td>0</td>\n",
       "      <td>0</td>\n",
       "      <td>0</td>\n",
       "      <td>0</td>\n",
       "      <td>0</td>\n",
       "      <td>...</td>\n",
       "      <td>0</td>\n",
       "      <td>0</td>\n",
       "      <td>0</td>\n",
       "      <td>0</td>\n",
       "      <td>0</td>\n",
       "      <td>0</td>\n",
       "      <td>0</td>\n",
       "      <td>0</td>\n",
       "      <td>0</td>\n",
       "      <td>0</td>\n",
       "    </tr>\n",
       "    <tr>\n",
       "      <th>9</th>\n",
       "      <td>0</td>\n",
       "      <td>0</td>\n",
       "      <td>0</td>\n",
       "      <td>0</td>\n",
       "      <td>0</td>\n",
       "      <td>0</td>\n",
       "      <td>0</td>\n",
       "      <td>0</td>\n",
       "      <td>0</td>\n",
       "      <td>0</td>\n",
       "      <td>...</td>\n",
       "      <td>0</td>\n",
       "      <td>0</td>\n",
       "      <td>0</td>\n",
       "      <td>0</td>\n",
       "      <td>0</td>\n",
       "      <td>0</td>\n",
       "      <td>0</td>\n",
       "      <td>0</td>\n",
       "      <td>0</td>\n",
       "      <td>0</td>\n",
       "    </tr>\n",
       "  </tbody>\n",
       "</table>\n",
       "<p>10 rows × 55 columns</p>\n",
       "</div>"
      ],
      "text/plain": [
       "   04  10  24  3z1bvxzrbj  4j7lqb7cww  arrowhead  black  bortles  career  \\\n",
       "0   0   0   0           0           0          0      0        0       0   \n",
       "1   0   0   0           0           0          0      0        0       0   \n",
       "2   1   0   0           0           0          0      0        0       0   \n",
       "3   1   0   0           0           0          0      0        0       0   \n",
       "4   0   0   0           0           0          0      0        0       0   \n",
       "5   0   0   0           0           0          0      0        0       0   \n",
       "6   0   0   0           0           0          0      0        0       0   \n",
       "7   0   0   0           0           0          0      0        0       0   \n",
       "8   0   0   0           0           0          0      0        0       0   \n",
       "9   0   0   0           0           0          0      0        0       0   \n",
       "\n",
       "   catch     ...      tops  victorymonday  vryoriwrbt  vs  wanna  week  white  \\\n",
       "0      0     ...         0              0           0   0      0     0      0   \n",
       "1      0     ...         0              0           0   0      0     0      0   \n",
       "2      0     ...         0              0           0   0      1     0      0   \n",
       "3      0     ...         0              0           0   0      1     0      0   \n",
       "4      0     ...         0              0           0   0      0     0      0   \n",
       "5      0     ...         0              0           0   0      0     0      0   \n",
       "6      0     ...         0              0           0   0      0     0      0   \n",
       "7      0     ...         0              0           0   0      0     0      0   \n",
       "8      0     ...         0              0           0   0      0     0      0   \n",
       "9      0     ...         0              0           0   0      0     0      0   \n",
       "\n",
       "   win  work  yp2g7bj79n  \n",
       "0    0     0           0  \n",
       "1    0     0           0  \n",
       "2    0     0           0  \n",
       "3    0     0           0  \n",
       "4    0     0           0  \n",
       "5    0     0           0  \n",
       "6    0     1           0  \n",
       "7    0     1           0  \n",
       "8    0     0           0  \n",
       "9    0     0           0  \n",
       "\n",
       "[10 rows x 55 columns]"
      ]
     },
     "execution_count": 30,
     "metadata": {
      "tags": []
     },
     "output_type": "execute_result"
    }
   ],
   "source": [
    "#Print the sparse matrix as a data frame for an aestheticallly pleasing view of the feature space head#Print t \n",
    "pd.DataFrame(cv2_jaguars_text.toarray(), columns = cv2.get_feature_names()).head(10)"
   ]
  },
  {
   "cell_type": "markdown",
   "metadata": {
    "colab_type": "text",
    "id": "jHYFiCJgbXHl"
   },
   "source": [
    "Most frequently occurring terms:"
   ]
  },
  {
   "cell_type": "code",
   "execution_count": 31,
   "metadata": {
    "colab": {
     "base_uri": "https://localhost:8080/",
     "height": 497
    },
    "colab_type": "code",
    "id": "WppFGEDkbZra",
    "outputId": "6ddbc856-6bf4-4ba5-a598-d7288b2f7867"
   },
   "outputs": [
    {
     "data": {
      "text/html": [
       "<div>\n",
       "<style scoped>\n",
       "    .dataframe tbody tr th:only-of-type {\n",
       "        vertical-align: middle;\n",
       "    }\n",
       "\n",
       "    .dataframe tbody tr th {\n",
       "        vertical-align: top;\n",
       "    }\n",
       "\n",
       "    .dataframe thead th {\n",
       "        text-align: right;\n",
       "    }\n",
       "</style>\n",
       "<table border=\"1\" class=\"dataframe\">\n",
       "  <thead>\n",
       "    <tr style=\"text-align: right;\">\n",
       "      <th></th>\n",
       "      <th>count</th>\n",
       "    </tr>\n",
       "  </thead>\n",
       "  <tbody>\n",
       "    <tr>\n",
       "      <th>duuuval</th>\n",
       "      <td>1382</td>\n",
       "    </tr>\n",
       "    <tr>\n",
       "      <th>jaguars</th>\n",
       "      <td>1244</td>\n",
       "    </tr>\n",
       "    <tr>\n",
       "      <th>game</th>\n",
       "      <td>359</td>\n",
       "    </tr>\n",
       "    <tr>\n",
       "      <th>day</th>\n",
       "      <td>279</td>\n",
       "    </tr>\n",
       "    <tr>\n",
       "      <th>run</th>\n",
       "      <td>215</td>\n",
       "    </tr>\n",
       "    <tr>\n",
       "      <th>ny</th>\n",
       "      <td>193</td>\n",
       "    </tr>\n",
       "    <tr>\n",
       "      <th>3z1bvxzrbj</th>\n",
       "      <td>189</td>\n",
       "    </tr>\n",
       "    <tr>\n",
       "      <th>arrowhead</th>\n",
       "      <td>138</td>\n",
       "    </tr>\n",
       "    <tr>\n",
       "      <th>black</th>\n",
       "      <td>134</td>\n",
       "    </tr>\n",
       "    <tr>\n",
       "      <th>headed</th>\n",
       "      <td>132</td>\n",
       "    </tr>\n",
       "    <tr>\n",
       "      <th>pants</th>\n",
       "      <td>131</td>\n",
       "    </tr>\n",
       "    <tr>\n",
       "      <th>tops</th>\n",
       "      <td>131</td>\n",
       "    </tr>\n",
       "    <tr>\n",
       "      <th>db2tjcd1ih</th>\n",
       "      <td>131</td>\n",
       "    </tr>\n",
       "    <tr>\n",
       "      <th>white</th>\n",
       "      <td>131</td>\n",
       "    </tr>\n",
       "    <tr>\n",
       "      <th>victorymonday</th>\n",
       "      <td>120</td>\n",
       "    </tr>\n",
       "  </tbody>\n",
       "</table>\n",
       "</div>"
      ],
      "text/plain": [
       "               count\n",
       "duuuval         1382\n",
       "jaguars         1244\n",
       "game             359\n",
       "day              279\n",
       "run              215\n",
       "ny               193\n",
       "3z1bvxzrbj       189\n",
       "arrowhead        138\n",
       "black            134\n",
       "headed           132\n",
       "pants            131\n",
       "tops             131\n",
       "db2tjcd1ih       131\n",
       "white            131\n",
       "victorymonday    120"
      ]
     },
     "execution_count": 31,
     "metadata": {
      "tags": []
     },
     "output_type": "execute_result"
    }
   ],
   "source": [
    "names = cv2.get_feature_names()   #create list of feature names\n",
    "\n",
    "count = np.sum(cv2_jaguars_text.toarray(), axis = 0) # convert list to array to add up feature counts \n",
    "count2 = count.tolist()  # convert numpy array to list\n",
    "\n",
    "count_df = pd.DataFrame(count2, index = names, columns = ['count']) # create a dataframe from the list\n",
    "\n",
    "sorted_count = count_df.sort_values(['count'], ascending = False)\n",
    "sorted_count.head(15)"
   ]
  },
  {
   "cell_type": "markdown",
   "metadata": {
    "colab_type": "text",
    "id": "K9lhG8zU7PIR"
   },
   "source": [
    "---"
   ]
  },
  {
   "cell_type": "markdown",
   "metadata": {
    "colab_type": "text",
    "id": "cBsoiTHM7QnV"
   },
   "source": [
    "## Sentiment Analysis\n",
    "\n",
    "Sentiment analysis will be performed to gain insight into the the tone of Tweets regarding Kavanaugh. The results will be used to generate a target variable for predictive modeling."
   ]
  },
  {
   "cell_type": "markdown",
   "metadata": {
    "colab_type": "text",
    "id": "Yb4gFE8Jihfs"
   },
   "source": [
    "### Sentiment Analysis Summary\n",
    "\n",
    "AFINN Dictionary\n",
    "*   Rendered all tweets as being neutral in sentiment\n",
    "\n",
    "HL Dictionary\n",
    "*   "
   ]
  },
  {
   "cell_type": "markdown",
   "metadata": {
    "colab_type": "text",
    "id": "dW7C-_RmSLXl"
   },
   "source": [
    "### AFINN Dictionary"
   ]
  },
  {
   "cell_type": "markdown",
   "metadata": {
    "colab_type": "text",
    "id": "pQfQJ2oceqiE"
   },
   "source": [
    "#### Define AFINN classes"
   ]
  },
  {
   "cell_type": "markdown",
   "metadata": {
    "colab_type": "text",
    "id": "IJQiaa2Sg5hE"
   },
   "source": [
    "This part is to allow google collaboratory to upload locally saved files into the drive"
   ]
  },
  {
   "cell_type": "code",
   "execution_count": 36,
   "metadata": {
    "colab": {
     "base_uri": "https://localhost:8080/",
     "height": 142,
     "resources": {
      "http://localhost:8080/nbextensions/google.colab/files.js": {
       "data": "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",
       "headers": [
        [
         "content-type",
         "application/javascript"
        ]
       ],
       "ok": true,
       "status": 200,
       "status_text": ""
      }
     }
    },
    "colab_type": "code",
    "id": "6q23tRu27Spe",
    "outputId": "cf5508a8-d76c-48ea-ec62-a8f944b0587b"
   },
   "outputs": [
    {
     "data": {
      "text/html": [
       "\n",
       "     <input type=\"file\" id=\"files-07f2e226-5062-4b72-af97-e00330b8bd77\" name=\"files[]\" multiple disabled />\n",
       "     <output id=\"result-07f2e226-5062-4b72-af97-e00330b8bd77\">\n",
       "      Upload widget is only available when the cell has been executed in the\n",
       "      current browser session. Please rerun this cell to enable.\n",
       "      </output>\n",
       "      <script src=\"/nbextensions/google.colab/files.js\"></script> "
      ],
      "text/plain": [
       "<IPython.core.display.HTML object>"
      ]
     },
     "metadata": {
      "tags": []
     },
     "output_type": "display_data"
    },
    {
     "name": "stdout",
     "output_type": "stream",
     "text": [
      "Saving AFINN-111.txt to AFINN-111 (1).txt\n",
      "Saving HLneg.txt to HLneg.txt\n",
      "Saving HLpos.txt to HLpos.txt\n"
     ]
    }
   ],
   "source": [
    "#Use google.colab to import dictionaries\n",
    "from google.colab import files\n",
    "\n",
    "#Choose file(s) to upload\n",
    "uploaded = files.upload()"
   ]
  },
  {
   "cell_type": "code",
   "execution_count": 37,
   "metadata": {
    "colab": {
     "base_uri": "https://localhost:8080/",
     "height": 70
    },
    "colab_type": "code",
    "id": "xwNBdXpl7cqJ",
    "outputId": "cb73dc46-c22d-40d0-b1f9-9e7edd739077"
   },
   "outputs": [
    {
     "name": "stdout",
     "output_type": "stream",
     "text": [
      "User uploaded file \"AFINN-111.txt\" with length 28093 bytes\n",
      "User uploaded file \"HLneg.txt\" with length 44758 bytes\n",
      "User uploaded file \"HLpos.txt\" with length 19093 bytes\n"
     ]
    }
   ],
   "source": [
    "#Run foreloop to execute the file upload\n",
    "for fn in uploaded.keys():\n",
    "  print('User uploaded file \"{name}\" with length {length} bytes'.format(\n",
    "      name=fn, length=len(uploaded[fn])))"
   ]
  },
  {
   "cell_type": "code",
   "execution_count": 38,
   "metadata": {
    "colab": {
     "base_uri": "https://localhost:8080/",
     "height": 407
    },
    "colab_type": "code",
    "id": "CqvR9r_sBX5J",
    "outputId": "be74fb94-1c69-4738-b729-b38336636b52"
   },
   "outputs": [
    {
     "name": "stdout",
     "output_type": "stream",
     "text": [
      "<class 'dict'> 2477\n",
      "abandon => -2\n",
      "abandoned => -2\n",
      "abandons => -2\n",
      "abducted => -2\n",
      "abduction => -2\n",
      "abductions => -2\n",
      "abhor => -3\n",
      "abhorred => -3\n",
      "abhorrent => -3\n",
      "abhors => -3\n",
      "~~~~~~~~~~~~\n",
      "yeah => 1\n",
      "yearning => 1\n",
      "yeees => 2\n",
      "yes => 1\n",
      "youthful => 2\n",
      "yucky => -2\n",
      "yummy => 3\n",
      "zealot => -2\n",
      "zealots => -2\n",
      "zealous => 2\n"
     ]
    }
   ],
   "source": [
    "# Sentiment dictionary that assigns scores to words signifying their sentiment polarity or neutrality\n",
    "\n",
    "afinn = {}\n",
    "for line in open(\"AFINN-111.txt\"):\n",
    "    tt = line.split('\\t')\n",
    "    afinn.update({tt[0]:int(tt[1])})\n",
    "\n",
    "\n",
    "print(type(afinn), len(afinn))\n",
    "\n",
    "for key, value in sorted(afinn.items())[0:10]:\n",
    "    print(key + \" => \" + str(value))\n",
    "print(\"~~~~~~~~~~~~\")\n",
    "for key, value in sorted(afinn.items())[2467:]:\n",
    "    print(key + \" => \" + str(value))"
   ]
  },
  {
   "cell_type": "code",
   "execution_count": 0,
   "metadata": {
    "colab": {},
    "colab_type": "code",
    "id": "e8CbJN3rBeB_"
   },
   "outputs": [],
   "source": [
    "# here we are going for strictly the sum:  add up the positives and \"subtract\" the negatives\n",
    "# you can return a number or a label\n",
    "\n",
    "def afinn_sent(inputstring):\n",
    "    \n",
    "    sentcount =0\n",
    "    for word in inputstring.split():  \n",
    "        if word.rstrip('?:!.,;') in afinn:\n",
    "            sentcount = sentcount + afinn[word.rstrip('?:!.,;')]\n",
    "            \n",
    "    \n",
    "    if (sentcount < 0):\n",
    "        sentiment = 'Negative'\n",
    "    elif (sentcount >0):\n",
    "        sentiment = 'Positive'\n",
    "    else:\n",
    "        sentiment = 'Neutral'\n",
    "    \n",
    "    return sentiment\n",
    "    #return sentcount"
   ]
  },
  {
   "cell_type": "markdown",
   "metadata": {
    "colab_type": "text",
    "id": "a9mzqLcfez5S"
   },
   "source": [
    "#### Chiefs AFINN Sentiment"
   ]
  },
  {
   "cell_type": "code",
   "execution_count": 40,
   "metadata": {
    "colab": {
     "base_uri": "https://localhost:8080/",
     "height": 34
    },
    "colab_type": "code",
    "id": "ktQ3W9oKxT8g",
    "outputId": "492bd8d0-79f2-4524-f706-fd5281fd5487"
   },
   "outputs": [
    {
     "name": "stdout",
     "output_type": "stream",
     "text": [
      "<class 'pandas.core.series.Series'>\n"
     ]
    }
   ],
   "source": [
    "chiefs_frame['afinn'] = chiefs_frame[\"TweetText\"].apply(lambda x: afinn_sent(x))\n",
    "print(type(chiefs_frame['TweetText']))"
   ]
  },
  {
   "cell_type": "code",
   "execution_count": 41,
   "metadata": {
    "colab": {
     "base_uri": "https://localhost:8080/",
     "height": 347
    },
    "colab_type": "code",
    "id": "8dVDhP6LxXBz",
    "outputId": "5286fa9d-8008-4c9f-e57a-b85d0f2edef2"
   },
   "outputs": [
    {
     "data": {
      "text/html": [
       "<div>\n",
       "<style scoped>\n",
       "    .dataframe tbody tr th:only-of-type {\n",
       "        vertical-align: middle;\n",
       "    }\n",
       "\n",
       "    .dataframe tbody tr th {\n",
       "        vertical-align: top;\n",
       "    }\n",
       "\n",
       "    .dataframe thead th {\n",
       "        text-align: right;\n",
       "    }\n",
       "</style>\n",
       "<table border=\"1\" class=\"dataframe\">\n",
       "  <thead>\n",
       "    <tr style=\"text-align: right;\">\n",
       "      <th></th>\n",
       "      <th>TweetText</th>\n",
       "      <th>afinn</th>\n",
       "    </tr>\n",
       "  </thead>\n",
       "  <tbody>\n",
       "    <tr>\n",
       "      <th>0</th>\n",
       "      <td>SHOWTIME GONNA BRING THE MOTHERFUCKING PAIN! and I’m gonna make some chicken wings. #chiefs #ChiefsKingdom https://t.co/nVtNVd455w</td>\n",
       "      <td>Neutral</td>\n",
       "    </tr>\n",
       "    <tr>\n",
       "      <th>1</th>\n",
       "      <td>GAME DAY || Biggest game of the season, the MVP looks ready to take it on. •••https://t.co/i277X1XX0y•••\\n•\\n••\\n•••… https://t.co/LsbBQ35n8A</td>\n",
       "      <td>Neutral</td>\n",
       "    </tr>\n",
       "    <tr>\n",
       "      <th>2</th>\n",
       "      <td>@jalenramsey had a few things to say this week...\\n\\nFortunately, cheetah gets to have the final word, today.… https://t.co/K45gmnteMg</td>\n",
       "      <td>Neutral</td>\n",
       "    </tr>\n",
       "    <tr>\n",
       "      <th>3</th>\n",
       "      <td>@ArrowheadPride Who are the #Chiefs wanting to trade for to upgrade the safety position ?</td>\n",
       "      <td>Positive</td>\n",
       "    </tr>\n",
       "    <tr>\n",
       "      <th>4</th>\n",
       "      <td>Game will be on &amp;amp; no poncho needed!! $4 any draft, $8.99 any slice with any pint.....!! #papakenoscrossroads… https://t.co/6Ef7TeuWLN</td>\n",
       "      <td>Negative</td>\n",
       "    </tr>\n",
       "    <tr>\n",
       "      <th>5</th>\n",
       "      <td>Lots of #rain here in #KansasCity for the #CHIEFS - #Jaguars today...1.97\" last 24 hrs. ... view off my deck.... https://t.co/bE0EDblNfO</td>\n",
       "      <td>Neutral</td>\n",
       "    </tr>\n",
       "    <tr>\n",
       "      <th>6</th>\n",
       "      <td>RT @Gezee80: This rain ain’t stopping the faithful. Let’s get this W!! #ChiefsKingdom #Chiefs https://t.co/N4XBAEZPp4</td>\n",
       "      <td>Positive</td>\n",
       "    </tr>\n",
       "    <tr>\n",
       "      <th>7</th>\n",
       "      <td>Listening to @SportsRadio810 for #Chiefs pregame! No other sports station comes close! Go CCHHIIEEFFSS!! #810SportsRadio</td>\n",
       "      <td>Neutral</td>\n",
       "    </tr>\n",
       "    <tr>\n",
       "      <th>8</th>\n",
       "      <td>Rainy day here! Good day to watch #Chiefs🏈 #Brewers ⚾️ #Dodgers ⚾️ and #Cowboys🏈 #HR4HR</td>\n",
       "      <td>Neutral</td>\n",
       "    </tr>\n",
       "    <tr>\n",
       "      <th>9</th>\n",
       "      <td>How many loans could Mahomes own on homes, if owned homes could be loaned by Mahomes? #Chiefs</td>\n",
       "      <td>Neutral</td>\n",
       "    </tr>\n",
       "  </tbody>\n",
       "</table>\n",
       "</div>"
      ],
      "text/plain": [
       "                                                                                                                                       TweetText  \\\n",
       "0             SHOWTIME GONNA BRING THE MOTHERFUCKING PAIN! and I’m gonna make some chicken wings. #chiefs #ChiefsKingdom https://t.co/nVtNVd455w   \n",
       "1  GAME DAY || Biggest game of the season, the MVP looks ready to take it on. •••https://t.co/i277X1XX0y•••\\n•\\n••\\n•••… https://t.co/LsbBQ35n8A   \n",
       "2         @jalenramsey had a few things to say this week...\\n\\nFortunately, cheetah gets to have the final word, today.… https://t.co/K45gmnteMg   \n",
       "3                                                      @ArrowheadPride Who are the #Chiefs wanting to trade for to upgrade the safety position ?   \n",
       "4      Game will be on &amp; no poncho needed!! $4 any draft, $8.99 any slice with any pint.....!! #papakenoscrossroads… https://t.co/6Ef7TeuWLN   \n",
       "5       Lots of #rain here in #KansasCity for the #CHIEFS - #Jaguars today...1.97\" last 24 hrs. ... view off my deck.... https://t.co/bE0EDblNfO   \n",
       "6                          RT @Gezee80: This rain ain’t stopping the faithful. Let’s get this W!! #ChiefsKingdom #Chiefs https://t.co/N4XBAEZPp4   \n",
       "7                       Listening to @SportsRadio810 for #Chiefs pregame! No other sports station comes close! Go CCHHIIEEFFSS!! #810SportsRadio   \n",
       "8                                                        Rainy day here! Good day to watch #Chiefs🏈 #Brewers ⚾️ #Dodgers ⚾️ and #Cowboys🏈 #HR4HR   \n",
       "9                                                  How many loans could Mahomes own on homes, if owned homes could be loaned by Mahomes? #Chiefs   \n",
       "\n",
       "      afinn  \n",
       "0   Neutral  \n",
       "1   Neutral  \n",
       "2   Neutral  \n",
       "3  Positive  \n",
       "4  Negative  \n",
       "5   Neutral  \n",
       "6  Positive  \n",
       "7   Neutral  \n",
       "8   Neutral  \n",
       "9   Neutral  "
      ]
     },
     "execution_count": 41,
     "metadata": {
      "tags": []
     },
     "output_type": "execute_result"
    }
   ],
   "source": [
    "chiefs_frame.iloc[0:10][['TweetText','afinn']]"
   ]
  },
  {
   "cell_type": "code",
   "execution_count": 42,
   "metadata": {
    "colab": {
     "base_uri": "https://localhost:8080/",
     "height": 347
    },
    "colab_type": "code",
    "id": "ZofZiUPqxZpI",
    "outputId": "afb37346-ba0b-4902-b8b1-ad8386443d7a"
   },
   "outputs": [
    {
     "data": {
      "text/html": [
       "<div>\n",
       "<style scoped>\n",
       "    .dataframe tbody tr th:only-of-type {\n",
       "        vertical-align: middle;\n",
       "    }\n",
       "\n",
       "    .dataframe tbody tr th {\n",
       "        vertical-align: top;\n",
       "    }\n",
       "\n",
       "    .dataframe thead th {\n",
       "        text-align: right;\n",
       "    }\n",
       "</style>\n",
       "<table border=\"1\" class=\"dataframe\">\n",
       "  <thead>\n",
       "    <tr style=\"text-align: right;\">\n",
       "      <th></th>\n",
       "      <th>TweetText</th>\n",
       "      <th>afinn</th>\n",
       "    </tr>\n",
       "  </thead>\n",
       "  <tbody>\n",
       "    <tr>\n",
       "      <th>1490</th>\n",
       "      <td>RT @Grand_Larsony: So this is what it feels like to have a franchise qb? #bonertown #chiefs</td>\n",
       "      <td>Positive</td>\n",
       "    </tr>\n",
       "    <tr>\n",
       "      <th>1491</th>\n",
       "      <td>RT @JeremySickel: Find somebody that looks at you the way Kareem Hunt looks at Patrick Mahomes. #Chiefs https://t.co/567syNHIhb</td>\n",
       "      <td>Neutral</td>\n",
       "    </tr>\n",
       "    <tr>\n",
       "      <th>1492</th>\n",
       "      <td>@John_Caddell #Chiefs</td>\n",
       "      <td>Neutral</td>\n",
       "    </tr>\n",
       "    <tr>\n",
       "      <th>1493</th>\n",
       "      <td>These guys\\n#Chiefs #ChiefsKingdom https://t.co/5VJgeQo7t5</td>\n",
       "      <td>Neutral</td>\n",
       "    </tr>\n",
       "    <tr>\n",
       "      <th>1494</th>\n",
       "      <td>RT @ClayWendler: Bye Denver. #Chiefs https://t.co/qe1mZK01Cm</td>\n",
       "      <td>Neutral</td>\n",
       "    </tr>\n",
       "    <tr>\n",
       "      <th>1495</th>\n",
       "      <td>RT @JeremySickel: Find somebody that looks at you the way Kareem Hunt looks at Patrick Mahomes. #Chiefs https://t.co/567syNHIhb</td>\n",
       "      <td>Neutral</td>\n",
       "    </tr>\n",
       "    <tr>\n",
       "      <th>1496</th>\n",
       "      <td>That left hand tho.... 😮❤️💛😁 stressful, but what a win! #KCvsDEN #ChiefsKingdom #Chiefs #Mahomes https://t.co/2bgQLJ1X0M</td>\n",
       "      <td>Positive</td>\n",
       "    </tr>\n",
       "    <tr>\n",
       "      <th>1497</th>\n",
       "      <td>RT @canuck4: Mahomes just threw that left handed!!!!  #Chiefs #ChiefsKingdom</td>\n",
       "      <td>Neutral</td>\n",
       "    </tr>\n",
       "    <tr>\n",
       "      <th>1498</th>\n",
       "      <td>Is this how you all feel with TB12 every week? We deserve it. Mahomes has ice in his veins. #Chiefs https://t.co/8gEKOlyRfm</td>\n",
       "      <td>Neutral</td>\n",
       "    </tr>\n",
       "    <tr>\n",
       "      <th>1499</th>\n",
       "      <td>A live look at @Broncos  fans thinking about @PatrickMahomes5 @Chiefs .... #ChiefsKingdom #KansasCity #Chiefs 🏈🏈🏈🏈🏈… https://t.co/FeD2OjWmE6</td>\n",
       "      <td>Neutral</td>\n",
       "    </tr>\n",
       "  </tbody>\n",
       "</table>\n",
       "</div>"
      ],
      "text/plain": [
       "                                                                                                                                         TweetText  \\\n",
       "1490                                                   RT @Grand_Larsony: So this is what it feels like to have a franchise qb? #bonertown #chiefs   \n",
       "1491               RT @JeremySickel: Find somebody that looks at you the way Kareem Hunt looks at Patrick Mahomes. #Chiefs https://t.co/567syNHIhb   \n",
       "1492                                                                                                                         @John_Caddell #Chiefs   \n",
       "1493                                                                                    These guys\\n#Chiefs #ChiefsKingdom https://t.co/5VJgeQo7t5   \n",
       "1494                                                                                  RT @ClayWendler: Bye Denver. #Chiefs https://t.co/qe1mZK01Cm   \n",
       "1495               RT @JeremySickel: Find somebody that looks at you the way Kareem Hunt looks at Patrick Mahomes. #Chiefs https://t.co/567syNHIhb   \n",
       "1496                      That left hand tho.... 😮❤️💛😁 stressful, but what a win! #KCvsDEN #ChiefsKingdom #Chiefs #Mahomes https://t.co/2bgQLJ1X0M   \n",
       "1497                                                                  RT @canuck4: Mahomes just threw that left handed!!!!  #Chiefs #ChiefsKingdom   \n",
       "1498                   Is this how you all feel with TB12 every week? We deserve it. Mahomes has ice in his veins. #Chiefs https://t.co/8gEKOlyRfm   \n",
       "1499  A live look at @Broncos  fans thinking about @PatrickMahomes5 @Chiefs .... #ChiefsKingdom #KansasCity #Chiefs 🏈🏈🏈🏈🏈… https://t.co/FeD2OjWmE6   \n",
       "\n",
       "         afinn  \n",
       "1490  Positive  \n",
       "1491   Neutral  \n",
       "1492   Neutral  \n",
       "1493   Neutral  \n",
       "1494   Neutral  \n",
       "1495   Neutral  \n",
       "1496  Positive  \n",
       "1497   Neutral  \n",
       "1498   Neutral  \n",
       "1499   Neutral  "
      ]
     },
     "execution_count": 42,
     "metadata": {
      "tags": []
     },
     "output_type": "execute_result"
    }
   ],
   "source": [
    "chiefs_frame.iloc[1490:1501][['TweetText','afinn']]"
   ]
  },
  {
   "cell_type": "code",
   "execution_count": 43,
   "metadata": {
    "colab": {
     "base_uri": "https://localhost:8080/",
     "height": 312
    },
    "colab_type": "code",
    "id": "8NFJRXl-xeGJ",
    "outputId": "cfa75c6b-9aa6-403f-ec27-8ed94824d0ea"
   },
   "outputs": [
    {
     "data": {
      "text/plain": [
       "<matplotlib.axes._subplots.AxesSubplot at 0x7fa321ee4978>"
      ]
     },
     "execution_count": 43,
     "metadata": {
      "tags": []
     },
     "output_type": "execute_result"
    },
    {
     "data": {
      "image/png": "[encoded data removed]",
      "text/plain": [
       "<matplotlib.figure.Figure at 0x7fa321f122e8>"
      ]
     },
     "metadata": {
      "tags": []
     },
     "output_type": "display_data"
    }
   ],
   "source": [
    "# What does the sentiment distribution look like?\n",
    "%matplotlib inline\n",
    "import matplotlib as mpl\n",
    "import matplotlib.pyplot as plt\n",
    "\n",
    "# get a feel for the distribution\n",
    "chiefs_frame['afinn'].value_counts().plot(kind='bar')"
   ]
  },
  {
   "cell_type": "markdown",
   "metadata": {
    "colab_type": "text",
    "id": "qzCUD4XNfBoT"
   },
   "source": [
    "#### Jaguars AFINN Sentiment"
   ]
  },
  {
   "cell_type": "code",
   "execution_count": 45,
   "metadata": {
    "colab": {
     "base_uri": "https://localhost:8080/",
     "height": 34
    },
    "colab_type": "code",
    "id": "L7rXYMEBfJ1n",
    "outputId": "84ed07da-429e-4ae4-a870-2a1311daa855"
   },
   "outputs": [
    {
     "name": "stdout",
     "output_type": "stream",
     "text": [
      "<class 'pandas.core.series.Series'>\n"
     ]
    }
   ],
   "source": [
    "jaguars_frame['afinn'] = jaguars_frame[\"TweetText\"].apply(lambda x: afinn_sent(x))\n",
    "print(type(jaguars_frame['TweetText']))"
   ]
  },
  {
   "cell_type": "code",
   "execution_count": 46,
   "metadata": {
    "colab": {
     "base_uri": "https://localhost:8080/",
     "height": 347
    },
    "colab_type": "code",
    "id": "hdD9fCZgfMfe",
    "outputId": "68842f25-2d93-4389-ac3b-544bdf8b23eb"
   },
   "outputs": [
    {
     "data": {
      "text/html": [
       "<div>\n",
       "<style scoped>\n",
       "    .dataframe tbody tr th:only-of-type {\n",
       "        vertical-align: middle;\n",
       "    }\n",
       "\n",
       "    .dataframe tbody tr th {\n",
       "        vertical-align: top;\n",
       "    }\n",
       "\n",
       "    .dataframe thead th {\n",
       "        text-align: right;\n",
       "    }\n",
       "</style>\n",
       "<table border=\"1\" class=\"dataframe\">\n",
       "  <thead>\n",
       "    <tr style=\"text-align: right;\">\n",
       "      <th></th>\n",
       "      <th>TweetText</th>\n",
       "      <th>afinn</th>\n",
       "    </tr>\n",
       "  </thead>\n",
       "  <tbody>\n",
       "    <tr>\n",
       "      <th>0</th>\n",
       "      <td>RT @FPC_Jaguars: Today is the day. Less than 2 hours until game time, get pumped! #JAXvsKC #DUUUVAL #ChiefsKingdom\\n\\nhttps://t.co/z0M3eA5z7n</td>\n",
       "      <td>Neutral</td>\n",
       "    </tr>\n",
       "    <tr>\n",
       "      <th>1</th>\n",
       "      <td>Patty Cajones gonna learn today @michaelirvin88 less than 300 yards, less than 5 TDs and 1+ INT is my bold predicti… https://t.co/tsPU2fLHXi</td>\n",
       "      <td>Positive</td>\n",
       "    </tr>\n",
       "    <tr>\n",
       "      <th>2</th>\n",
       "      <td>RT @Jaguars: It's 9:04 on game day!\\n\\nWe wanna hear you #DUUUVAL!!!!! https://t.co/P16PdB53yy</td>\n",
       "      <td>Neutral</td>\n",
       "    </tr>\n",
       "    <tr>\n",
       "      <th>3</th>\n",
       "      <td>RT @Jaguars: It's 9:04 on game day!\\n\\nWe wanna hear you #DUUUVAL!!!!! https://t.co/P16PdB53yy</td>\n",
       "      <td>Neutral</td>\n",
       "    </tr>\n",
       "    <tr>\n",
       "      <th>4</th>\n",
       "      <td>RT @ActionNewsJax: #JAXvsKC Sunday Football!! \\n\\n🏈Countdown to Kickoff: 11:30 a.m. on CBS47 \\n\\n🏈 Kickoff: 1 p.m. on CBS47 \\n\\n🏈 LIVE UPDATES: h…</td>\n",
       "      <td>Neutral</td>\n",
       "    </tr>\n",
       "    <tr>\n",
       "      <th>5</th>\n",
       "      <td>Today is the day. Less than 2 hours until game time, get pumped! #JAXvsKC #DUUUVAL #ChiefsKingdom\\n\\nhttps://t.co/z0M3eA5z7n</td>\n",
       "      <td>Neutral</td>\n",
       "    </tr>\n",
       "    <tr>\n",
       "      <th>6</th>\n",
       "      <td>RT @Jaguars: Ready to go to work.\\n\\n#DUUUVAL https://t.co/ilMaq0vLIM</td>\n",
       "      <td>Neutral</td>\n",
       "    </tr>\n",
       "    <tr>\n",
       "      <th>7</th>\n",
       "      <td>RT @Jaguars: Ready to go to work.\\n\\n#DUUUVAL https://t.co/ilMaq0vLIM</td>\n",
       "      <td>Neutral</td>\n",
       "    </tr>\n",
       "    <tr>\n",
       "      <th>8</th>\n",
       "      <td>My prediction for today’s game: it’s a story as old as time. Offense wins games, defense wins championships. Marron… https://t.co/CkHAvLorBy</td>\n",
       "      <td>Positive</td>\n",
       "    </tr>\n",
       "    <tr>\n",
       "      <th>9</th>\n",
       "      <td>#DUUUVAL https://t.co/zyguC2PTR7</td>\n",
       "      <td>Neutral</td>\n",
       "    </tr>\n",
       "  </tbody>\n",
       "</table>\n",
       "</div>"
      ],
      "text/plain": [
       "                                                                                                                                            TweetText  \\\n",
       "0       RT @FPC_Jaguars: Today is the day. Less than 2 hours until game time, get pumped! #JAXvsKC #DUUUVAL #ChiefsKingdom\\n\\nhttps://t.co/z0M3eA5z7n   \n",
       "1        Patty Cajones gonna learn today @michaelirvin88 less than 300 yards, less than 5 TDs and 1+ INT is my bold predicti… https://t.co/tsPU2fLHXi   \n",
       "2                                                      RT @Jaguars: It's 9:04 on game day!\\n\\nWe wanna hear you #DUUUVAL!!!!! https://t.co/P16PdB53yy   \n",
       "3                                                      RT @Jaguars: It's 9:04 on game day!\\n\\nWe wanna hear you #DUUUVAL!!!!! https://t.co/P16PdB53yy   \n",
       "4  RT @ActionNewsJax: #JAXvsKC Sunday Football!! \\n\\n🏈Countdown to Kickoff: 11:30 a.m. on CBS47 \\n\\n🏈 Kickoff: 1 p.m. on CBS47 \\n\\n🏈 LIVE UPDATES: h…   \n",
       "5                        Today is the day. Less than 2 hours until game time, get pumped! #JAXvsKC #DUUUVAL #ChiefsKingdom\\n\\nhttps://t.co/z0M3eA5z7n   \n",
       "6                                                                               RT @Jaguars: Ready to go to work.\\n\\n#DUUUVAL https://t.co/ilMaq0vLIM   \n",
       "7                                                                               RT @Jaguars: Ready to go to work.\\n\\n#DUUUVAL https://t.co/ilMaq0vLIM   \n",
       "8        My prediction for today’s game: it’s a story as old as time. Offense wins games, defense wins championships. Marron… https://t.co/CkHAvLorBy   \n",
       "9                                                                                                                    #DUUUVAL https://t.co/zyguC2PTR7   \n",
       "\n",
       "      afinn  \n",
       "0   Neutral  \n",
       "1  Positive  \n",
       "2   Neutral  \n",
       "3   Neutral  \n",
       "4   Neutral  \n",
       "5   Neutral  \n",
       "6   Neutral  \n",
       "7   Neutral  \n",
       "8  Positive  \n",
       "9   Neutral  "
      ]
     },
     "execution_count": 46,
     "metadata": {
      "tags": []
     },
     "output_type": "execute_result"
    }
   ],
   "source": [
    "jaguars_frame.iloc[0:10][['TweetText','afinn']]"
   ]
  },
  {
   "cell_type": "code",
   "execution_count": 47,
   "metadata": {
    "colab": {
     "base_uri": "https://localhost:8080/",
     "height": 347
    },
    "colab_type": "code",
    "id": "lJEqo2DPfM9q",
    "outputId": "5b74ed8e-03c3-4dc3-bc1a-5e403189857e"
   },
   "outputs": [
    {
     "data": {
      "text/html": [
       "<div>\n",
       "<style scoped>\n",
       "    .dataframe tbody tr th:only-of-type {\n",
       "        vertical-align: middle;\n",
       "    }\n",
       "\n",
       "    .dataframe tbody tr th {\n",
       "        vertical-align: top;\n",
       "    }\n",
       "\n",
       "    .dataframe thead th {\n",
       "        text-align: right;\n",
       "    }\n",
       "</style>\n",
       "<table border=\"1\" class=\"dataframe\">\n",
       "  <thead>\n",
       "    <tr style=\"text-align: right;\">\n",
       "      <th></th>\n",
       "      <th>TweetText</th>\n",
       "      <th>afinn</th>\n",
       "    </tr>\n",
       "  </thead>\n",
       "  <tbody>\n",
       "    <tr>\n",
       "      <th>1490</th>\n",
       "      <td>RT @Jaguars: Untouched.\\n\\n@T_Yeldon walks into the endzone!\\n\\n#DUUUVAL https://t.co/Mvx0HnDUXm</td>\n",
       "      <td>Neutral</td>\n",
       "    </tr>\n",
       "    <tr>\n",
       "      <th>1491</th>\n",
       "      <td>RT @Jaguars: It was only a matter of time.\\n\\n@YannGetSacks91 end the half with a sack. #DUUUVAL https://t.co/zEYRgL09XT</td>\n",
       "      <td>Positive</td>\n",
       "    </tr>\n",
       "    <tr>\n",
       "      <th>1492</th>\n",
       "      <td>RT @Jaguars: A score on every possession. Now let's finish it.\\n\\n#DUUUVAL https://t.co/o2AOUHBvBR</td>\n",
       "      <td>Neutral</td>\n",
       "    </tr>\n",
       "    <tr>\n",
       "      <th>1493</th>\n",
       "      <td>RT @Jaguars: 🙏 for @Campbell93 and this defense!\\n\\n#DUUUVAL https://t.co/DhApPzCsoO</td>\n",
       "      <td>Neutral</td>\n",
       "    </tr>\n",
       "    <tr>\n",
       "      <th>1494</th>\n",
       "      <td>RT @Jaguars: The catch, the run, the celebration for@drm_12.\\n\\n#DUUUVAL https://t.co/bepFSZFgfd</td>\n",
       "      <td>Neutral</td>\n",
       "    </tr>\n",
       "    <tr>\n",
       "      <th>1495</th>\n",
       "      <td>RT @Jaguars: Only 1 quarter left.\\n\\n#DUUUVAL https://t.co/aqK0nEX1cp</td>\n",
       "      <td>Neutral</td>\n",
       "    </tr>\n",
       "    <tr>\n",
       "      <th>1496</th>\n",
       "      <td>RT @Jaguars: Career high 9 catch, 130 yards for @DedeTHEGreat11 \\n\\n#DUUUVAL https://t.co/tsJsdgBmNZ</td>\n",
       "      <td>Neutral</td>\n",
       "    </tr>\n",
       "    <tr>\n",
       "      <th>1497</th>\n",
       "      <td>RT @Jaguars: We run NY. #DUUUVAL https://t.co/3Z1bvXZrBJ</td>\n",
       "      <td>Neutral</td>\n",
       "    </tr>\n",
       "    <tr>\n",
       "      <th>1498</th>\n",
       "      <td>RT @Jaguars: We run NY. #DUUUVAL https://t.co/3Z1bvXZrBJ</td>\n",
       "      <td>Neutral</td>\n",
       "    </tr>\n",
       "    <tr>\n",
       "      <th>1499</th>\n",
       "      <td>RT @Jaguars: Celebrating a career-high game for @DedeTHEGreat11 with a #DUUUVAL https://t.co/4j7lqb7cWw</td>\n",
       "      <td>Neutral</td>\n",
       "    </tr>\n",
       "  </tbody>\n",
       "</table>\n",
       "</div>"
      ],
      "text/plain": [
       "                                                                                                                     TweetText  \\\n",
       "1490                          RT @Jaguars: Untouched.\\n\\n@T_Yeldon walks into the endzone!\\n\\n#DUUUVAL https://t.co/Mvx0HnDUXm   \n",
       "1491  RT @Jaguars: It was only a matter of time.\\n\\n@YannGetSacks91 end the half with a sack. #DUUUVAL https://t.co/zEYRgL09XT   \n",
       "1492                        RT @Jaguars: A score on every possession. Now let's finish it.\\n\\n#DUUUVAL https://t.co/o2AOUHBvBR   \n",
       "1493                                      RT @Jaguars: 🙏 for @Campbell93 and this defense!\\n\\n#DUUUVAL https://t.co/DhApPzCsoO   \n",
       "1494                          RT @Jaguars: The catch, the run, the celebration for@drm_12.\\n\\n#DUUUVAL https://t.co/bepFSZFgfd   \n",
       "1495                                                     RT @Jaguars: Only 1 quarter left.\\n\\n#DUUUVAL https://t.co/aqK0nEX1cp   \n",
       "1496                      RT @Jaguars: Career high 9 catch, 130 yards for @DedeTHEGreat11 \\n\\n#DUUUVAL https://t.co/tsJsdgBmNZ   \n",
       "1497                                                                  RT @Jaguars: We run NY. #DUUUVAL https://t.co/3Z1bvXZrBJ   \n",
       "1498                                                                  RT @Jaguars: We run NY. #DUUUVAL https://t.co/3Z1bvXZrBJ   \n",
       "1499                   RT @Jaguars: Celebrating a career-high game for @DedeTHEGreat11 with a #DUUUVAL https://t.co/4j7lqb7cWw   \n",
       "\n",
       "         afinn  \n",
       "1490   Neutral  \n",
       "1491  Positive  \n",
       "1492   Neutral  \n",
       "1493   Neutral  \n",
       "1494   Neutral  \n",
       "1495   Neutral  \n",
       "1496   Neutral  \n",
       "1497   Neutral  \n",
       "1498   Neutral  \n",
       "1499   Neutral  "
      ]
     },
     "execution_count": 47,
     "metadata": {
      "tags": []
     },
     "output_type": "execute_result"
    }
   ],
   "source": [
    "jaguars_frame.iloc[1490:1501][['TweetText','afinn']]"
   ]
  },
  {
   "cell_type": "code",
   "execution_count": 48,
   "metadata": {
    "colab": {
     "base_uri": "https://localhost:8080/",
     "height": 312
    },
    "colab_type": "code",
    "id": "a-f_JRcSfNhx",
    "outputId": "0c26f19b-bab5-4184-f2b6-3d13441c0d31"
   },
   "outputs": [
    {
     "data": {
      "text/plain": [
       "<matplotlib.axes._subplots.AxesSubplot at 0x7fa321e78b38>"
      ]
     },
     "execution_count": 48,
     "metadata": {
      "tags": []
     },
     "output_type": "execute_result"
    },
    {
     "data": {
      "image/png": "[encoded data removed]",
      "text/plain": [
       "<matplotlib.figure.Figure at 0x7fa321e81518>"
      ]
     },
     "metadata": {
      "tags": []
     },
     "output_type": "display_data"
    }
   ],
   "source": [
    "# What does the sentiment distribution look like?\n",
    "%matplotlib inline\n",
    "import matplotlib as mpl\n",
    "import matplotlib.pyplot as plt\n",
    "\n",
    "# get a feel for the distribution\n",
    "jaguars_frame['afinn'].value_counts().plot(kind='bar')"
   ]
  },
  {
   "cell_type": "markdown",
   "metadata": {
    "colab_type": "text",
    "id": "VPAfQQtDxnbZ"
   },
   "source": [
    "### HL Dictionary"
   ]
  },
  {
   "cell_type": "markdown",
   "metadata": {
    "colab_type": "text",
    "id": "TZTAJAu1glG0"
   },
   "source": [
    "#### Define HL classes"
   ]
  },
  {
   "cell_type": "code",
   "execution_count": 51,
   "metadata": {
    "colab": {
     "base_uri": "https://localhost:8080/",
     "height": 87
    },
    "colab_type": "code",
    "id": "zCc6Ww2vxgeD",
    "outputId": "ef3f9e47-ce73-42dc-8da7-d0d52d0f3790"
   },
   "outputs": [
    {
     "name": "stdout",
     "output_type": "stream",
     "text": [
      "HL pos  size: 9\n",
      "HLpos.txt\n",
      "HL neg  size: 9\n",
      "HLneg.txt\n"
     ]
    }
   ],
   "source": [
    "HLpos = \"HLpos.txt\"\n",
    "HLneg = \"HLneg.txt\"\n",
    "print(\"HL pos  size: \" + str(len(HLpos)))\n",
    "print(HLpos[0:10])\n",
    "print(\"HL neg  size: \" + str(len(HLneg)))\n",
    "print(HLneg[0:10])\n",
    "\n",
    "# different dictionary\n",
    "# different measure\n",
    "\n",
    "def hl_sent(inputstring):\n",
    "\n",
    "    poscount = 0\n",
    "    negcount = 0\n",
    "    \n",
    "    for word in inputstring.split(): \n",
    "        if HLpos.count(word.rstrip('?:!.,;')):\n",
    "            poscount +=1\n",
    "        elif HLneg.count(word.rstrip('?:!.,;')):\n",
    "            negcount +=1\n",
    "     \n",
    "    \n",
    "    if poscount+negcount > 0:\n",
    "        t = float((poscount - negcount)/(poscount+negcount))    \n",
    "    else:\n",
    "        t = 0\n",
    "    \n",
    "    \n",
    "    if t > 0:\n",
    "        tone = \"Positive\"\n",
    "    elif t < 0:\n",
    "        tone = \"Negative\"\n",
    "    else:\n",
    "        tone = \"Neutral\"\n",
    "    \n",
    "    return tone"
   ]
  },
  {
   "cell_type": "markdown",
   "metadata": {
    "colab_type": "text",
    "id": "appcnb8QhS-a"
   },
   "source": [
    "#### Chiefs HL Sentiment"
   ]
  },
  {
   "cell_type": "code",
   "execution_count": 0,
   "metadata": {
    "colab": {},
    "colab_type": "code",
    "id": "uUP7oy5SxrY5"
   },
   "outputs": [],
   "source": [
    "chiefs_frame['hlsent'] = chiefs_frame[\"TweetText\"].apply(lambda x: hl_sent(x))"
   ]
  },
  {
   "cell_type": "code",
   "execution_count": 53,
   "metadata": {
    "colab": {
     "base_uri": "https://localhost:8080/",
     "height": 347
    },
    "colab_type": "code",
    "id": "r0GxlxT6xuEW",
    "outputId": "bb794591-d64d-4e4f-b30c-33cba5cd7182"
   },
   "outputs": [
    {
     "data": {
      "text/html": [
       "<div>\n",
       "<style scoped>\n",
       "    .dataframe tbody tr th:only-of-type {\n",
       "        vertical-align: middle;\n",
       "    }\n",
       "\n",
       "    .dataframe tbody tr th {\n",
       "        vertical-align: top;\n",
       "    }\n",
       "\n",
       "    .dataframe thead th {\n",
       "        text-align: right;\n",
       "    }\n",
       "</style>\n",
       "<table border=\"1\" class=\"dataframe\">\n",
       "  <thead>\n",
       "    <tr style=\"text-align: right;\">\n",
       "      <th></th>\n",
       "      <th>TweetText</th>\n",
       "      <th>afinn</th>\n",
       "      <th>hlsent</th>\n",
       "    </tr>\n",
       "  </thead>\n",
       "  <tbody>\n",
       "    <tr>\n",
       "      <th>0</th>\n",
       "      <td>SHOWTIME GONNA BRING THE MOTHERFUCKING PAIN! and I’m gonna make some chicken wings. #chiefs #ChiefsKingdom https://t.co/nVtNVd455w</td>\n",
       "      <td>Neutral</td>\n",
       "      <td>Neutral</td>\n",
       "    </tr>\n",
       "    <tr>\n",
       "      <th>1</th>\n",
       "      <td>GAME DAY || Biggest game of the season, the MVP looks ready to take it on. •••https://t.co/i277X1XX0y•••\\n•\\n••\\n•••… https://t.co/LsbBQ35n8A</td>\n",
       "      <td>Neutral</td>\n",
       "      <td>Neutral</td>\n",
       "    </tr>\n",
       "    <tr>\n",
       "      <th>2</th>\n",
       "      <td>@jalenramsey had a few things to say this week...\\n\\nFortunately, cheetah gets to have the final word, today.… https://t.co/K45gmnteMg</td>\n",
       "      <td>Neutral</td>\n",
       "      <td>Neutral</td>\n",
       "    </tr>\n",
       "    <tr>\n",
       "      <th>3</th>\n",
       "      <td>@ArrowheadPride Who are the #Chiefs wanting to trade for to upgrade the safety position ?</td>\n",
       "      <td>Positive</td>\n",
       "      <td>Positive</td>\n",
       "    </tr>\n",
       "    <tr>\n",
       "      <th>4</th>\n",
       "      <td>Game will be on &amp;amp; no poncho needed!! $4 any draft, $8.99 any slice with any pint.....!! #papakenoscrossroads… https://t.co/6Ef7TeuWLN</td>\n",
       "      <td>Negative</td>\n",
       "      <td>Neutral</td>\n",
       "    </tr>\n",
       "    <tr>\n",
       "      <th>5</th>\n",
       "      <td>Lots of #rain here in #KansasCity for the #CHIEFS - #Jaguars today...1.97\" last 24 hrs. ... view off my deck.... https://t.co/bE0EDblNfO</td>\n",
       "      <td>Neutral</td>\n",
       "      <td>Positive</td>\n",
       "    </tr>\n",
       "    <tr>\n",
       "      <th>6</th>\n",
       "      <td>RT @Gezee80: This rain ain’t stopping the faithful. Let’s get this W!! #ChiefsKingdom #Chiefs https://t.co/N4XBAEZPp4</td>\n",
       "      <td>Positive</td>\n",
       "      <td>Neutral</td>\n",
       "    </tr>\n",
       "    <tr>\n",
       "      <th>7</th>\n",
       "      <td>Listening to @SportsRadio810 for #Chiefs pregame! No other sports station comes close! Go CCHHIIEEFFSS!! #810SportsRadio</td>\n",
       "      <td>Neutral</td>\n",
       "      <td>Neutral</td>\n",
       "    </tr>\n",
       "    <tr>\n",
       "      <th>8</th>\n",
       "      <td>Rainy day here! Good day to watch #Chiefs🏈 #Brewers ⚾️ #Dodgers ⚾️ and #Cowboys🏈 #HR4HR</td>\n",
       "      <td>Neutral</td>\n",
       "      <td>Neutral</td>\n",
       "    </tr>\n",
       "    <tr>\n",
       "      <th>9</th>\n",
       "      <td>How many loans could Mahomes own on homes, if owned homes could be loaned by Mahomes? #Chiefs</td>\n",
       "      <td>Neutral</td>\n",
       "      <td>Neutral</td>\n",
       "    </tr>\n",
       "  </tbody>\n",
       "</table>\n",
       "</div>"
      ],
      "text/plain": [
       "                                                                                                                                       TweetText  \\\n",
       "0             SHOWTIME GONNA BRING THE MOTHERFUCKING PAIN! and I’m gonna make some chicken wings. #chiefs #ChiefsKingdom https://t.co/nVtNVd455w   \n",
       "1  GAME DAY || Biggest game of the season, the MVP looks ready to take it on. •••https://t.co/i277X1XX0y•••\\n•\\n••\\n•••… https://t.co/LsbBQ35n8A   \n",
       "2         @jalenramsey had a few things to say this week...\\n\\nFortunately, cheetah gets to have the final word, today.… https://t.co/K45gmnteMg   \n",
       "3                                                      @ArrowheadPride Who are the #Chiefs wanting to trade for to upgrade the safety position ?   \n",
       "4      Game will be on &amp; no poncho needed!! $4 any draft, $8.99 any slice with any pint.....!! #papakenoscrossroads… https://t.co/6Ef7TeuWLN   \n",
       "5       Lots of #rain here in #KansasCity for the #CHIEFS - #Jaguars today...1.97\" last 24 hrs. ... view off my deck.... https://t.co/bE0EDblNfO   \n",
       "6                          RT @Gezee80: This rain ain’t stopping the faithful. Let’s get this W!! #ChiefsKingdom #Chiefs https://t.co/N4XBAEZPp4   \n",
       "7                       Listening to @SportsRadio810 for #Chiefs pregame! No other sports station comes close! Go CCHHIIEEFFSS!! #810SportsRadio   \n",
       "8                                                        Rainy day here! Good day to watch #Chiefs🏈 #Brewers ⚾️ #Dodgers ⚾️ and #Cowboys🏈 #HR4HR   \n",
       "9                                                  How many loans could Mahomes own on homes, if owned homes could be loaned by Mahomes? #Chiefs   \n",
       "\n",
       "      afinn    hlsent  \n",
       "0   Neutral   Neutral  \n",
       "1   Neutral   Neutral  \n",
       "2   Neutral   Neutral  \n",
       "3  Positive  Positive  \n",
       "4  Negative   Neutral  \n",
       "5   Neutral  Positive  \n",
       "6  Positive   Neutral  \n",
       "7   Neutral   Neutral  \n",
       "8   Neutral   Neutral  \n",
       "9   Neutral   Neutral  "
      ]
     },
     "execution_count": 53,
     "metadata": {
      "tags": []
     },
     "output_type": "execute_result"
    }
   ],
   "source": [
    "chiefs_frame.iloc[0:10][['TweetText','afinn', 'hlsent']]"
   ]
  },
  {
   "cell_type": "markdown",
   "metadata": {
    "colab_type": "text",
    "id": "sObH3zkxxyVv"
   },
   "source": [
    "At first glance, it is clear that the HL dictionary has labeled the tweet sentiments with higher polarity. The distribution of the senitment labels will be illustrated below."
   ]
  },
  {
   "cell_type": "code",
   "execution_count": 55,
   "metadata": {
    "colab": {
     "base_uri": "https://localhost:8080/",
     "height": 308
    },
    "colab_type": "code",
    "id": "MNG4V1VzRIzZ",
    "outputId": "832844f7-4395-4b94-d2e2-50c3c20f400b"
   },
   "outputs": [
    {
     "data": {
      "text/plain": [
       "<matplotlib.axes._subplots.AxesSubplot at 0x7fa31f5446d8>"
      ]
     },
     "execution_count": 55,
     "metadata": {
      "tags": []
     },
     "output_type": "execute_result"
    },
    {
     "data": {
      "image/png": "[encoded data removed]",
      "text/plain": [
       "<matplotlib.figure.Figure at 0x7fa31f5a9ef0>"
      ]
     },
     "metadata": {
      "tags": []
     },
     "output_type": "display_data"
    }
   ],
   "source": [
    "# What does the sentiment distribution look like?\n",
    "%matplotlib inline\n",
    "import matplotlib as mpl\n",
    "import matplotlib.pyplot as plt\n",
    "\n",
    "# get a feel for the distribution\n",
    "chiefs_frame['hlsent'].value_counts().plot(kind='bar')"
   ]
  },
  {
   "cell_type": "markdown",
   "metadata": {
    "colab_type": "text",
    "id": "EHwPf6_YROVr"
   },
   "source": [
    "Although the neutral sentiment label still holds a large majority in the senitment distribution, there are enough negative and positive sentiment labels to aid in the analysis. The even distribution between negative and positive labels is interesting. Since the Tweets were scraped from the day when the FBI released its investigation of sexual assault allegations, and since news has indicated that the FBI did not find any incriminating evidence, it makes sense that there would be an even split on either side's sentiment. It may be too early to determine this, however. "
   ]
  },
  {
   "cell_type": "markdown",
   "metadata": {
    "colab_type": "text",
    "id": "W0i9puHeheUb"
   },
   "source": [
    "#### Jaguars HL Sentiment"
   ]
  },
  {
   "cell_type": "code",
   "execution_count": 0,
   "metadata": {
    "colab": {},
    "colab_type": "code",
    "id": "khZdKeH1hjM7"
   },
   "outputs": [],
   "source": [
    "jaguars_frame['hlsent'] = jaguars_frame[\"TweetText\"].apply(lambda x: hl_sent(x))"
   ]
  },
  {
   "cell_type": "code",
   "execution_count": 57,
   "metadata": {
    "colab": {
     "base_uri": "https://localhost:8080/",
     "height": 347
    },
    "colab_type": "code",
    "id": "uSP-nKwfhlsE",
    "outputId": "6fb586fe-bade-46b2-b1eb-710c88a7aa12"
   },
   "outputs": [
    {
     "data": {
      "text/html": [
       "<div>\n",
       "<style scoped>\n",
       "    .dataframe tbody tr th:only-of-type {\n",
       "        vertical-align: middle;\n",
       "    }\n",
       "\n",
       "    .dataframe tbody tr th {\n",
       "        vertical-align: top;\n",
       "    }\n",
       "\n",
       "    .dataframe thead th {\n",
       "        text-align: right;\n",
       "    }\n",
       "</style>\n",
       "<table border=\"1\" class=\"dataframe\">\n",
       "  <thead>\n",
       "    <tr style=\"text-align: right;\">\n",
       "      <th></th>\n",
       "      <th>TweetText</th>\n",
       "      <th>afinn</th>\n",
       "      <th>hlsent</th>\n",
       "    </tr>\n",
       "  </thead>\n",
       "  <tbody>\n",
       "    <tr>\n",
       "      <th>0</th>\n",
       "      <td>RT @FPC_Jaguars: Today is the day. Less than 2 hours until game time, get pumped! #JAXvsKC #DUUUVAL #ChiefsKingdom\\n\\nhttps://t.co/z0M3eA5z7n</td>\n",
       "      <td>Neutral</td>\n",
       "      <td>Neutral</td>\n",
       "    </tr>\n",
       "    <tr>\n",
       "      <th>1</th>\n",
       "      <td>Patty Cajones gonna learn today @michaelirvin88 less than 300 yards, less than 5 TDs and 1+ INT is my bold predicti… https://t.co/tsPU2fLHXi</td>\n",
       "      <td>Positive</td>\n",
       "      <td>Neutral</td>\n",
       "    </tr>\n",
       "    <tr>\n",
       "      <th>2</th>\n",
       "      <td>RT @Jaguars: It's 9:04 on game day!\\n\\nWe wanna hear you #DUUUVAL!!!!! https://t.co/P16PdB53yy</td>\n",
       "      <td>Neutral</td>\n",
       "      <td>Neutral</td>\n",
       "    </tr>\n",
       "    <tr>\n",
       "      <th>3</th>\n",
       "      <td>RT @Jaguars: It's 9:04 on game day!\\n\\nWe wanna hear you #DUUUVAL!!!!! https://t.co/P16PdB53yy</td>\n",
       "      <td>Neutral</td>\n",
       "      <td>Neutral</td>\n",
       "    </tr>\n",
       "    <tr>\n",
       "      <th>4</th>\n",
       "      <td>RT @ActionNewsJax: #JAXvsKC Sunday Football!! \\n\\n🏈Countdown to Kickoff: 11:30 a.m. on CBS47 \\n\\n🏈 Kickoff: 1 p.m. on CBS47 \\n\\n🏈 LIVE UPDATES: h…</td>\n",
       "      <td>Neutral</td>\n",
       "      <td>Neutral</td>\n",
       "    </tr>\n",
       "    <tr>\n",
       "      <th>5</th>\n",
       "      <td>Today is the day. Less than 2 hours until game time, get pumped! #JAXvsKC #DUUUVAL #ChiefsKingdom\\n\\nhttps://t.co/z0M3eA5z7n</td>\n",
       "      <td>Neutral</td>\n",
       "      <td>Neutral</td>\n",
       "    </tr>\n",
       "    <tr>\n",
       "      <th>6</th>\n",
       "      <td>RT @Jaguars: Ready to go to work.\\n\\n#DUUUVAL https://t.co/ilMaq0vLIM</td>\n",
       "      <td>Neutral</td>\n",
       "      <td>Neutral</td>\n",
       "    </tr>\n",
       "    <tr>\n",
       "      <th>7</th>\n",
       "      <td>RT @Jaguars: Ready to go to work.\\n\\n#DUUUVAL https://t.co/ilMaq0vLIM</td>\n",
       "      <td>Neutral</td>\n",
       "      <td>Neutral</td>\n",
       "    </tr>\n",
       "    <tr>\n",
       "      <th>8</th>\n",
       "      <td>My prediction for today’s game: it’s a story as old as time. Offense wins games, defense wins championships. Marron… https://t.co/CkHAvLorBy</td>\n",
       "      <td>Positive</td>\n",
       "      <td>Neutral</td>\n",
       "    </tr>\n",
       "    <tr>\n",
       "      <th>9</th>\n",
       "      <td>#DUUUVAL https://t.co/zyguC2PTR7</td>\n",
       "      <td>Neutral</td>\n",
       "      <td>Neutral</td>\n",
       "    </tr>\n",
       "  </tbody>\n",
       "</table>\n",
       "</div>"
      ],
      "text/plain": [
       "                                                                                                                                            TweetText  \\\n",
       "0       RT @FPC_Jaguars: Today is the day. Less than 2 hours until game time, get pumped! #JAXvsKC #DUUUVAL #ChiefsKingdom\\n\\nhttps://t.co/z0M3eA5z7n   \n",
       "1        Patty Cajones gonna learn today @michaelirvin88 less than 300 yards, less than 5 TDs and 1+ INT is my bold predicti… https://t.co/tsPU2fLHXi   \n",
       "2                                                      RT @Jaguars: It's 9:04 on game day!\\n\\nWe wanna hear you #DUUUVAL!!!!! https://t.co/P16PdB53yy   \n",
       "3                                                      RT @Jaguars: It's 9:04 on game day!\\n\\nWe wanna hear you #DUUUVAL!!!!! https://t.co/P16PdB53yy   \n",
       "4  RT @ActionNewsJax: #JAXvsKC Sunday Football!! \\n\\n🏈Countdown to Kickoff: 11:30 a.m. on CBS47 \\n\\n🏈 Kickoff: 1 p.m. on CBS47 \\n\\n🏈 LIVE UPDATES: h…   \n",
       "5                        Today is the day. Less than 2 hours until game time, get pumped! #JAXvsKC #DUUUVAL #ChiefsKingdom\\n\\nhttps://t.co/z0M3eA5z7n   \n",
       "6                                                                               RT @Jaguars: Ready to go to work.\\n\\n#DUUUVAL https://t.co/ilMaq0vLIM   \n",
       "7                                                                               RT @Jaguars: Ready to go to work.\\n\\n#DUUUVAL https://t.co/ilMaq0vLIM   \n",
       "8        My prediction for today’s game: it’s a story as old as time. Offense wins games, defense wins championships. Marron… https://t.co/CkHAvLorBy   \n",
       "9                                                                                                                    #DUUUVAL https://t.co/zyguC2PTR7   \n",
       "\n",
       "      afinn   hlsent  \n",
       "0   Neutral  Neutral  \n",
       "1  Positive  Neutral  \n",
       "2   Neutral  Neutral  \n",
       "3   Neutral  Neutral  \n",
       "4   Neutral  Neutral  \n",
       "5   Neutral  Neutral  \n",
       "6   Neutral  Neutral  \n",
       "7   Neutral  Neutral  \n",
       "8  Positive  Neutral  \n",
       "9   Neutral  Neutral  "
      ]
     },
     "execution_count": 57,
     "metadata": {
      "tags": []
     },
     "output_type": "execute_result"
    }
   ],
   "source": [
    "jaguars_frame.iloc[0:10][['TweetText','afinn', 'hlsent']]"
   ]
  },
  {
   "cell_type": "markdown",
   "metadata": {
    "colab_type": "text",
    "id": "wZ6bHpUYhqOb"
   },
   "source": [
    "At first glance, it is clear that the HL dictionary has labeled the tweet sentiments with higher polarity. The distribution of the senitment labels will be illustrated below."
   ]
  },
  {
   "cell_type": "code",
   "execution_count": 58,
   "metadata": {
    "colab": {
     "base_uri": "https://localhost:8080/",
     "height": 312
    },
    "colab_type": "code",
    "id": "WFxln7CFhv6a",
    "outputId": "b0efe230-dbbf-4815-df70-99098fd247c2"
   },
   "outputs": [
    {
     "data": {
      "text/plain": [
       "<matplotlib.axes._subplots.AxesSubplot at 0x7fa31f4e7cc0>"
      ]
     },
     "execution_count": 58,
     "metadata": {
      "tags": []
     },
     "output_type": "execute_result"
    },
    {
     "data": {
      "image/png": "[encoded data removed]",
      "text/plain": [
       "<matplotlib.figure.Figure at 0x7fa31f5be198>"
      ]
     },
     "metadata": {
      "tags": []
     },
     "output_type": "display_data"
    }
   ],
   "source": [
    "# What does the sentiment distribution look like?\n",
    "%matplotlib inline\n",
    "import matplotlib as mpl\n",
    "import matplotlib.pyplot as plt\n",
    "\n",
    "# get a feel for the distribution\n",
    "jaguars_frame['hlsent'].value_counts().plot(kind='bar')"
   ]
  },
  {
   "cell_type": "markdown",
   "metadata": {
    "colab_type": "text",
    "id": "3BsV4cGjhy8H"
   },
   "source": [
    "Although the neutral sentiment label still holds a large majority in the senitment distribution, there are enough negative and positive sentiment labels to aid in the analysis. The even distribution between negative and positive labels is interesting. Since the Tweets were scraped from the day when the FBI released its investigation of sexual assault allegations, and since news has indicated that the FBI did not find any incriminating evidence, it makes sense that there would be an even split on either side's sentiment. It may be too early to determine this, however. "
   ]
  },
  {
   "cell_type": "markdown",
   "metadata": {
    "colab_type": "text",
    "id": "U188Ir9yRPdM"
   },
   "source": [
    "## Amplification and Negation\n",
    "\n",
    "We will add amplifying and negating weights onto the words in the Tweets to see if and how it affects the sentiment labels."
   ]
  },
  {
   "cell_type": "code",
   "execution_count": 0,
   "metadata": {
    "colab": {},
    "colab_type": "code",
    "id": "6ZMB7e0sRO-0"
   },
   "outputs": [],
   "source": [
    "#more complicated sentiment calculations\n",
    "#create all the dictionaries just once\n",
    "\n",
    "#amplification and negation words from qdap\n",
    "negate = [\"aint\", \"arent\",\"cant\", \"couldnt\" , \"didnt\" , \"doesnt\" ,\"dont\" ,\"hasnt\" , \n",
    "          \"isnt\" ,\"mightnt\" , \"mustnt\" ,\"neither\" ,\"never\", \"no\" ,\"nobody\" , \"nor\", \n",
    "          \"not\" , \"shant\", \"shouldnt\", \"wasnt\" , \"werent\" ,\"wont\", \"wouldnt\"]\n",
    "amplify = [\"acute\" ,\"acutely\", \"certain\", \"certainly\" ,\"colossal\", \"colossally\",\n",
    "           \"deep\" , \"deeply\" , \"definite\",\"definitely\" ,\"enormous\",\"enormously\" , \n",
    "           \"extreme\", \"extremely\" ,\"great\",\"greatly\" ,\"heavily\", \"heavy\", \"high\",\n",
    "           \"highly\" ,\"huge\",\"hugely\" , \"immense\", \"immensely\" ,\"incalculable\" ,\n",
    "           \"incalculably\",\"massive\", \"massively\", \"more\",\"particular\" ,\"particularly\",\n",
    "           \"purpose\", \"purposely\", \"quite\" ,\"real\" ,\"really\",\"serious\", \"seriously\", \n",
    "           \"severe\",\"severely\" ,\"significant\" ,\"significantly\",\"sure\",\"surely\" , \"true\" ,\n",
    "           \"truly\" ,\"vast\" , \"vastly\" , \"very\"]"
   ]
  },
  {
   "cell_type": "code",
   "execution_count": 0,
   "metadata": {
    "colab": {},
    "colab_type": "code",
    "id": "fu6HSQwfRYtq"
   },
   "outputs": [],
   "source": [
    "def hl_sent2(inputstring):\n",
    "\n",
    "    poscount = 0\n",
    "    negcount = 0\n",
    "    i = 0\n",
    "\n",
    "\n",
    "    for word in inputstring.split():\n",
    "        if i > 0:\n",
    "            prev = inputstring.split().pop(i-1)\n",
    "        else:\n",
    "            prev =\"\"\n",
    "\n",
    "        if HLpos.count(word):\n",
    "            if negate.count(prev):\n",
    "                negcount += 1\n",
    "            elif amplify.count(prev):\n",
    "                poscount +=2\n",
    "            else: \n",
    "                poscount +=1\n",
    "        elif HLneg.count(word):\n",
    "            if negate.count(prev):\n",
    "                poscount += 1\n",
    "            elif amplify.count(prev):\n",
    "                negcount +=2\n",
    "            else:\n",
    "                negcount +=1\n",
    "        i+=1\n",
    "    \n",
    "    if poscount+negcount > 0:\n",
    "        t = float((poscount - negcount)/(poscount+negcount))\n",
    "        \n",
    "    else:\n",
    "        t = 0\n",
    "    \n",
    "    \n",
    "    if t > 0:\n",
    "        tone = \"Positive\"\n",
    "    elif t < 0:\n",
    "        tone = \"Negative\"\n",
    "    else:\n",
    "        tone = \"Neutral\"\n",
    "    \n",
    "    return tone"
   ]
  },
  {
   "cell_type": "markdown",
   "metadata": {
    "colab_type": "text",
    "id": "nubbOIrO3ZCl"
   },
   "source": [
    "### Chiefs Sentiment "
   ]
  },
  {
   "cell_type": "code",
   "execution_count": 0,
   "metadata": {
    "colab": {},
    "colab_type": "code",
    "id": "F5eLwIzHRcgf"
   },
   "outputs": [],
   "source": [
    "chiefs_frame['hl_sent2'] = chiefs_frame[\"TweetText\"].apply(lambda x: hl_sent2(x))"
   ]
  },
  {
   "cell_type": "code",
   "execution_count": 63,
   "metadata": {
    "colab": {
     "base_uri": "https://localhost:8080/",
     "height": 230
    },
    "colab_type": "code",
    "id": "byddADgXRdNV",
    "outputId": "c42c1999-8040-4959-9a01-5c472baeb24a"
   },
   "outputs": [
    {
     "data": {
      "text/plain": [
       "490    Neutral\n",
       "491    Neutral\n",
       "492    Neutral\n",
       "493    Neutral\n",
       "494    Neutral\n",
       "495    Neutral\n",
       "496    Neutral\n",
       "497    Neutral\n",
       "498    Neutral\n",
       "499    Neutral\n",
       "500    Neutral\n",
       "Name: hl_sent2, dtype: object"
      ]
     },
     "execution_count": 63,
     "metadata": {
      "tags": []
     },
     "output_type": "execute_result"
    }
   ],
   "source": [
    "chiefs_frame.iloc[490:501]['hl_sent2']"
   ]
  },
  {
   "cell_type": "code",
   "execution_count": 64,
   "metadata": {
    "colab": {
     "base_uri": "https://localhost:8080/",
     "height": 308
    },
    "colab_type": "code",
    "id": "mADEcFUnRhho",
    "outputId": "1c78ba93-6fd0-4285-a337-9aa5164ff411"
   },
   "outputs": [
    {
     "data": {
      "text/plain": [
       "<matplotlib.axes._subplots.AxesSubplot at 0x7fa31f45d4e0>"
      ]
     },
     "execution_count": 64,
     "metadata": {
      "tags": []
     },
     "output_type": "execute_result"
    },
    {
     "data": {
      "image/png": "[encoded data removed]",
      "text/plain": [
       "<matplotlib.figure.Figure at 0x7fa31f5be748>"
      ]
     },
     "metadata": {
      "tags": []
     },
     "output_type": "display_data"
    }
   ],
   "source": [
    "# What does the sentiment distribution look like?\n",
    "%matplotlib inline\n",
    "import matplotlib as mpl\n",
    "import matplotlib.pyplot as plt\n",
    "\n",
    "# get a feel for the distribution\n",
    "chiefs_frame['hl_sent2'].value_counts().plot(kind='bar')"
   ]
  },
  {
   "cell_type": "markdown",
   "metadata": {
    "colab_type": "text",
    "id": "n-67TOAIS_z1"
   },
   "source": [
    "Adding amplification and negation to the list of words does not seem to have changed anything in the distribution of sentiment labels. "
   ]
  },
  {
   "cell_type": "markdown",
   "metadata": {
    "colab_type": "text",
    "id": "1p05qES53huJ"
   },
   "source": [
    "### Jaguars Sentiment"
   ]
  },
  {
   "cell_type": "code",
   "execution_count": 0,
   "metadata": {
    "colab": {},
    "colab_type": "code",
    "id": "ue5x4Mwu3lqD"
   },
   "outputs": [],
   "source": [
    "jaguars_frame['hl_sent2'] = jaguars_frame[\"TweetText\"].apply(lambda x: hl_sent2(x))"
   ]
  },
  {
   "cell_type": "code",
   "execution_count": 66,
   "metadata": {
    "colab": {
     "base_uri": "https://localhost:8080/",
     "height": 230
    },
    "colab_type": "code",
    "id": "AZfiRPKe3ldj",
    "outputId": "a715101c-6c64-4a5c-f77c-5caf37b70ef4"
   },
   "outputs": [
    {
     "data": {
      "text/plain": [
       "490    Neutral\n",
       "491    Neutral\n",
       "492    Neutral\n",
       "493    Neutral\n",
       "494    Neutral\n",
       "495    Neutral\n",
       "496    Neutral\n",
       "497    Neutral\n",
       "498    Neutral\n",
       "499    Neutral\n",
       "500    Neutral\n",
       "Name: hl_sent2, dtype: object"
      ]
     },
     "execution_count": 66,
     "metadata": {
      "tags": []
     },
     "output_type": "execute_result"
    }
   ],
   "source": [
    "jaguars_frame.iloc[490:501]['hl_sent2']"
   ]
  },
  {
   "cell_type": "code",
   "execution_count": 67,
   "metadata": {
    "colab": {
     "base_uri": "https://localhost:8080/",
     "height": 312
    },
    "colab_type": "code",
    "id": "729OhsBg3k2o",
    "outputId": "996cb9c4-785d-4822-a914-33f1e0519dbc"
   },
   "outputs": [
    {
     "data": {
      "text/plain": [
       "<matplotlib.axes._subplots.AxesSubplot at 0x7fa31f4ee860>"
      ]
     },
     "execution_count": 67,
     "metadata": {
      "tags": []
     },
     "output_type": "execute_result"
    },
    {
     "data": {
      "image/png": "[encoded data removed]",
      "text/plain": [
       "<matplotlib.figure.Figure at 0x7fa31f401668>"
      ]
     },
     "metadata": {
      "tags": []
     },
     "output_type": "display_data"
    }
   ],
   "source": [
    "# What does the sentiment distribution look like?\n",
    "%matplotlib inline\n",
    "import matplotlib as mpl\n",
    "import matplotlib.pyplot as plt\n",
    "\n",
    "# get a feel for the distribution\n",
    "jaguars_frame['hl_sent2'].value_counts().plot(kind='bar')"
   ]
  },
  {
   "cell_type": "markdown",
   "metadata": {
    "colab_type": "text",
    "id": "Er9MpSgT3mN6"
   },
   "source": [
    "Adding amplification and negation to the list of words does not seem to have changed anything in the distribution of sentiment labels. "
   ]
  }
 ],
 "metadata": {
  "colab": {
   "name": "BIA6304_FinalProject.ipynb",
   "provenance": [],
   "toc_visible": true,
   "version": "0.3.2"
  },
  "kernelspec": {
   "display_name": "Python 3",
   "language": "python",
   "name": "python3"
  },
  "language_info": {
   "codemirror_mode": {
    "name": "ipython",
    "version": 3
   },
   "file_extension": ".py",
   "mimetype": "text/x-python",
   "name": "python",
   "nbconvert_exporter": "python",
   "pygments_lexer": "ipython3",
   "version": "3.6.4"
  }
 },
 "nbformat": 4,
 "nbformat_minor": 1
}
